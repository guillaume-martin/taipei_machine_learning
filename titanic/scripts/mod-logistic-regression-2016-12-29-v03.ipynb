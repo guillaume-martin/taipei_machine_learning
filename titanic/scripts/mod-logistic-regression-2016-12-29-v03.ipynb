{
 "cells": [
  {
   "cell_type": "markdown",
   "metadata": {},
   "source": [
    "# Model Optimization\n",
    "\n",
    "In this attempt, I'll manually select the features following intuition ;)"
   ]
  },
  {
   "cell_type": "code",
   "execution_count": 2,
   "metadata": {
    "collapsed": false
   },
   "outputs": [],
   "source": [
    "import pandas as pd\n",
    "import numpy as np\n",
    "from sklearn.linear_model import LogisticRegression"
   ]
  },
  {
   "cell_type": "code",
   "execution_count": 3,
   "metadata": {
    "collapsed": false
   },
   "outputs": [
    {
     "data": {
      "text/plain": [
       "Index(['PassengerId', 'Survived', 'Age', 'SibSp', 'Parch', 'Fare',\n",
       "       'FamilySize', 'Pclass_1', 'Pclass_2', 'Pclass_3', 'Sex_female',\n",
       "       'Sex_male', 'AgeBins_(0, 15]', 'AgeBins_(15, 25]', 'AgeBins_(25, 35]',\n",
       "       'AgeBins_(35, 45]', 'AgeBins_(45, 55]', 'AgeBins_(55, 65]',\n",
       "       'AgeBins_(65, 75]', 'AgeBins_(75, 85]', 'Embarked_C', 'Embarked_Q',\n",
       "       'Embarked_S', 'Title_Dr', 'Title_Master', 'Title_Miss', 'Title_Mr',\n",
       "       'Title_Mrs', 'Title_Officer', 'Title_Royalty', 'Deck_A', 'Deck_B',\n",
       "       'Deck_C', 'Deck_D', 'Deck_E', 'Deck_F', 'Deck_G', 'Deck_T', 'Deck_U0'],\n",
       "      dtype='object')"
      ]
     },
     "execution_count": 3,
     "metadata": {},
     "output_type": "execute_result"
    }
   ],
   "source": [
    "df = pd.read_csv('../input/processed_train.csv')\n",
    "df.columns"
   ]
  },
  {
   "cell_type": "code",
   "execution_count": 4,
   "metadata": {
    "collapsed": true
   },
   "outputs": [],
   "source": [
    "features = ['FamilySize','Pclass_1','Sex_female','AgeBins_(35, 45]','Fare']"
   ]
  },
  {
   "cell_type": "code",
   "execution_count": 6,
   "metadata": {
    "collapsed": false
   },
   "outputs": [
    {
     "data": {
      "text/plain": [
       "(891, 5)"
      ]
     },
     "execution_count": 6,
     "metadata": {},
     "output_type": "execute_result"
    }
   ],
   "source": [
    "X = np.array(df[features])\n",
    "y = np.array(df['Survived'])\n",
    "X.shape"
   ]
  },
  {
   "cell_type": "code",
   "execution_count": 7,
   "metadata": {
    "collapsed": true
   },
   "outputs": [],
   "source": [
    "clf = LogisticRegression()"
   ]
  },
  {
   "cell_type": "code",
   "execution_count": 8,
   "metadata": {
    "collapsed": false
   },
   "outputs": [
    {
     "name": "stdout",
     "output_type": "stream",
     "text": [
      "Accuracy = 0.792\n"
     ]
    }
   ],
   "source": [
    "# get base line for accuracy\n",
    "from sklearn.model_selection import cross_val_score\n",
    "lr = LogisticRegression()\n",
    "scores = cross_val_score(lr, X, y, cv=10, scoring='accuracy')\n",
    "print('Accuracy = %.3f' % scores.mean())"
   ]
  },
  {
   "cell_type": "markdown",
   "metadata": {},
   "source": [
    "## parameters optimization"
   ]
  },
  {
   "cell_type": "code",
   "execution_count": 10,
   "metadata": {
    "collapsed": true
   },
   "outputs": [],
   "source": [
    "from sklearn.model_selection import GridSearchCV\n",
    "\n",
    "def get_best_params(model, X, y, param_grid):\n",
    "    ''' get the parameters that return the best score\n",
    "    parameters\n",
    "    ----------\n",
    "        model object\n",
    "            a supervised learning estimator\n",
    "        X    array\n",
    "            training set\n",
    "        y    array\n",
    "            target values\n",
    "        param_grid    dictionary\n",
    "            the list of parameters and their possible values\n",
    "    output\n",
    "    ------\n",
    "        best_params    dictionary\n",
    "            the best value for each parameter in initial list\n",
    "    '''\n",
    "    \n",
    "    scoring = 'accuracy'\n",
    "    cv = 10\n",
    "    \n",
    "    grid = GridSearchCV(clf, \n",
    "                        param_grid,\n",
    "                        scoring = scoring,\n",
    "                        n_jobs = 1,\n",
    "                        cv = cv)\n",
    "    \n",
    "    grid.fit(X,y)\n",
    "    \n",
    "    print(grid.best_score_)\n",
    "    print(grid.best_estimator_)"
   ]
  },
  {
   "cell_type": "code",
   "execution_count": 11,
   "metadata": {
    "collapsed": false,
    "scrolled": false
   },
   "outputs": [
    {
     "name": "stdout",
     "output_type": "stream",
     "text": [
      "0.800224466891\n",
      "LogisticRegression(C=0.1, class_weight=None, dual=False, fit_intercept=True,\n",
      "          intercept_scaling=1, max_iter=100, multi_class='ovr', n_jobs=1,\n",
      "          penalty='l2', random_state=None, solver='liblinear', tol=0.0001,\n",
      "          verbose=0, warm_start=False)\n"
     ]
    }
   ],
   "source": [
    "param_grid = {'solver': ['liblinear','newton-cg','lbfgs'],\n",
    "              'penalty': ['l2'],\n",
    "              'C': [0.001, 0.01, 0.1, 1, 10, 100, 1000],\n",
    "              'fit_intercept': [True,False],\n",
    "              'intercept_scaling':[0.001, 0.01, 0.1, 1, 10, 100, 1000]\n",
    "              }\n",
    "\n",
    "get_best_params(clf,X,y,param_grid)"
   ]
  },
  {
   "cell_type": "markdown",
   "metadata": {
    "collapsed": true
   },
   "source": [
    "## train the model"
   ]
  },
  {
   "cell_type": "code",
   "execution_count": 12,
   "metadata": {
    "collapsed": true
   },
   "outputs": [],
   "source": [
    "from sklearn.model_selection import train_test_split, learning_curve\n",
    "from sklearn import metrics \n",
    "\n",
    "clf = LogisticRegression(C=1, class_weight=None, dual=False, fit_intercept=True,\n",
    "          intercept_scaling=1, max_iter=100, multi_class='ovr', n_jobs=1,\n",
    "          penalty='l2', random_state=None, solver='liblinear', tol=0.0001,\n",
    "          verbose=0, warm_start=False)\n",
    "\n",
    "X_train, X_test, y_train, y_test = train_test_split(X, y, test_size=.2)\n",
    "\n",
    "clf.fit(X_train, y_train)\n",
    "predictions = clf.predict(X_test)"
   ]
  },
  {
   "cell_type": "code",
   "execution_count": 13,
   "metadata": {
    "collapsed": false
   },
   "outputs": [
    {
     "data": {
      "text/plain": [
       "0.75418994413407825"
      ]
     },
     "execution_count": 13,
     "metadata": {},
     "output_type": "execute_result"
    }
   ],
   "source": [
    "clf.score(X_test,y_test)"
   ]
  },
  {
   "cell_type": "code",
   "execution_count": 14,
   "metadata": {
    "collapsed": false
   },
   "outputs": [
    {
     "name": "stdout",
     "output_type": "stream",
     "text": [
      "Predicted   0   1\n",
      "Actual           \n",
      "0          90  18\n",
      "1          26  45\n",
      "             precision    recall  f1-score   support\n",
      "\n",
      "          0       0.78      0.83      0.80       108\n",
      "          1       0.71      0.63      0.67        71\n",
      "\n",
      "avg / total       0.75      0.75      0.75       179\n",
      "\n"
     ]
    }
   ],
   "source": [
    "cm = pd.crosstab(y_test, predictions, rownames=['Actual'], colnames=['Predicted'])\n",
    "print(cm)\n",
    "print(metrics.classification_report(y_test, predictions))"
   ]
  },
  {
   "cell_type": "code",
   "execution_count": 16,
   "metadata": {
    "collapsed": false
   },
   "outputs": [
    {
     "data": {
      "image/png": "[encoded data removed]",
      "text/plain": [
       "<matplotlib.figure.Figure at 0x7ff4c84d38d0>"
      ]
     },
     "metadata": {},
     "output_type": "display_data"
    }
   ],
   "source": [
    "import matplotlib.pyplot as plt\n",
    "train_sizes, train_scores, test_scores = learning_curve(lr, X, \n",
    "                                                        y, \n",
    "                                                        cv=10, \n",
    "                                                        train_sizes=np.linspace(.1, 1.0, 5))\n",
    "\n",
    "train_scores_mean = np.mean(train_scores, axis=1)\n",
    "train_scores_std = np.std(train_scores, axis=1)\n",
    "test_scores_mean = np.mean(test_scores, axis=1)\n",
    "test_scores_std = np.std(test_scores, axis=1)\n",
    "\n",
    "\n",
    "plt.figure()\n",
    "plt.grid()\n",
    "\n",
    "plt.fill_between(train_sizes, \n",
    "                train_scores_mean - train_scores_std,\n",
    "                train_scores_mean + train_scores_std,\n",
    "                alpha=0.1, color='r')\n",
    "plt.fill_between(train_sizes, \n",
    "                test_scores_mean - test_scores_std,\n",
    "                test_scores_mean + test_scores_std,\n",
    "                alpha=0.1, color='g')\n",
    "\n",
    "plt.plot(train_sizes, train_scores_mean, 'o-', color='r',\n",
    "         label='Training score')\n",
    "plt.plot(train_sizes, test_scores_mean, 'o-', color='g',\n",
    "         label='Cross-validation score')\n",
    "\n",
    "plt.xlabel('Training examples')\n",
    "plt.ylabel('Score')\n",
    "plt.legend(loc='best')\n",
    "plt.show()  "
   ]
  },
  {
   "cell_type": "markdown",
   "metadata": {},
   "source": [
    "## submit"
   ]
  },
  {
   "cell_type": "code",
   "execution_count": 18,
   "metadata": {
    "collapsed": false
   },
   "outputs": [],
   "source": [
    "test = pd.read_csv('../input/processed_test.csv')\n",
    "X_sub = np.array(test[features])"
   ]
  },
  {
   "cell_type": "code",
   "execution_count": 19,
   "metadata": {
    "collapsed": true
   },
   "outputs": [],
   "source": [
    "y_sub = clf.predict(X_sub)\n",
    "submission = pd.DataFrame({'PassengerId': test['PassengerId'],\n",
    "                           'Survived': y_sub})\n",
    "submission.to_csv('../output/tmlc_20161229_03.csv')"
   ]
  },
  {
   "cell_type": "code",
   "execution_count": null,
   "metadata": {
    "collapsed": true
   },
   "outputs": [],
   "source": []
  }
 ],
 "metadata": {
  "anaconda-cloud": {},
  "kernelspec": {
   "display_name": "Python [conda root]",
   "language": "python",
   "name": "conda-root-py"
  },
  "language_info": {
   "codemirror_mode": {
    "name": "ipython",
    "version": 3
   },
   "file_extension": ".py",
   "mimetype": "text/x-python",
   "name": "python",
   "nbconvert_exporter": "python",
   "pygments_lexer": "ipython3",
   "version": "3.5.2"
  }
 },
 "nbformat": 4,
 "nbformat_minor": 1
}
