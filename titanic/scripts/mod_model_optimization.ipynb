{
 "cells": [
  {
   "cell_type": "markdown",
   "metadata": {},
   "source": [
    "# Model Optimization\n",
    "\n",
    "In this part, I am going to work with logistic regression.  \n",
    "First, I'll do some features selections, then I'll work on the parameters optimization"
   ]
  },
  {
   "cell_type": "code",
   "execution_count": 1,
   "metadata": {
    "collapsed": false
   },
   "outputs": [],
   "source": [
    "import pandas as pd\n",
    "import numpy as np\n",
    "from sklearn.linear_model import LogisticRegression"
   ]
  },
  {
   "cell_type": "code",
   "execution_count": 2,
   "metadata": {
    "collapsed": true
   },
   "outputs": [],
   "source": [
    "df = pd.read_csv('../input/processed_train.csv')"
   ]
  },
  {
   "cell_type": "code",
   "execution_count": 3,
   "metadata": {
    "collapsed": false
   },
   "outputs": [
    {
     "data": {
      "text/plain": [
       "(891, 37)"
      ]
     },
     "execution_count": 3,
     "metadata": {},
     "output_type": "execute_result"
    }
   ],
   "source": [
    "X = np.array(df.drop(['PassengerId','Survived'], axis=1))\n",
    "y = np.array(df['Survived'])\n",
    "X.shape"
   ]
  },
  {
   "cell_type": "code",
   "execution_count": 4,
   "metadata": {
    "collapsed": true
   },
   "outputs": [],
   "source": [
    "clf = LogisticRegression()"
   ]
  },
  {
   "cell_type": "code",
   "execution_count": 6,
   "metadata": {
    "collapsed": false
   },
   "outputs": [
    {
     "name": "stdout",
     "output_type": "stream",
     "text": [
      "Accuracy = 0.827\n"
     ]
    }
   ],
   "source": [
    "# get base line for accuracy\n",
    "from sklearn.model_selection import cross_val_score\n",
    "lr = LogisticRegression()\n",
    "scores = cross_val_score(lr, X, y, cv=9, scoring='accuracy')\n",
    "print('Accuracy = %.3f' % scores.mean())"
   ]
  },
  {
   "cell_type": "markdown",
   "metadata": {},
   "source": [
    "## Features Selection"
   ]
  },
  {
   "cell_type": "code",
   "execution_count": 6,
   "metadata": {
    "collapsed": false
   },
   "outputs": [],
   "source": [
    "from sklearn.feature_selection import RFE\n",
    "from sklearn import model_selection"
   ]
  },
  {
   "cell_type": "code",
   "execution_count": 7,
   "metadata": {
    "collapsed": false
   },
   "outputs": [],
   "source": [
    "def get_best_features(model, X, y):\n",
    "    ''' find the n best features to train the model\n",
    "    parameters\n",
    "    ----------\n",
    "        model    object\n",
    "            a supervised learning estimator\n",
    "        X    array\n",
    "            training set\n",
    "        y    array\n",
    "            target values\n",
    "    output\n",
    "    ------\n",
    "        X_best    array\n",
    "            the array of best features\n",
    "    '''\n",
    "    \n",
    "    num_fold = 10\n",
    "    seed = 7\n",
    "    scoring = 'accuracy'\n",
    "    best_cv = 0\n",
    "    best_mask = []\n",
    "    \n",
    "    kfold = model_selection.KFold(n_splits = num_fold,\n",
    "                                  random_state = seed)\n",
    "    \n",
    "    for i in range(1,X.shape[1] + 1):\n",
    "        rfe = RFE(model,i)\n",
    "        X_new = rfe.fit_transform(X,y)\n",
    "        cv_results = model_selection.cross_val_score(model, X_new, y,\n",
    "                                                    cv = kfold,\n",
    "                                                    scoring = scoring)\n",
    "        score = cv_results.mean()\n",
    "        \n",
    "        if score > best_cv:\n",
    "            X_best = X_new\n",
    "            best_mask = rfe.get_support(False)\n",
    "            best_cv = score\n",
    "        #print('n = %f -> score = %f' % (i,score))\n",
    "    \n",
    "    return X_best, best_mask\n",
    "\n",
    "    #print('best score = %f' % best_cv)\n",
    "    #print('best i = %f' % X_best.shape[1])"
   ]
  },
  {
   "cell_type": "code",
   "execution_count": 8,
   "metadata": {
    "collapsed": false
   },
   "outputs": [
    {
     "data": {
      "text/plain": [
       "(891, 21)"
      ]
     },
     "execution_count": 8,
     "metadata": {},
     "output_type": "execute_result"
    }
   ],
   "source": [
    "X_best, mask = get_best_features(clf, X, y)\n",
    "X_best.shape"
   ]
  },
  {
   "cell_type": "code",
   "execution_count": 9,
   "metadata": {
    "collapsed": false
   },
   "outputs": [
    {
     "name": "stdout",
     "output_type": "stream",
     "text": [
      "[False  True False False False  True False  True  True  True  True False\n",
      " False  True  True  True  True  True  True  True False False  True False\n",
      "  True  True  True False False False False  True  True False  True False\n",
      "  True]\n"
     ]
    }
   ],
   "source": [
    "print(mask)"
   ]
  },
  {
   "cell_type": "markdown",
   "metadata": {},
   "source": [
    "## parameters optimization"
   ]
  },
  {
   "cell_type": "code",
   "execution_count": 10,
   "metadata": {
    "collapsed": true
   },
   "outputs": [],
   "source": [
    "from sklearn.model_selection import GridSearchCV\n",
    "\n",
    "def get_best_params(model, X, y, param_grid):\n",
    "    ''' get the parameters that return the best score\n",
    "    parameters\n",
    "    ----------\n",
    "        model object\n",
    "            a supervised learning estimator\n",
    "        X    array\n",
    "            training set\n",
    "        y    array\n",
    "            target values\n",
    "        param_grid    dictionary\n",
    "            the list of parameters and their possible values\n",
    "    output\n",
    "    ------\n",
    "        best_params    dictionary\n",
    "            the best value for each parameter in initial list\n",
    "    '''\n",
    "    \n",
    "    scoring = 'accuracy'\n",
    "    cv = 10\n",
    "    \n",
    "    grid = GridSearchCV(clf, \n",
    "                        param_grid,\n",
    "                        scoring = scoring,\n",
    "                        n_jobs = 1,\n",
    "                        cv = cv)\n",
    "    \n",
    "    grid.fit(X,y)\n",
    "    \n",
    "    print(grid.best_score_)\n",
    "    print(grid.best_estimator_)"
   ]
  },
  {
   "cell_type": "code",
   "execution_count": 11,
   "metadata": {
    "collapsed": false,
    "scrolled": false
   },
   "outputs": [
    {
     "name": "stdout",
     "output_type": "stream",
     "text": [
      "0.836139169473\n",
      "LogisticRegression(C=1, class_weight=None, dual=False, fit_intercept=True,\n",
      "          intercept_scaling=1, max_iter=100, multi_class='ovr', n_jobs=1,\n",
      "          penalty='l2', random_state=None, solver='liblinear', tol=0.0001,\n",
      "          verbose=0, warm_start=False)\n"
     ]
    }
   ],
   "source": [
    "param_grid = {'solver': ['liblinear','newton-cg','lbfgs'],\n",
    "              'penalty': ['l2'],\n",
    "              'C': [0.001, 0.01, 0.1, 1, 10, 100, 1000],\n",
    "              'fit_intercept': [True,False],\n",
    "              'intercept_scaling':[0.001, 0.01, 0.1, 1, 10, 100, 1000]\n",
    "              }\n",
    "\n",
    "get_best_params(clf,X_best,y,param_grid)"
   ]
  },
  {
   "cell_type": "markdown",
   "metadata": {
    "collapsed": true
   },
   "source": [
    "## train the model"
   ]
  },
  {
   "cell_type": "code",
   "execution_count": 12,
   "metadata": {
    "collapsed": true
   },
   "outputs": [],
   "source": [
    "from sklearn.model_selection import train_test_split, learning_curve\n",
    "from sklearn import metrics \n",
    "\n",
    "clf = LogisticRegression(C=1, class_weight=None, dual=False, fit_intercept=True,\n",
    "          intercept_scaling=1, max_iter=100, multi_class='ovr', n_jobs=1,\n",
    "          penalty='l2', random_state=None, solver='liblinear', tol=0.0001,\n",
    "          verbose=0, warm_start=False)\n",
    "\n",
    "X_train, X_test, y_train, y_test = train_test_split(X_best, y, test_size=.2)\n",
    "\n",
    "clf.fit(X_train, y_train)\n",
    "predictions = clf.predict(X_test)"
   ]
  },
  {
   "cell_type": "code",
   "execution_count": 13,
   "metadata": {
    "collapsed": false
   },
   "outputs": [
    {
     "data": {
      "text/plain": [
       "0.79329608938547491"
      ]
     },
     "execution_count": 13,
     "metadata": {},
     "output_type": "execute_result"
    }
   ],
   "source": [
    "clf.score(X_test,y_test)"
   ]
  },
  {
   "cell_type": "code",
   "execution_count": 14,
   "metadata": {
    "collapsed": false
   },
   "outputs": [
    {
     "name": "stdout",
     "output_type": "stream",
     "text": [
      "Predicted   0   1\n",
      "Actual           \n",
      "0          94  16\n",
      "1          21  48\n",
      "             precision    recall  f1-score   support\n",
      "\n",
      "          0       0.82      0.85      0.84       110\n",
      "          1       0.75      0.70      0.72        69\n",
      "\n",
      "avg / total       0.79      0.79      0.79       179\n",
      "\n"
     ]
    }
   ],
   "source": [
    "cm = pd.crosstab(y_test, predictions, rownames=['Actual'], colnames=['Predicted'])\n",
    "print(cm)\n",
    "print(metrics.classification_report(y_test, predictions))"
   ]
  },
  {
   "cell_type": "code",
   "execution_count": 15,
   "metadata": {
    "collapsed": false
   },
   "outputs": [
    {
     "data": {
      "image/png": "[encoded data removed]",
      "text/plain": [
       "<matplotlib.figure.Figure at 0x7f1022a6de48>"
      ]
     },
     "metadata": {},
     "output_type": "display_data"
    }
   ],
   "source": [
    "import matplotlib.pyplot as plt\n",
    "train_sizes, train_scores, test_scores = learning_curve(lr, X_best, \\\n",
    "                                                        y, \\\n",
    "                                                        cv=10, \\\n",
    "                                                        train_sizes=np.linspace(.1, 1.0, 5))\n",
    "\n",
    "train_scores_mean = np.mean(train_scores, axis=1)\n",
    "train_scores_std = np.std(train_scores, axis=1)\n",
    "test_scores_mean = np.mean(test_scores, axis=1)\n",
    "test_scores_std = np.std(test_scores, axis=1)\n",
    "\n",
    "\n",
    "plt.figure()\n",
    "plt.grid()\n",
    "\n",
    "plt.fill_between(train_sizes, \n",
    "                train_scores_mean - train_scores_std,\n",
    "                train_scores_mean + train_scores_std,\n",
    "                alpha=0.1, color='r')\n",
    "plt.fill_between(train_sizes, \n",
    "                test_scores_mean - test_scores_std,\n",
    "                test_scores_mean + test_scores_std,\n",
    "                alpha=0.1, color='g')\n",
    "\n",
    "plt.plot(train_sizes, train_scores_mean, 'o-', color='r',\n",
    "         label='Training score')\n",
    "plt.plot(train_sizes, test_scores_mean, 'o-', color='g',\n",
    "         label='Cross-validation score')\n",
    "\n",
    "plt.xlabel('Training examples')\n",
    "plt.ylabel('Score')\n",
    "plt.legend(loc='best')\n",
    "plt.show()  "
   ]
  },
  {
   "cell_type": "markdown",
   "metadata": {},
   "source": [
    "## submit"
   ]
  },
  {
   "cell_type": "code",
   "execution_count": 16,
   "metadata": {
    "collapsed": false
   },
   "outputs": [],
   "source": [
    "test = pd.read_csv('../input/processed_test.csv')\n",
    "X_sub = np.array(test.drop(['PassengerId'], axis=1))"
   ]
  },
  {
   "cell_type": "code",
   "execution_count": 17,
   "metadata": {
    "collapsed": false
   },
   "outputs": [],
   "source": [
    "X_sub = X_sub[:,mask]"
   ]
  },
  {
   "cell_type": "code",
   "execution_count": 18,
   "metadata": {
    "collapsed": true
   },
   "outputs": [],
   "source": [
    "y_sub = clf.predict(X_sub)\n",
    "submission = pd.DataFrame({'PassengerId': test['PassengerId'],\n",
    "                           'Survived': y_sub})\n",
    "submission.to_csv('../output/tmlc_20161229.csv')"
   ]
  },
  {
   "cell_type": "code",
   "execution_count": null,
   "metadata": {
    "collapsed": true
   },
   "outputs": [],
   "source": []
  }
 ],
 "metadata": {
  "anaconda-cloud": {},
  "kernelspec": {
   "display_name": "Python [Root]",
   "language": "python",
   "name": "Python [Root]"
  },
  "language_info": {
   "codemirror_mode": {
    "name": "ipython",
    "version": 3
   },
   "file_extension": ".py",
   "mimetype": "text/x-python",
   "name": "python",
   "nbconvert_exporter": "python",
   "pygments_lexer": "ipython3",
   "version": "3.5.2"
  }
 },
 "nbformat": 4,
 "nbformat_minor": 1
}
