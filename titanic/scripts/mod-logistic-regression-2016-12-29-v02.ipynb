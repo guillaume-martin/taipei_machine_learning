{
 "cells": [
  {
   "cell_type": "markdown",
   "metadata": {},
   "source": [
    "# Model Optimization\n",
    "\n",
    "In this part, I am going to work with logistic regression.  \n",
    "First, I'll do some features selections, then I'll work on the parameters optimization"
   ]
  },
  {
   "cell_type": "code",
   "execution_count": 1,
   "metadata": {
    "collapsed": false
   },
   "outputs": [],
   "source": [
    "import pandas as pd\n",
    "import numpy as np\n",
    "from sklearn.linear_model import LogisticRegression"
   ]
  },
  {
   "cell_type": "code",
   "execution_count": 2,
   "metadata": {
    "collapsed": true
   },
   "outputs": [],
   "source": [
    "df = pd.read_csv('../input/processed_train.csv')"
   ]
  },
  {
   "cell_type": "code",
   "execution_count": 3,
   "metadata": {
    "collapsed": false
   },
   "outputs": [
    {
     "data": {
      "text/plain": [
       "(891, 37)"
      ]
     },
     "execution_count": 3,
     "metadata": {},
     "output_type": "execute_result"
    }
   ],
   "source": [
    "X = np.array(df.drop(['PassengerId','Survived'], axis=1))\n",
    "y = np.array(df['Survived'])\n",
    "X.shape"
   ]
  },
  {
   "cell_type": "code",
   "execution_count": 4,
   "metadata": {
    "collapsed": true
   },
   "outputs": [],
   "source": [
    "clf = LogisticRegression()"
   ]
  },
  {
   "cell_type": "code",
   "execution_count": 5,
   "metadata": {
    "collapsed": false
   },
   "outputs": [
    {
     "name": "stdout",
     "output_type": "stream",
     "text": [
      "Accuracy = 0.832\n"
     ]
    }
   ],
   "source": [
    "# get base line for accuracy\n",
    "from sklearn.model_selection import cross_val_score\n",
    "lr = LogisticRegression()\n",
    "scores = cross_val_score(lr, X, y, cv=10, scoring='accuracy')\n",
    "print('Accuracy = %.3f' % scores.mean())"
   ]
  },
  {
   "cell_type": "markdown",
   "metadata": {},
   "source": [
    "## Features Selection\n",
    "\n",
    "in this attempt, I'll select only the 5 best features to avoid overfitting"
   ]
  },
  {
   "cell_type": "code",
   "execution_count": 6,
   "metadata": {
    "collapsed": false
   },
   "outputs": [],
   "source": [
    "from sklearn.feature_selection import RFE\n",
    "from sklearn import model_selection"
   ]
  },
  {
   "cell_type": "code",
   "execution_count": 20,
   "metadata": {
    "collapsed": false
   },
   "outputs": [],
   "source": [
    "def get_best_features(model, X, y):\n",
    "    ''' find the n best features to train the model\n",
    "    parameters\n",
    "    ----------\n",
    "        model    object\n",
    "            a supervised learning estimator\n",
    "        X    array\n",
    "            training set\n",
    "        y    array\n",
    "            target values\n",
    "    output\n",
    "    ------\n",
    "        X_best    array\n",
    "            the array of best features\n",
    "    '''\n",
    "    \n",
    "    num_fold = 10\n",
    "    seed = 7\n",
    "    scoring = 'accuracy'\n",
    "    num_features = 5 # X.shape[1] + 1\n",
    "    best_cv = 0\n",
    "    best_mask = []\n",
    "    \n",
    "    kfold = model_selection.KFold(n_splits = num_fold,\n",
    "                                  random_state = seed)\n",
    "    \n",
    "    rfe = RFE(model,num_features)\n",
    "    X_new = rfe.fit_transform(X,y)\n",
    "    cv_results = model_selection.cross_val_score(model, X_new, y,\n",
    "                                                cv = kfold,\n",
    "                                                scoring = scoring)\n",
    "    score = cv_results.mean()\n",
    "\n",
    "\n",
    "    X_best = X_new\n",
    "    best_mask = rfe.get_support(False)\n",
    "    best_cv = score\n",
    "    \n",
    "    return X_best, best_mask\n"
   ]
  },
  {
   "cell_type": "code",
   "execution_count": 21,
   "metadata": {
    "collapsed": false
   },
   "outputs": [
    {
     "data": {
      "text/plain": [
       "(891, 5)"
      ]
     },
     "execution_count": 21,
     "metadata": {},
     "output_type": "execute_result"
    }
   ],
   "source": [
    "X_best, mask = get_best_features(clf, X, y)\n",
    "X_best.shape"
   ]
  },
  {
   "cell_type": "code",
   "execution_count": 22,
   "metadata": {
    "collapsed": false
   },
   "outputs": [
    {
     "name": "stdout",
     "output_type": "stream",
     "text": [
      "[False False False False False False False  True  True  True False False\n",
      " False False False False False False False False False False  True False\n",
      " False False False False False False False False False False False False\n",
      "  True]\n"
     ]
    }
   ],
   "source": [
    "print(mask)"
   ]
  },
  {
   "cell_type": "markdown",
   "metadata": {},
   "source": [
    "## parameters optimization"
   ]
  },
  {
   "cell_type": "code",
   "execution_count": 23,
   "metadata": {
    "collapsed": true
   },
   "outputs": [],
   "source": [
    "from sklearn.model_selection import GridSearchCV\n",
    "\n",
    "def get_best_params(model, X, y, param_grid):\n",
    "    ''' get the parameters that return the best score\n",
    "    parameters\n",
    "    ----------\n",
    "        model object\n",
    "            a supervised learning estimator\n",
    "        X    array\n",
    "            training set\n",
    "        y    array\n",
    "            target values\n",
    "        param_grid    dictionary\n",
    "            the list of parameters and their possible values\n",
    "    output\n",
    "    ------\n",
    "        best_params    dictionary\n",
    "            the best value for each parameter in initial list\n",
    "    '''\n",
    "    \n",
    "    scoring = 'accuracy'\n",
    "    cv = 10\n",
    "    \n",
    "    grid = GridSearchCV(clf, \n",
    "                        param_grid,\n",
    "                        scoring = scoring,\n",
    "                        n_jobs = 1,\n",
    "                        cv = cv)\n",
    "    \n",
    "    grid.fit(X,y)\n",
    "    \n",
    "    print(grid.best_score_)\n",
    "    print(grid.best_estimator_)"
   ]
  },
  {
   "cell_type": "code",
   "execution_count": 24,
   "metadata": {
    "collapsed": false,
    "scrolled": false
   },
   "outputs": [
    {
     "name": "stdout",
     "output_type": "stream",
     "text": [
      "0.801346801347\n",
      "LogisticRegression(C=1, class_weight=None, dual=False, fit_intercept=True,\n",
      "          intercept_scaling=0.001, max_iter=100, multi_class='ovr',\n",
      "          n_jobs=1, penalty='l2', random_state=None, solver='liblinear',\n",
      "          tol=0.0001, verbose=0, warm_start=False)\n"
     ]
    }
   ],
   "source": [
    "param_grid = {'solver': ['liblinear','newton-cg','lbfgs'],\n",
    "              'penalty': ['l2'],\n",
    "              'C': [0.001, 0.01, 0.1, 1, 10, 100, 1000],\n",
    "              'fit_intercept': [True,False],\n",
    "              'intercept_scaling':[0.001, 0.01, 0.1, 1, 10, 100, 1000]\n",
    "              }\n",
    "\n",
    "get_best_params(clf,X_best,y,param_grid)"
   ]
  },
  {
   "cell_type": "markdown",
   "metadata": {
    "collapsed": true
   },
   "source": [
    "## train the model"
   ]
  },
  {
   "cell_type": "code",
   "execution_count": 25,
   "metadata": {
    "collapsed": true
   },
   "outputs": [],
   "source": [
    "from sklearn.model_selection import train_test_split, learning_curve\n",
    "from sklearn import metrics \n",
    "\n",
    "clf = LogisticRegression(C=1, class_weight=None, dual=False, fit_intercept=True,\n",
    "          intercept_scaling=1, max_iter=100, multi_class='ovr', n_jobs=1,\n",
    "          penalty='l2', random_state=None, solver='liblinear', tol=0.0001,\n",
    "          verbose=0, warm_start=False)\n",
    "\n",
    "X_train, X_test, y_train, y_test = train_test_split(X_best, y, test_size=.2)\n",
    "\n",
    "clf.fit(X_train, y_train)\n",
    "predictions = clf.predict(X_test)"
   ]
  },
  {
   "cell_type": "code",
   "execution_count": 26,
   "metadata": {
    "collapsed": false
   },
   "outputs": [
    {
     "data": {
      "text/plain": [
       "0.81005586592178769"
      ]
     },
     "execution_count": 26,
     "metadata": {},
     "output_type": "execute_result"
    }
   ],
   "source": [
    "clf.score(X_test,y_test)"
   ]
  },
  {
   "cell_type": "code",
   "execution_count": 27,
   "metadata": {
    "collapsed": false
   },
   "outputs": [
    {
     "name": "stdout",
     "output_type": "stream",
     "text": [
      "Predicted   0   1\n",
      "Actual           \n",
      "0          92  16\n",
      "1          18  53\n",
      "             precision    recall  f1-score   support\n",
      "\n",
      "          0       0.84      0.85      0.84       108\n",
      "          1       0.77      0.75      0.76        71\n",
      "\n",
      "avg / total       0.81      0.81      0.81       179\n",
      "\n"
     ]
    }
   ],
   "source": [
    "cm = pd.crosstab(y_test, predictions, rownames=['Actual'], colnames=['Predicted'])\n",
    "print(cm)\n",
    "print(metrics.classification_report(y_test, predictions))"
   ]
  },
  {
   "cell_type": "code",
   "execution_count": 28,
   "metadata": {
    "collapsed": false
   },
   "outputs": [
    {
     "data": {
      "image/png": "[encoded data removed]",
      "text/plain": [
       "<matplotlib.figure.Figure at 0x7f0978564630>"
      ]
     },
     "metadata": {},
     "output_type": "display_data"
    }
   ],
   "source": [
    "import matplotlib.pyplot as plt\n",
    "train_sizes, train_scores, test_scores = learning_curve(lr, X_best, \\\n",
    "                                                        y, \\\n",
    "                                                        cv=10, \\\n",
    "                                                        train_sizes=np.linspace(.1, 1.0, 5))\n",
    "\n",
    "train_scores_mean = np.mean(train_scores, axis=1)\n",
    "train_scores_std = np.std(train_scores, axis=1)\n",
    "test_scores_mean = np.mean(test_scores, axis=1)\n",
    "test_scores_std = np.std(test_scores, axis=1)\n",
    "\n",
    "\n",
    "plt.figure()\n",
    "plt.grid()\n",
    "\n",
    "plt.fill_between(train_sizes, \n",
    "                train_scores_mean - train_scores_std,\n",
    "                train_scores_mean + train_scores_std,\n",
    "                alpha=0.1, color='r')\n",
    "plt.fill_between(train_sizes, \n",
    "                test_scores_mean - test_scores_std,\n",
    "                test_scores_mean + test_scores_std,\n",
    "                alpha=0.1, color='g')\n",
    "\n",
    "plt.plot(train_sizes, train_scores_mean, 'o-', color='r',\n",
    "         label='Training score')\n",
    "plt.plot(train_sizes, test_scores_mean, 'o-', color='g',\n",
    "         label='Cross-validation score')\n",
    "\n",
    "plt.xlabel('Training examples')\n",
    "plt.ylabel('Score')\n",
    "plt.legend(loc='best')\n",
    "plt.show()  "
   ]
  },
  {
   "cell_type": "markdown",
   "metadata": {},
   "source": [
    "## submit"
   ]
  },
  {
   "cell_type": "code",
   "execution_count": 29,
   "metadata": {
    "collapsed": false
   },
   "outputs": [],
   "source": [
    "test = pd.read_csv('../input/processed_test.csv')\n",
    "X_sub = np.array(test.drop(['PassengerId'], axis=1))"
   ]
  },
  {
   "cell_type": "code",
   "execution_count": 30,
   "metadata": {
    "collapsed": false
   },
   "outputs": [],
   "source": [
    "X_sub = X_sub[:,mask]"
   ]
  },
  {
   "cell_type": "code",
   "execution_count": 31,
   "metadata": {
    "collapsed": true
   },
   "outputs": [],
   "source": [
    "y_sub = clf.predict(X_sub)\n",
    "submission = pd.DataFrame({'PassengerId': test['PassengerId'],\n",
    "                           'Survived': y_sub})\n",
    "submission.to_csv('../output/tmlc_20161229_02.csv')"
   ]
  },
  {
   "cell_type": "code",
   "execution_count": null,
   "metadata": {
    "collapsed": true
   },
   "outputs": [],
   "source": []
  }
 ],
 "metadata": {
  "anaconda-cloud": {},
  "kernelspec": {
   "display_name": "Python 3",
   "language": "python",
   "name": "python3"
  },
  "language_info": {
   "codemirror_mode": {
    "name": "ipython",
    "version": 3
   },
   "file_extension": ".py",
   "mimetype": "text/x-python",
   "name": "python",
   "nbconvert_exporter": "python",
   "pygments_lexer": "ipython3",
   "version": "3.6.0"
  }
 },
 "nbformat": 4,
 "nbformat_minor": 1
}
