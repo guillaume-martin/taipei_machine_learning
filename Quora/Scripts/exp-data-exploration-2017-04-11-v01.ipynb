{
 "cells": [
  {
   "cell_type": "markdown",
   "metadata": {},
   "source": [
    "# Quora Question Pairs\n",
    "https://www.kaggle.com/c/quora-question-pairs"
   ]
  },
  {
   "cell_type": "code",
   "execution_count": 1,
   "metadata": {
    "collapsed": true
   },
   "outputs": [],
   "source": [
    "import pandas as pd\n",
    "import matplotlib.pyplot as plt\n",
    "import nltk\n",
    "\n",
    "%matplotlib inline"
   ]
  },
  {
   "cell_type": "code",
   "execution_count": 2,
   "metadata": {
    "collapsed": true
   },
   "outputs": [],
   "source": [
    "df = pd.read_csv('../Data/train.csv')"
   ]
  },
  {
   "cell_type": "code",
   "execution_count": 3,
   "metadata": {
    "collapsed": false
   },
   "outputs": [
    {
     "data": {
      "text/html": [
       "<div>\n",
       "<table border=\"1\" class=\"dataframe\">\n",
       "  <thead>\n",
       "    <tr style=\"text-align: right;\">\n",
       "      <th></th>\n",
       "      <th>id</th>\n",
       "      <th>qid1</th>\n",
       "      <th>qid2</th>\n",
       "      <th>question1</th>\n",
       "      <th>question2</th>\n",
       "      <th>is_duplicate</th>\n",
       "    </tr>\n",
       "  </thead>\n",
       "  <tbody>\n",
       "    <tr>\n",
       "      <th>0</th>\n",
       "      <td>0</td>\n",
       "      <td>1</td>\n",
       "      <td>2</td>\n",
       "      <td>What is the step by step guide to invest in sh...</td>\n",
       "      <td>What is the step by step guide to invest in sh...</td>\n",
       "      <td>0</td>\n",
       "    </tr>\n",
       "    <tr>\n",
       "      <th>1</th>\n",
       "      <td>1</td>\n",
       "      <td>3</td>\n",
       "      <td>4</td>\n",
       "      <td>What is the story of Kohinoor (Koh-i-Noor) Dia...</td>\n",
       "      <td>What would happen if the Indian government sto...</td>\n",
       "      <td>0</td>\n",
       "    </tr>\n",
       "    <tr>\n",
       "      <th>2</th>\n",
       "      <td>2</td>\n",
       "      <td>5</td>\n",
       "      <td>6</td>\n",
       "      <td>How can I increase the speed of my internet co...</td>\n",
       "      <td>How can Internet speed be increased by hacking...</td>\n",
       "      <td>0</td>\n",
       "    </tr>\n",
       "    <tr>\n",
       "      <th>3</th>\n",
       "      <td>3</td>\n",
       "      <td>7</td>\n",
       "      <td>8</td>\n",
       "      <td>Why am I mentally very lonely? How can I solve...</td>\n",
       "      <td>Find the remainder when [math]23^{24}[/math] i...</td>\n",
       "      <td>0</td>\n",
       "    </tr>\n",
       "    <tr>\n",
       "      <th>4</th>\n",
       "      <td>4</td>\n",
       "      <td>9</td>\n",
       "      <td>10</td>\n",
       "      <td>Which one dissolve in water quikly sugar, salt...</td>\n",
       "      <td>Which fish would survive in salt water?</td>\n",
       "      <td>0</td>\n",
       "    </tr>\n",
       "  </tbody>\n",
       "</table>\n",
       "</div>"
      ],
      "text/plain": [
       "   id  qid1  qid2                                          question1  \\\n",
       "0   0     1     2  What is the step by step guide to invest in sh...   \n",
       "1   1     3     4  What is the story of Kohinoor (Koh-i-Noor) Dia...   \n",
       "2   2     5     6  How can I increase the speed of my internet co...   \n",
       "3   3     7     8  Why am I mentally very lonely? How can I solve...   \n",
       "4   4     9    10  Which one dissolve in water quikly sugar, salt...   \n",
       "\n",
       "                                           question2  is_duplicate  \n",
       "0  What is the step by step guide to invest in sh...             0  \n",
       "1  What would happen if the Indian government sto...             0  \n",
       "2  How can Internet speed be increased by hacking...             0  \n",
       "3  Find the remainder when [math]23^{24}[/math] i...             0  \n",
       "4            Which fish would survive in salt water?             0  "
      ]
     },
     "execution_count": 3,
     "metadata": {},
     "output_type": "execute_result"
    }
   ],
   "source": [
    "df.head()"
   ]
  },
  {
   "cell_type": "markdown",
   "metadata": {},
   "source": [
    "We don't have a lot of columns in this dataset.  \n",
    "**id**: this is the id of the pair.  \n",
    "**qid1** and **qid2**: those are the ids of question 1 and question 2. They seem to be ids given for this particular dataset and are not related to quora's question id.  \n",
    "**question1** and **question2**: this is the text of the questions.  \n",
    "**is_duplicate**: this is the label we'll have to predict. 1 if the pair is a duplicate. 0 otherwise."
   ]
  },
  {
   "cell_type": "code",
   "execution_count": 4,
   "metadata": {
    "collapsed": false
   },
   "outputs": [
    {
     "name": "stdout",
     "output_type": "stream",
     "text": [
      "<class 'pandas.core.frame.DataFrame'>\n",
      "RangeIndex: 404290 entries, 0 to 404289\n",
      "Data columns (total 6 columns):\n",
      "id              404290 non-null int64\n",
      "qid1            404290 non-null int64\n",
      "qid2            404290 non-null int64\n",
      "question1       404290 non-null object\n",
      "question2       404288 non-null object\n",
      "is_duplicate    404290 non-null int64\n",
      "dtypes: int64(4), object(2)\n",
      "memory usage: 18.5+ MB\n"
     ]
    }
   ],
   "source": [
    "df.info()"
   ]
  },
  {
   "cell_type": "code",
   "execution_count": 5,
   "metadata": {
    "collapsed": true
   },
   "outputs": [],
   "source": [
    "def feature_chart(dataframe, count, group):\n",
    "    df = dataframe.groupby([count, group])[group].count().unstack(count)\n",
    "    df.fillna(0, inplace=True)\n",
    "    df['percent_duplicate'] = (df[1] / (df[0] + df[1])) * 100\n",
    "    print(df)\n",
    "    #df[[0,1]].plot(kind='bar', stacked=True) \n",
    "    df['percent_duplicate'].plot(kind='bar')"
   ]
  },
  {
   "cell_type": "code",
   "execution_count": 6,
   "metadata": {
    "collapsed": false
   },
   "outputs": [
    {
     "data": {
      "text/plain": [
       "is_duplicate\n",
       "0    255027\n",
       "1    149263\n",
       "dtype: int64"
      ]
     },
     "execution_count": 6,
     "metadata": {},
     "output_type": "execute_result"
    }
   ],
   "source": [
    "# class balance\n",
    "df.groupby('is_duplicate').size()"
   ]
  },
  {
   "cell_type": "markdown",
   "metadata": {},
   "source": [
    "We're having an imbalanced dataset that will require resampling.  \n",
    "## Characters count\n",
    "I want to count the difference in the number of characters between question1 and question2.  \n",
    "Then I will look for a correlation between this value and the label."
   ]
  },
  {
   "cell_type": "code",
   "execution_count": 7,
   "metadata": {
    "collapsed": false
   },
   "outputs": [
    {
     "data": {
      "text/plain": [
       "count    404290.000000\n",
       "mean         20.158179\n",
       "std          25.584401\n",
       "min           0.000000\n",
       "25%           4.000000\n",
       "50%          12.000000\n",
       "75%          26.000000\n",
       "max        1080.000000\n",
       "Name: char_diff, dtype: float64"
      ]
     },
     "execution_count": 7,
     "metadata": {},
     "output_type": "execute_result"
    }
   ],
   "source": [
    "# comparing the questions length and check for correlation with labels\n",
    "df['char_count1'] = df['question1'].apply(lambda x: len(x))\n",
    "df['char_count2'] = df['question2'].apply(lambda x: len(str(x)))\n",
    "df['char_diff'] = abs(df['char_count1'] - df['char_count2'])\n",
    "df['char_diff'].describe()\n",
    "#df['char_diff'].plot(kind='bar')"
   ]
  },
  {
   "cell_type": "code",
   "execution_count": 8,
   "metadata": {
    "collapsed": false
   },
   "outputs": [
    {
     "data": {
      "text/plain": [
       "{'boxes': [<matplotlib.lines.Line2D at 0x7f357d7ca278>],\n",
       " 'caps': [<matplotlib.lines.Line2D at 0x7f357d7dfc50>,\n",
       "  <matplotlib.lines.Line2D at 0x7f357d7dfe10>],\n",
       " 'fliers': [<matplotlib.lines.Line2D at 0x7f357d7e8e80>],\n",
       " 'means': [],\n",
       " 'medians': [<matplotlib.lines.Line2D at 0x7f357d7e8668>],\n",
       " 'whiskers': [<matplotlib.lines.Line2D at 0x7f35bdd3e358>,\n",
       "  <matplotlib.lines.Line2D at 0x7f357d7cae10>]}"
      ]
     },
     "execution_count": 8,
     "metadata": {},
     "output_type": "execute_result"
    },
    {
     "data": {
      "image/png": "[encoded data removed]",
      "text/plain": [
       "<matplotlib.figure.Figure at 0x7f3575d99710>"
      ]
     },
     "metadata": {},
     "output_type": "display_data"
    }
   ],
   "source": [
    "plt.boxplot(df.char_diff)"
   ]
  },
  {
   "cell_type": "code",
   "execution_count": 9,
   "metadata": {
    "collapsed": false
   },
   "outputs": [
    {
     "data": {
      "image/png": "[encoded data removed]",
      "text/plain": [
       "<matplotlib.figure.Figure at 0x7f357d7eb9e8>"
      ]
     },
     "metadata": {},
     "output_type": "display_data"
    }
   ],
   "source": [
    "# I want to visualize the part of duplicates per character count difference\n",
    "fig = plt.figure()\n",
    "ax = fig.add_subplot(1,1,1)\n",
    "ax.hist(df.char_diff, bins=100)\n",
    "plt.title('Characters count difference distribution')\n",
    "plt.xlabel('# chars in q1 - # chars in q2')\n",
    "plt.ylabel('# of question pairs')\n",
    "plt.show()"
   ]
  },
  {
   "cell_type": "markdown",
   "metadata": {},
   "source": [
    "I will keep only the pairs that have a under 200 characters"
   ]
  },
  {
   "cell_type": "code",
   "execution_count": 10,
   "metadata": {
    "collapsed": false
   },
   "outputs": [
    {
     "data": {
      "image/png": "[encoded data removed]",
      "text/plain": [
       "<matplotlib.figure.Figure at 0x7f357d713c18>"
      ]
     },
     "metadata": {},
     "output_type": "display_data"
    }
   ],
   "source": [
    "df_char = df[['char_diff','is_duplicate']]\n",
    "df_char = df_char[(df_char['char_diff'] >= 0) & (df_char['char_diff'] <= 200)]\n",
    "df_char['char_diff_bins'] = pd.cut(df_char.char_diff,50)\n",
    "df_char = df_char.groupby(['char_diff_bins','is_duplicate'])['char_diff_bins'].count().unstack('is_duplicate')\n",
    "#df_char['duplicate_pct'] = (df_char[1] / (df_char[0] + df_char[1])) * 100\n",
    "\n",
    "fig, ax = plt.subplots(figsize=(10,5))\n",
    "ax = df_char[[0,1]].plot(kind='bar', stacked=True, ax=ax) \n",
    "plt.show()"
   ]
  },
  {
   "cell_type": "markdown",
   "metadata": {},
   "source": [
    "## Words count\n",
    "I am going to do the same exercise than before but I will count words instead of characters."
   ]
  },
  {
   "cell_type": "code",
   "execution_count": 11,
   "metadata": {
    "collapsed": false
   },
   "outputs": [
    {
     "data": {
      "text/html": [
       "<div>\n",
       "<table border=\"1\" class=\"dataframe\">\n",
       "  <thead>\n",
       "    <tr style=\"text-align: right;\">\n",
       "      <th></th>\n",
       "      <th>id</th>\n",
       "      <th>qid1</th>\n",
       "      <th>qid2</th>\n",
       "      <th>question1</th>\n",
       "      <th>question2</th>\n",
       "      <th>is_duplicate</th>\n",
       "      <th>char_count1</th>\n",
       "      <th>char_count2</th>\n",
       "      <th>char_diff</th>\n",
       "      <th>tokens1</th>\n",
       "      <th>word_count1</th>\n",
       "      <th>tokens2</th>\n",
       "      <th>word_count2</th>\n",
       "    </tr>\n",
       "  </thead>\n",
       "  <tbody>\n",
       "    <tr>\n",
       "      <th>0</th>\n",
       "      <td>0</td>\n",
       "      <td>1</td>\n",
       "      <td>2</td>\n",
       "      <td>What is the step by step guide to invest in sh...</td>\n",
       "      <td>What is the step by step guide to invest in sh...</td>\n",
       "      <td>0</td>\n",
       "      <td>66</td>\n",
       "      <td>57</td>\n",
       "      <td>9</td>\n",
       "      <td>[What, is, the, step, by, step, guide, to, inv...</td>\n",
       "      <td>15</td>\n",
       "      <td>[What, is, the, step, by, step, guide, to, inv...</td>\n",
       "      <td>13</td>\n",
       "    </tr>\n",
       "    <tr>\n",
       "      <th>1</th>\n",
       "      <td>1</td>\n",
       "      <td>3</td>\n",
       "      <td>4</td>\n",
       "      <td>What is the story of Kohinoor (Koh-i-Noor) Dia...</td>\n",
       "      <td>What would happen if the Indian government sto...</td>\n",
       "      <td>0</td>\n",
       "      <td>51</td>\n",
       "      <td>88</td>\n",
       "      <td>37</td>\n",
       "      <td>[What, is, the, story, of, Kohinoor, (, Koh-i-...</td>\n",
       "      <td>11</td>\n",
       "      <td>[What, would, happen, if, the, Indian, governm...</td>\n",
       "      <td>16</td>\n",
       "    </tr>\n",
       "    <tr>\n",
       "      <th>2</th>\n",
       "      <td>2</td>\n",
       "      <td>5</td>\n",
       "      <td>6</td>\n",
       "      <td>How can I increase the speed of my internet co...</td>\n",
       "      <td>How can Internet speed be increased by hacking...</td>\n",
       "      <td>0</td>\n",
       "      <td>73</td>\n",
       "      <td>59</td>\n",
       "      <td>14</td>\n",
       "      <td>[How, can, I, increase, the, speed, of, my, in...</td>\n",
       "      <td>15</td>\n",
       "      <td>[How, can, Internet, speed, be, increased, by,...</td>\n",
       "      <td>11</td>\n",
       "    </tr>\n",
       "    <tr>\n",
       "      <th>3</th>\n",
       "      <td>3</td>\n",
       "      <td>7</td>\n",
       "      <td>8</td>\n",
       "      <td>Why am I mentally very lonely? How can I solve...</td>\n",
       "      <td>Find the remainder when [math]23^{24}[/math] i...</td>\n",
       "      <td>0</td>\n",
       "      <td>50</td>\n",
       "      <td>65</td>\n",
       "      <td>15</td>\n",
       "      <td>[Why, am, I, mentally, very, lonely, ?, How, c...</td>\n",
       "      <td>13</td>\n",
       "      <td>[Find, the, remainder, when, [, math, ], 23^, ...</td>\n",
       "      <td>19</td>\n",
       "    </tr>\n",
       "    <tr>\n",
       "      <th>4</th>\n",
       "      <td>4</td>\n",
       "      <td>9</td>\n",
       "      <td>10</td>\n",
       "      <td>Which one dissolve in water quikly sugar, salt...</td>\n",
       "      <td>Which fish would survive in salt water?</td>\n",
       "      <td>0</td>\n",
       "      <td>76</td>\n",
       "      <td>39</td>\n",
       "      <td>37</td>\n",
       "      <td>[Which, one, dissolve, in, water, quikly, suga...</td>\n",
       "      <td>16</td>\n",
       "      <td>[Which, fish, would, survive, in, salt, water, ?]</td>\n",
       "      <td>8</td>\n",
       "    </tr>\n",
       "  </tbody>\n",
       "</table>\n",
       "</div>"
      ],
      "text/plain": [
       "   id  qid1  qid2                                          question1  \\\n",
       "0   0     1     2  What is the step by step guide to invest in sh...   \n",
       "1   1     3     4  What is the story of Kohinoor (Koh-i-Noor) Dia...   \n",
       "2   2     5     6  How can I increase the speed of my internet co...   \n",
       "3   3     7     8  Why am I mentally very lonely? How can I solve...   \n",
       "4   4     9    10  Which one dissolve in water quikly sugar, salt...   \n",
       "\n",
       "                                           question2  is_duplicate  \\\n",
       "0  What is the step by step guide to invest in sh...             0   \n",
       "1  What would happen if the Indian government sto...             0   \n",
       "2  How can Internet speed be increased by hacking...             0   \n",
       "3  Find the remainder when [math]23^{24}[/math] i...             0   \n",
       "4            Which fish would survive in salt water?             0   \n",
       "\n",
       "   char_count1  char_count2  char_diff  \\\n",
       "0           66           57          9   \n",
       "1           51           88         37   \n",
       "2           73           59         14   \n",
       "3           50           65         15   \n",
       "4           76           39         37   \n",
       "\n",
       "                                             tokens1  word_count1  \\\n",
       "0  [What, is, the, step, by, step, guide, to, inv...           15   \n",
       "1  [What, is, the, story, of, Kohinoor, (, Koh-i-...           11   \n",
       "2  [How, can, I, increase, the, speed, of, my, in...           15   \n",
       "3  [Why, am, I, mentally, very, lonely, ?, How, c...           13   \n",
       "4  [Which, one, dissolve, in, water, quikly, suga...           16   \n",
       "\n",
       "                                             tokens2  word_count2  \n",
       "0  [What, is, the, step, by, step, guide, to, inv...           13  \n",
       "1  [What, would, happen, if, the, Indian, governm...           16  \n",
       "2  [How, can, Internet, speed, be, increased, by,...           11  \n",
       "3  [Find, the, remainder, when, [, math, ], 23^, ...           19  \n",
       "4  [Which, fish, would, survive, in, salt, water, ?]            8  "
      ]
     },
     "execution_count": 11,
     "metadata": {},
     "output_type": "execute_result"
    }
   ],
   "source": [
    "# comparing words count\n",
    "df['tokens1'] = df['question1'].apply(lambda x: nltk.word_tokenize(x))\n",
    "df['word_count1'] = df['tokens1'].apply(lambda x: len(x))\n",
    "df['tokens2'] = df['question2'].apply(lambda x: nltk.word_tokenize(str(x)))\n",
    "df['word_count2'] = df['tokens2'].apply(lambda x: len(x))\n",
    "df.head()"
   ]
  },
  {
   "cell_type": "code",
   "execution_count": 12,
   "metadata": {
    "collapsed": false
   },
   "outputs": [
    {
     "data": {
      "text/plain": [
       "count    404290.000000\n",
       "mean          4.098677\n",
       "std           5.519715\n",
       "min           0.000000\n",
       "25%           1.000000\n",
       "50%           2.000000\n",
       "75%           5.000000\n",
       "max         257.000000\n",
       "Name: word_diff, dtype: float64"
      ]
     },
     "execution_count": 12,
     "metadata": {},
     "output_type": "execute_result"
    }
   ],
   "source": [
    "df['word_diff'] = abs(df['word_count1'] - df['word_count2'])\n",
    "df['word_diff'].describe()"
   ]
  },
  {
   "cell_type": "code",
   "execution_count": 13,
   "metadata": {
    "collapsed": false
   },
   "outputs": [
    {
     "data": {
      "image/png": "[encoded data removed]",
      "text/plain": [
       "<matplotlib.figure.Figure at 0x7f357d7eba90>"
      ]
     },
     "metadata": {},
     "output_type": "display_data"
    }
   ],
   "source": [
    "fig = plt.figure()\n",
    "ax = fig.add_subplot(1,1,1)\n",
    "ax.hist(df.word_diff, bins=100)\n",
    "plt.title('Words count difference distribution')\n",
    "plt.xlabel('|# words in q1 - # words in q2|')\n",
    "plt.ylabel('# of question pairs')\n",
    "plt.show()"
   ]
  },
  {
   "cell_type": "code",
   "execution_count": 14,
   "metadata": {
    "collapsed": false
   },
   "outputs": [
    {
     "data": {
      "image/png": "[encoded data removed]",
      "text/plain": [
       "<matplotlib.figure.Figure at 0x7f357d6ce780>"
      ]
     },
     "metadata": {},
     "output_type": "display_data"
    }
   ],
   "source": [
    "df_word = df[['word_diff','is_duplicate']]\n",
    "# because the distribution is skewed, I keep only the values below 25,\n",
    "# which represent most of the cases\n",
    "df_word = df_word[(df_word['word_diff'] >= 0) & (df_word['word_diff'] <= 25)]\n",
    "\n",
    "df_word['word_diff_bins'] = pd.cut(df_word.word_diff,25)\n",
    "df_word = df_word.groupby(['word_diff_bins','is_duplicate'])['word_diff_bins'].count().unstack('is_duplicate')\n",
    "\n",
    "fig, ax = plt.subplots(figsize=(10,5))\n",
    "ax = df_word[[0,1]].plot(kind='bar', stacked=True, ax=ax) \n",
    "plt.show()"
   ]
  },
  {
   "cell_type": "markdown",
   "metadata": {
    "collapsed": true
   },
   "source": [
    "## Question words\n",
    "I want to extract the question word from each question and look at the impact of different words used in the pair."
   ]
  },
  {
   "cell_type": "code",
   "execution_count": 15,
   "metadata": {
    "collapsed": false,
    "scrolled": true
   },
   "outputs": [
    {
     "data": {
      "text/html": [
       "<div>\n",
       "<table border=\"1\" class=\"dataframe\">\n",
       "  <thead>\n",
       "    <tr style=\"text-align: right;\">\n",
       "      <th></th>\n",
       "      <th>id</th>\n",
       "      <th>qid1</th>\n",
       "      <th>qid2</th>\n",
       "      <th>question1</th>\n",
       "      <th>question2</th>\n",
       "      <th>is_duplicate</th>\n",
       "      <th>char_count1</th>\n",
       "      <th>char_count2</th>\n",
       "      <th>char_diff</th>\n",
       "      <th>tokens1</th>\n",
       "      <th>word_count1</th>\n",
       "      <th>tokens2</th>\n",
       "      <th>word_count2</th>\n",
       "      <th>word_diff</th>\n",
       "      <th>qword1</th>\n",
       "      <th>qword2</th>\n",
       "      <th>qword_diff</th>\n",
       "    </tr>\n",
       "  </thead>\n",
       "  <tbody>\n",
       "    <tr>\n",
       "      <th>0</th>\n",
       "      <td>0</td>\n",
       "      <td>1</td>\n",
       "      <td>2</td>\n",
       "      <td>What is the step by step guide to invest in sh...</td>\n",
       "      <td>What is the step by step guide to invest in sh...</td>\n",
       "      <td>0</td>\n",
       "      <td>66</td>\n",
       "      <td>57</td>\n",
       "      <td>9</td>\n",
       "      <td>[What, is, the, step, by, step, guide, to, inv...</td>\n",
       "      <td>15</td>\n",
       "      <td>[What, is, the, step, by, step, guide, to, inv...</td>\n",
       "      <td>13</td>\n",
       "      <td>2</td>\n",
       "      <td>what</td>\n",
       "      <td>what</td>\n",
       "      <td>0</td>\n",
       "    </tr>\n",
       "    <tr>\n",
       "      <th>1</th>\n",
       "      <td>1</td>\n",
       "      <td>3</td>\n",
       "      <td>4</td>\n",
       "      <td>What is the story of Kohinoor (Koh-i-Noor) Dia...</td>\n",
       "      <td>What would happen if the Indian government sto...</td>\n",
       "      <td>0</td>\n",
       "      <td>51</td>\n",
       "      <td>88</td>\n",
       "      <td>37</td>\n",
       "      <td>[What, is, the, story, of, Kohinoor, (, Koh-i-...</td>\n",
       "      <td>11</td>\n",
       "      <td>[What, would, happen, if, the, Indian, governm...</td>\n",
       "      <td>16</td>\n",
       "      <td>5</td>\n",
       "      <td>what</td>\n",
       "      <td>what</td>\n",
       "      <td>0</td>\n",
       "    </tr>\n",
       "    <tr>\n",
       "      <th>2</th>\n",
       "      <td>2</td>\n",
       "      <td>5</td>\n",
       "      <td>6</td>\n",
       "      <td>How can I increase the speed of my internet co...</td>\n",
       "      <td>How can Internet speed be increased by hacking...</td>\n",
       "      <td>0</td>\n",
       "      <td>73</td>\n",
       "      <td>59</td>\n",
       "      <td>14</td>\n",
       "      <td>[How, can, I, increase, the, speed, of, my, in...</td>\n",
       "      <td>15</td>\n",
       "      <td>[How, can, Internet, speed, be, increased, by,...</td>\n",
       "      <td>11</td>\n",
       "      <td>4</td>\n",
       "      <td>how</td>\n",
       "      <td>how</td>\n",
       "      <td>0</td>\n",
       "    </tr>\n",
       "    <tr>\n",
       "      <th>3</th>\n",
       "      <td>3</td>\n",
       "      <td>7</td>\n",
       "      <td>8</td>\n",
       "      <td>Why am I mentally very lonely? How can I solve...</td>\n",
       "      <td>Find the remainder when [math]23^{24}[/math] i...</td>\n",
       "      <td>0</td>\n",
       "      <td>50</td>\n",
       "      <td>65</td>\n",
       "      <td>15</td>\n",
       "      <td>[Why, am, I, mentally, very, lonely, ?, How, c...</td>\n",
       "      <td>13</td>\n",
       "      <td>[Find, the, remainder, when, [, math, ], 23^, ...</td>\n",
       "      <td>19</td>\n",
       "      <td>6</td>\n",
       "      <td>why</td>\n",
       "      <td>when</td>\n",
       "      <td>1</td>\n",
       "    </tr>\n",
       "    <tr>\n",
       "      <th>4</th>\n",
       "      <td>4</td>\n",
       "      <td>9</td>\n",
       "      <td>10</td>\n",
       "      <td>Which one dissolve in water quikly sugar, salt...</td>\n",
       "      <td>Which fish would survive in salt water?</td>\n",
       "      <td>0</td>\n",
       "      <td>76</td>\n",
       "      <td>39</td>\n",
       "      <td>37</td>\n",
       "      <td>[Which, one, dissolve, in, water, quikly, suga...</td>\n",
       "      <td>16</td>\n",
       "      <td>[Which, fish, would, survive, in, salt, water, ?]</td>\n",
       "      <td>8</td>\n",
       "      <td>8</td>\n",
       "      <td>which</td>\n",
       "      <td>which</td>\n",
       "      <td>0</td>\n",
       "    </tr>\n",
       "  </tbody>\n",
       "</table>\n",
       "</div>"
      ],
      "text/plain": [
       "   id  qid1  qid2                                          question1  \\\n",
       "0   0     1     2  What is the step by step guide to invest in sh...   \n",
       "1   1     3     4  What is the story of Kohinoor (Koh-i-Noor) Dia...   \n",
       "2   2     5     6  How can I increase the speed of my internet co...   \n",
       "3   3     7     8  Why am I mentally very lonely? How can I solve...   \n",
       "4   4     9    10  Which one dissolve in water quikly sugar, salt...   \n",
       "\n",
       "                                           question2  is_duplicate  \\\n",
       "0  What is the step by step guide to invest in sh...             0   \n",
       "1  What would happen if the Indian government sto...             0   \n",
       "2  How can Internet speed be increased by hacking...             0   \n",
       "3  Find the remainder when [math]23^{24}[/math] i...             0   \n",
       "4            Which fish would survive in salt water?             0   \n",
       "\n",
       "   char_count1  char_count2  char_diff  \\\n",
       "0           66           57          9   \n",
       "1           51           88         37   \n",
       "2           73           59         14   \n",
       "3           50           65         15   \n",
       "4           76           39         37   \n",
       "\n",
       "                                             tokens1  word_count1  \\\n",
       "0  [What, is, the, step, by, step, guide, to, inv...           15   \n",
       "1  [What, is, the, story, of, Kohinoor, (, Koh-i-...           11   \n",
       "2  [How, can, I, increase, the, speed, of, my, in...           15   \n",
       "3  [Why, am, I, mentally, very, lonely, ?, How, c...           13   \n",
       "4  [Which, one, dissolve, in, water, quikly, suga...           16   \n",
       "\n",
       "                                             tokens2  word_count2  word_diff  \\\n",
       "0  [What, is, the, step, by, step, guide, to, inv...           13          2   \n",
       "1  [What, would, happen, if, the, Indian, governm...           16          5   \n",
       "2  [How, can, Internet, speed, be, increased, by,...           11          4   \n",
       "3  [Find, the, remainder, when, [, math, ], 23^, ...           19          6   \n",
       "4  [Which, fish, would, survive, in, salt, water, ?]            8          8   \n",
       "\n",
       "  qword1 qword2  qword_diff  \n",
       "0   what   what           0  \n",
       "1   what   what           0  \n",
       "2    how    how           0  \n",
       "3    why   when           1  \n",
       "4  which  which           0  "
      ]
     },
     "execution_count": 15,
     "metadata": {},
     "output_type": "execute_result"
    }
   ],
   "source": [
    "question_words = ['what','where','when','why','who','which','whose','how']\n",
    "def get_qword(question):\n",
    "    ''' extract the question word from a string\n",
    "    parameters:\n",
    "    ----------\n",
    "        question    string\n",
    "            the sentence the question words needs\n",
    "            to be extracted from\n",
    "    return:\n",
    "    -------\n",
    "        word    string\n",
    "            a question word\n",
    "    '''\n",
    "    \n",
    "    question = str(question).lower()\n",
    "    \n",
    "    for word in question_words:\n",
    "        if word in question:\n",
    "            return word\n",
    "        \n",
    "def compare_qwords(row):\n",
    "    ''' compares qword1 and qword 2 in a given row\n",
    "        and returns 1 if they are different and\n",
    "        0 otherwise\n",
    "    parameters:\n",
    "    -----------\n",
    "        row\n",
    "            a row of a dataframe\n",
    "    return:\n",
    "    -------\n",
    "        integer\n",
    "            1 if the question words are different, \n",
    "            o otherwise\n",
    "    '''\n",
    "    \n",
    "    if row['qword1'] != row['qword2']:\n",
    "        return 1\n",
    "    else:\n",
    "        return 0\n",
    "        \n",
    "df['qword1'] = df['question1'].apply(lambda x: get_qword(x))\n",
    "df['qword2'] = df['question2'].apply(lambda x: get_qword(x))\n",
    "df['qword_diff'] = df.apply(lambda row: compare_qwords(row), axis=1)\n",
    "df.head()"
   ]
  },
  {
   "cell_type": "code",
   "execution_count": 16,
   "metadata": {
    "collapsed": false
   },
   "outputs": [
    {
     "name": "stdout",
     "output_type": "stream",
     "text": [
      "is_duplicate       0       1\n",
      "qword_diff                  \n",
      "0             130696  104356\n",
      "1             124331   44907\n"
     ]
    },
    {
     "data": {
      "image/png": "[encoded data removed]",
      "text/plain": [
       "<matplotlib.figure.Figure at 0x7f357d713f98>"
      ]
     },
     "metadata": {},
     "output_type": "display_data"
    }
   ],
   "source": [
    "df_qwords = df[['qword_diff','is_duplicate']]\n",
    "df_qwords = df_qwords.groupby(['qword_diff','is_duplicate'])['qword_diff'].count().unstack('is_duplicate')\n",
    "\n",
    "print(df_qwords)\n",
    "\n",
    "fig, ax = plt.subplots(figsize=(10,5))\n",
    "ax = df_qwords[[0,1]].plot(kind='bar', stacked=True, ax=ax) \n",
    "plt.xlabel('question words difference\\n0 = same words; 1 = different words')\n",
    "plt.ylabel('question pairs frequency')\n",
    "plt.show()"
   ]
  },
  {
   "cell_type": "raw",
   "metadata": {},
   "source": [
    "Here we can see that if the question words are different, the chance to have duplicate questions is lower."
   ]
  },
  {
   "cell_type": "markdown",
   "metadata": {},
   "source": [
    "## Comparing questions\n",
    "I'm now going to compare the questions.  \n",
    "### Shared words\n",
    "I'll look at how many words are common to the 2 questions of the pair"
   ]
  },
  {
   "cell_type": "code",
   "execution_count": 17,
   "metadata": {
    "collapsed": true
   },
   "outputs": [],
   "source": [
    "from nltk.tokenize import RegexpTokenizer\n",
    "def share_words_count(q1, q2):\n",
    "    ''' counts how many words are common to 2 questions\n",
    "    parameters:\n",
    "    ----------\n",
    "        q1,q2    string\n",
    "            the 2 questions of the pair\n",
    "    return:\n",
    "    -------\n",
    "        integer\n",
    "            the number of words that appear in both questions\n",
    "    '''\n",
    "    \n",
    "    # convert both strings to all lowercase\n",
    "    q1 = q1.lower()\n",
    "    q2 = q2.lower()\n",
    "    \n",
    "    # tokenize the sentences without the punctuation\n",
    "    tokenizer = RegexpTokenizer(r'\\w+')\n",
    "    q1_tokens = tokenizer.tokenize(q1)\n",
    "    q2_tokens = tokenizer.tokenize(q2)\n",
    "    \n",
    "    # remove duplicate words in each list\n",
    "    set1 = set(q1_tokens)\n",
    "    set2 = set(q2_tokens)\n",
    "    \n",
    "    # return the number of elements that appear in both sets\n",
    "    # & is intersection of 2 sets\n",
    "    return len(set1 & set2)  \n",
    "    "
   ]
  },
  {
   "cell_type": "code",
   "execution_count": 18,
   "metadata": {
    "collapsed": false
   },
   "outputs": [],
   "source": [
    "df['shared_words_count'] = df.apply(lambda row: share_words_count(str(row['question1']), str(row['question2'])), axis=1)"
   ]
  },
  {
   "cell_type": "code",
   "execution_count": 19,
   "metadata": {
    "collapsed": false
   },
   "outputs": [
    {
     "name": "stdout",
     "output_type": "stream",
     "text": [
      "is_duplicate              0        1  percent_duplicates\n",
      "shared_words_count                                      \n",
      "0                   16358.0      NaN                 NaN\n",
      "1                   22321.0   1066.0            4.558088\n",
      "2                   31212.0   7327.0           19.011910\n",
      "3                   37665.0  16389.0           30.319680\n",
      "4                   36802.0  24079.0           39.550927\n",
      "5                   31940.0  27056.0           45.860736\n",
      "6                   25673.0  24404.0           48.732951\n",
      "7                   17788.0  18494.0           50.972934\n",
      "8                   11663.0  11950.0           50.607716\n",
      "9                    6397.0   6829.0           51.633147\n",
      "10                   4149.0   3846.0           48.105066\n",
      "11                   2783.0   2106.0           43.076294\n",
      "12                   2312.0   1777.0           43.458058\n",
      "13                   2197.0    782.0           26.250420\n",
      "14                   1711.0    933.0           35.287443\n",
      "15                   1247.0    769.0           38.144841\n",
      "16                    798.0    487.0           37.898833\n",
      "17                    765.0    177.0           18.789809\n",
      "18                    363.0    193.0           34.712230\n",
      "19                    392.0    133.0           25.333333\n",
      "20                    119.0    133.0           52.777778\n",
      "21                    240.0     82.0           25.465839\n",
      "22                     63.0     69.0           52.272727\n",
      "23                     20.0     69.0           77.528090\n",
      "24                     20.0     45.0           69.230769\n",
      "25                      6.0     25.0           80.645161\n",
      "26                      5.0     10.0           66.666667\n",
      "27                      5.0     14.0           73.684211\n",
      "28                      3.0      6.0           66.666667\n",
      "29                      3.0      2.0           40.000000\n",
      "30                      2.0      3.0           60.000000\n",
      "31                      2.0      1.0           33.333333\n",
      "32                      1.0      2.0           66.666667\n",
      "33                      1.0      2.0           66.666667\n",
      "34                      1.0      NaN                 NaN\n",
      "37                      NaN      1.0                 NaN\n",
      "40                      NaN      2.0                 NaN\n"
     ]
    },
    {
     "data": {
      "image/png": "[encoded data removed]",
      "text/plain": [
       "<matplotlib.figure.Figure at 0x7f357d2ca860>"
      ]
     },
     "metadata": {},
     "output_type": "display_data"
    }
   ],
   "source": [
    "df_shared = df[['shared_words_count','is_duplicate']]\n",
    "df_shared = df_shared.groupby(['shared_words_count','is_duplicate'])['shared_words_count'].count().unstack('is_duplicate')\n",
    "\n",
    "df_shared['percent_duplicates'] = (df_shared[1] / (df_shared[0] + df_shared[1])) * 100\n",
    "\n",
    "print(df_shared)\n",
    "\n",
    "fig, ax = plt.subplots(figsize=(10,5))\n",
    "ax = df_shared[[0,1]].plot(kind='bar', stacked=True, ax=ax) \n",
    "plt.xlabel('number of words that appear in both questions')\n",
    "plt.ylabel('question pairs frequency')\n",
    "plt.show()"
   ]
  },
  {
   "cell_type": "code",
   "execution_count": 20,
   "metadata": {
    "collapsed": false
   },
   "outputs": [
    {
     "data": {
      "text/plain": [
       "Index([0, 1, 'percent_duplicates'], dtype='object', name='is_duplicate')"
      ]
     },
     "execution_count": 20,
     "metadata": {},
     "output_type": "execute_result"
    }
   ],
   "source": [
    "df_shared.columns"
   ]
  },
  {
   "cell_type": "code",
   "execution_count": 21,
   "metadata": {
    "collapsed": false
   },
   "outputs": [
    {
     "data": {
      "text/plain": [
       "[<matplotlib.lines.Line2D at 0x7f3567d6f4a8>]"
      ]
     },
     "execution_count": 21,
     "metadata": {},
     "output_type": "execute_result"
    },
    {
     "data": {
      "image/png": "[encoded data removed]",
      "text/plain": [
       "<matplotlib.figure.Figure at 0x7f357d3087f0>"
      ]
     },
     "metadata": {},
     "output_type": "display_data"
    }
   ],
   "source": [
    "plt.plot(df_shared['percent_duplicates'])"
   ]
  },
  {
   "cell_type": "code",
   "execution_count": 22,
   "metadata": {
    "collapsed": false
   },
   "outputs": [
    {
     "data": {
      "text/plain": [
       "Index(['id', 'qid1', 'qid2', 'question1', 'question2', 'is_duplicate',\n",
       "       'char_count1', 'char_count2', 'char_diff', 'tokens1', 'word_count1',\n",
       "       'tokens2', 'word_count2', 'word_diff', 'qword1', 'qword2', 'qword_diff',\n",
       "       'shared_words_count'],\n",
       "      dtype='object')"
      ]
     },
     "execution_count": 22,
     "metadata": {},
     "output_type": "execute_result"
    }
   ],
   "source": [
    "df.columns"
   ]
  },
  {
   "cell_type": "code",
   "execution_count": 26,
   "metadata": {
    "collapsed": false
   },
   "outputs": [],
   "source": [
    "def shared_pct(row):\n",
    "    unique_words = list(set(row['tokens1'] + row['tokens2']))\n",
    "    unique_words_count = len(unique_words)\n",
    "    pct_shared = (row['shared_words_count'] / unique_words_count) * 100\n",
    "    \n",
    "    return pct_shared\n",
    "    \n",
    "df['pct_shared'] = df.apply(lambda row: shared_pct(row), axis=1)"
   ]
  },
  {
   "cell_type": "code",
   "execution_count": 30,
   "metadata": {
    "collapsed": false
   },
   "outputs": [
    {
     "name": "stderr",
     "output_type": "stream",
     "text": [
      "/home/guillaume/anaconda3/lib/python3.6/site-packages/ipykernel/__main__.py:2: SettingWithCopyWarning: \n",
      "A value is trying to be set on a copy of a slice from a DataFrame.\n",
      "Try using .loc[row_indexer,col_indexer] = value instead\n",
      "\n",
      "See the caveats in the documentation: http://pandas.pydata.org/pandas-docs/stable/indexing.html#indexing-view-versus-copy\n",
      "  from ipykernel import kernelapp as app\n"
     ]
    },
    {
     "data": {
      "image/png": "[encoded data removed]",
      "text/plain": [
       "<matplotlib.figure.Figure at 0x7f357d40ed30>"
      ]
     },
     "metadata": {},
     "output_type": "display_data"
    }
   ],
   "source": [
    "df_pct_shared = df[['pct_shared','is_duplicate']]\n",
    "df_pct_shared['pct_shared_bins'] = pd.cut(df_pct_shared['pct_shared'],10)\n",
    "\n",
    "df_pct_shared = df_pct_shared.groupby(['pct_shared_bins','is_duplicate'])['pct_shared_bins'].count().unstack('is_duplicate')\n",
    "\n",
    "\n",
    "fig, ax = plt.subplots(figsize=(10,5))\n",
    "ax = df_pct_shared[[0,1]].plot(kind='bar', stacked=True, ax=ax) \n",
    "plt.xlabel('percentage of words that are shared')\n",
    "plt.ylabel('question pairs frequency')\n",
    "plt.show()"
   ]
  },
  {
   "cell_type": "code",
   "execution_count": null,
   "metadata": {
    "collapsed": true
   },
   "outputs": [],
   "source": []
  }
 ],
 "metadata": {
  "kernelspec": {
   "display_name": "Python 3",
   "language": "python",
   "name": "python3"
  },
  "language_info": {
   "codemirror_mode": {
    "name": "ipython",
    "version": 3
   },
   "file_extension": ".py",
   "mimetype": "text/x-python",
   "name": "python",
   "nbconvert_exporter": "python",
   "pygments_lexer": "ipython3",
   "version": "3.6.0"
  }
 },
 "nbformat": 4,
 "nbformat_minor": 2
}
