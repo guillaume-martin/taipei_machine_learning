{
 "cells": [
  {
   "cell_type": "markdown",
   "metadata": {},
   "source": [
    "# Quora Question Pairs\n",
    "https://www.kaggle.com/c/quora-question-pairs"
   ]
  },
  {
   "cell_type": "code",
   "execution_count": 33,
   "metadata": {
    "collapsed": true
   },
   "outputs": [],
   "source": [
    "import pandas as pd\n",
    "import matplotlib.pyplot as plt\n",
    "import nltk\n",
    "\n",
    "%matplotlib inline"
   ]
  },
  {
   "cell_type": "code",
   "execution_count": 34,
   "metadata": {
    "collapsed": true
   },
   "outputs": [],
   "source": [
    "df = pd.read_csv('../Data/train.csv')"
   ]
  },
  {
   "cell_type": "code",
   "execution_count": 35,
   "metadata": {
    "collapsed": false
   },
   "outputs": [
    {
     "data": {
      "text/html": [
       "<div>\n",
       "<table border=\"1\" class=\"dataframe\">\n",
       "  <thead>\n",
       "    <tr style=\"text-align: right;\">\n",
       "      <th></th>\n",
       "      <th>id</th>\n",
       "      <th>qid1</th>\n",
       "      <th>qid2</th>\n",
       "      <th>question1</th>\n",
       "      <th>question2</th>\n",
       "      <th>is_duplicate</th>\n",
       "    </tr>\n",
       "  </thead>\n",
       "  <tbody>\n",
       "    <tr>\n",
       "      <th>0</th>\n",
       "      <td>0</td>\n",
       "      <td>1</td>\n",
       "      <td>2</td>\n",
       "      <td>What is the step by step guide to invest in sh...</td>\n",
       "      <td>What is the step by step guide to invest in sh...</td>\n",
       "      <td>0</td>\n",
       "    </tr>\n",
       "    <tr>\n",
       "      <th>1</th>\n",
       "      <td>1</td>\n",
       "      <td>3</td>\n",
       "      <td>4</td>\n",
       "      <td>What is the story of Kohinoor (Koh-i-Noor) Dia...</td>\n",
       "      <td>What would happen if the Indian government sto...</td>\n",
       "      <td>0</td>\n",
       "    </tr>\n",
       "    <tr>\n",
       "      <th>2</th>\n",
       "      <td>2</td>\n",
       "      <td>5</td>\n",
       "      <td>6</td>\n",
       "      <td>How can I increase the speed of my internet co...</td>\n",
       "      <td>How can Internet speed be increased by hacking...</td>\n",
       "      <td>0</td>\n",
       "    </tr>\n",
       "    <tr>\n",
       "      <th>3</th>\n",
       "      <td>3</td>\n",
       "      <td>7</td>\n",
       "      <td>8</td>\n",
       "      <td>Why am I mentally very lonely? How can I solve...</td>\n",
       "      <td>Find the remainder when [math]23^{24}[/math] i...</td>\n",
       "      <td>0</td>\n",
       "    </tr>\n",
       "    <tr>\n",
       "      <th>4</th>\n",
       "      <td>4</td>\n",
       "      <td>9</td>\n",
       "      <td>10</td>\n",
       "      <td>Which one dissolve in water quikly sugar, salt...</td>\n",
       "      <td>Which fish would survive in salt water?</td>\n",
       "      <td>0</td>\n",
       "    </tr>\n",
       "  </tbody>\n",
       "</table>\n",
       "</div>"
      ],
      "text/plain": [
       "   id  qid1  qid2                                          question1  \\\n",
       "0   0     1     2  What is the step by step guide to invest in sh...   \n",
       "1   1     3     4  What is the story of Kohinoor (Koh-i-Noor) Dia...   \n",
       "2   2     5     6  How can I increase the speed of my internet co...   \n",
       "3   3     7     8  Why am I mentally very lonely? How can I solve...   \n",
       "4   4     9    10  Which one dissolve in water quikly sugar, salt...   \n",
       "\n",
       "                                           question2  is_duplicate  \n",
       "0  What is the step by step guide to invest in sh...             0  \n",
       "1  What would happen if the Indian government sto...             0  \n",
       "2  How can Internet speed be increased by hacking...             0  \n",
       "3  Find the remainder when [math]23^{24}[/math] i...             0  \n",
       "4            Which fish would survive in salt water?             0  "
      ]
     },
     "execution_count": 35,
     "metadata": {},
     "output_type": "execute_result"
    }
   ],
   "source": [
    "df.head()"
   ]
  },
  {
   "cell_type": "markdown",
   "metadata": {},
   "source": [
    "We don't have a lot of columns in this dataset.  \n",
    "**id**: this is the id of the pair.  \n",
    "**qid1** and **qid2**: those are the ids of question 1 and question 2. They seem to be ids given for this particular dataset and are not related to quora's question id.  \n",
    "**question1** and **question2**: this is the text of the questions.  \n",
    "**is_duplicate**: this is the label we'll have to predict. 1 if the pair is a duplicate. 0 otherwise."
   ]
  },
  {
   "cell_type": "code",
   "execution_count": 36,
   "metadata": {
    "collapsed": false
   },
   "outputs": [
    {
     "name": "stdout",
     "output_type": "stream",
     "text": [
      "<class 'pandas.core.frame.DataFrame'>\n",
      "RangeIndex: 404290 entries, 0 to 404289\n",
      "Data columns (total 6 columns):\n",
      "id              404290 non-null int64\n",
      "qid1            404290 non-null int64\n",
      "qid2            404290 non-null int64\n",
      "question1       404290 non-null object\n",
      "question2       404288 non-null object\n",
      "is_duplicate    404290 non-null int64\n",
      "dtypes: int64(4), object(2)\n",
      "memory usage: 18.5+ MB\n"
     ]
    }
   ],
   "source": [
    "df.info()"
   ]
  },
  {
   "cell_type": "code",
   "execution_count": 37,
   "metadata": {
    "collapsed": true
   },
   "outputs": [],
   "source": [
    "def feature_chart(dataframe, count, group):\n",
    "    df = dataframe.groupby([count, group])[group].count().unstack(count)\n",
    "    df.fillna(0, inplace=True)\n",
    "    df['percent_duplicate'] = (df[1] / (df[0] + df[1])) * 100\n",
    "    print(df)\n",
    "    #df[[0,1]].plot(kind='bar', stacked=True) \n",
    "    df['percent_duplicate'].plot(kind='bar')"
   ]
  },
  {
   "cell_type": "code",
   "execution_count": 38,
   "metadata": {
    "collapsed": false
   },
   "outputs": [
    {
     "data": {
      "text/plain": [
       "is_duplicate\n",
       "0    255027\n",
       "1    149263\n",
       "dtype: int64"
      ]
     },
     "execution_count": 38,
     "metadata": {},
     "output_type": "execute_result"
    }
   ],
   "source": [
    "# class balance\n",
    "df.groupby('is_duplicate').size()"
   ]
  },
  {
   "cell_type": "markdown",
   "metadata": {},
   "source": [
    "We're having an imbalanced dataset that will require resampling.  \n",
    "## Characters count\n",
    "I want to count the difference in the number of characters between question1 and question2.  \n",
    "Then I will look for a correlation between this value and the label."
   ]
  },
  {
   "cell_type": "code",
   "execution_count": 39,
   "metadata": {
    "collapsed": false
   },
   "outputs": [
    {
     "data": {
      "text/plain": [
       "count    404290.000000\n",
       "mean         20.158179\n",
       "std          25.584401\n",
       "min           0.000000\n",
       "25%           4.000000\n",
       "50%          12.000000\n",
       "75%          26.000000\n",
       "max        1080.000000\n",
       "Name: char_diff, dtype: float64"
      ]
     },
     "execution_count": 39,
     "metadata": {},
     "output_type": "execute_result"
    }
   ],
   "source": [
    "# comparing the questions length and check for correlation with labels\n",
    "df['char_count1'] = df['question1'].apply(lambda x: len(x))\n",
    "df['char_count2'] = df['question2'].apply(lambda x: len(str(x)))\n",
    "df['char_diff'] = abs(df['char_count1'] - df['char_count2'])\n",
    "df['char_diff'].describe()\n",
    "#df['char_diff'].plot(kind='bar')"
   ]
  },
  {
   "cell_type": "code",
   "execution_count": 40,
   "metadata": {
    "collapsed": false
   },
   "outputs": [
    {
     "data": {
      "text/plain": [
       "{'boxes': [<matplotlib.lines.Line2D at 0x7efc27b1a6a0>],\n",
       " 'caps': [<matplotlib.lines.Line2D at 0x7efc27b22a20>,\n",
       "  <matplotlib.lines.Line2D at 0x7efc27b298d0>],\n",
       " 'fliers': [<matplotlib.lines.Line2D at 0x7efc27b31940>],\n",
       " 'means': [],\n",
       " 'medians': [<matplotlib.lines.Line2D at 0x7efc27b29a90>],\n",
       " 'whiskers': [<matplotlib.lines.Line2D at 0x7efc27b1af60>,\n",
       "  <matplotlib.lines.Line2D at 0x7efc27b22860>]}"
      ]
     },
     "execution_count": 40,
     "metadata": {},
     "output_type": "execute_result"
    },
    {
     "data": {
      "image/png": "[encoded data removed]",
      "text/plain": [
       "<matplotlib.figure.Figure at 0x7efc2d3a9a20>"
      ]
     },
     "metadata": {},
     "output_type": "display_data"
    }
   ],
   "source": [
    "plt.boxplot(df.char_diff)"
   ]
  },
  {
   "cell_type": "code",
   "execution_count": 41,
   "metadata": {
    "collapsed": false
   },
   "outputs": [],
   "source": [
    "# I want to visualize the part of duplicates per character count difference\n",
    "# I group characters count differences in bins\n",
    "#df['char_diff_bins'] = pd.cut(df.char_diff,100)"
   ]
  },
  {
   "cell_type": "code",
   "execution_count": 42,
   "metadata": {
    "collapsed": false
   },
   "outputs": [
    {
     "data": {
      "image/png": "[encoded data removed]",
      "text/plain": [
       "<matplotlib.figure.Figure at 0x7efc27b61f98>"
      ]
     },
     "metadata": {},
     "output_type": "display_data"
    }
   ],
   "source": [
    "fig = plt.figure()\n",
    "ax = fig.add_subplot(1,1,1)\n",
    "ax.hist(df.char_diff, bins=100)\n",
    "plt.title('Characters count difference distribution')\n",
    "plt.xlabel('# chars in q1 - # chars in q2')\n",
    "plt.ylabel('# of question pairs')\n",
    "plt.show()"
   ]
  },
  {
   "cell_type": "markdown",
   "metadata": {},
   "source": [
    "I will keep only the pairs that have a difference between -200 and +200"
   ]
  },
  {
   "cell_type": "code",
   "execution_count": null,
   "metadata": {
    "collapsed": false
   },
   "outputs": [
    {
     "data": {
      "image/png": "[encoded data removed]",
      "text/plain": [
       "<matplotlib.figure.Figure at 0x7efc27877160>"
      ]
     },
     "metadata": {},
     "output_type": "display_data"
    }
   ],
   "source": [
    "df_char = df[['char_diff','is_duplicate']]\n",
    "df_char = df_char[(df_char['char_diff'] >= 0) & (df_char['char_diff'] <= 200)]\n",
    "df_char['char_diff_bins'] = pd.cut(df_char.char_diff,50)\n",
    "df_char = df_char.groupby(['char_diff_bins','is_duplicate'])['char_diff_bins'].count().unstack('is_duplicate')\n",
    "#df_char['duplicate_pct'] = (df_char[1] / (df_char[0] + df_char[1])) * 100\n",
    "\n",
    "fig, ax = plt.subplots(figsize=(10,5))\n",
    "ax = df_char[[0,1]].plot(kind='bar', stacked=True, ax=ax) \n",
    "plt.show()"
   ]
  },
  {
   "cell_type": "markdown",
   "metadata": {},
   "source": [
    "## Words count\n",
    "I am going to do the same exercise than before but I will count words instead of characters."
   ]
  },
  {
   "cell_type": "code",
   "execution_count": null,
   "metadata": {
    "collapsed": false
   },
   "outputs": [],
   "source": [
    "# comparing words count\n",
    "df['tokens1'] = df['question1'].apply(lambda x: nltk.word_tokenize(x))\n",
    "df['word_count1'] = df['tokens1'].apply(lambda x: len(x))\n",
    "df['tokens2'] = df['question2'].apply(lambda x: nltk.word_tokenize(str(x)))\n",
    "df['word_count2'] = df['tokens2'].apply(lambda x: len(x))\n",
    "df.head()"
   ]
  },
  {
   "cell_type": "code",
   "execution_count": null,
   "metadata": {
    "collapsed": false
   },
   "outputs": [],
   "source": [
    "df['word_diff'] = abs(df['word_count1'] - df['word_count2'])\n",
    "df['word_diff'].describe()"
   ]
  },
  {
   "cell_type": "code",
   "execution_count": null,
   "metadata": {
    "collapsed": false
   },
   "outputs": [],
   "source": [
    "fig = plt.figure()\n",
    "ax = fig.add_subplot(1,1,1)\n",
    "ax.hist(df.word_diff, bins=100)\n",
    "plt.title('Words count difference distribution')\n",
    "plt.xlabel('|# words in q1 - # words in q2|')\n",
    "plt.ylabel('# of question pairs')\n",
    "plt.show()"
   ]
  },
  {
   "cell_type": "code",
   "execution_count": null,
   "metadata": {
    "collapsed": false
   },
   "outputs": [],
   "source": [
    "df_word = df[['word_diff','is_duplicate']]\n",
    "df_word = df_word[(df_word['word_diff'] >= 0) & (df_word['word_diff'] <= 25)]\n",
    "df_word['word_diff_bins'] = pd.cut(df_word.word_diff,25)\n",
    "df_word = df_word.groupby(['word_diff_bins','is_duplicate'])['word_diff_bins'].count().unstack('is_duplicate')\n",
    "\n",
    "fig, ax = plt.subplots(figsize=(10,5))\n",
    "ax = df_word[[0,1]].plot(kind='bar', stacked=True, ax=ax) \n",
    "plt.show()"
   ]
  },
  {
   "cell_type": "markdown",
   "metadata": {
    "collapsed": true
   },
   "source": [
    "## question words\n",
    "I want to extract the question word from each question and look at the impact of different words used in the pair."
   ]
  },
  {
   "cell_type": "code",
   "execution_count": null,
   "metadata": {
    "collapsed": false,
    "scrolled": true
   },
   "outputs": [],
   "source": [
    "question_words = ['what','where','when','why','who','which','whose','how']\n",
    "def get_qword(string):\n",
    "    string = str(string).lower()\n",
    "    for word in question_words:\n",
    "        if word in string:\n",
    "            return word\n",
    "        \n",
    "df['qword1'] = df['question1'].apply(lambda x: get_qword(x))\n",
    "df['qword2'] = df['question2'].apply(lambda x: get_qword(x))\n",
    "df['qword_diff'] = df.apply(lambda row: False if row['qword1'] == row['qword2'] else True)\n",
    "df.head()"
   ]
  },
  {
   "cell_type": "code",
   "execution_count": null,
   "metadata": {
    "collapsed": false
   },
   "outputs": [],
   "source": [
    "df.columns"
   ]
  },
  {
   "cell_type": "code",
   "execution_count": null,
   "metadata": {
    "collapsed": true
   },
   "outputs": [],
   "source": []
  }
 ],
 "metadata": {
  "kernelspec": {
   "display_name": "Python 3",
   "language": "python",
   "name": "python3"
  },
  "language_info": {
   "codemirror_mode": {
    "name": "ipython",
    "version": 3
   },
   "file_extension": ".py",
   "mimetype": "text/x-python",
   "name": "python",
   "nbconvert_exporter": "python",
   "pygments_lexer": "ipython3",
   "version": "3.6.0"
  }
 },
 "nbformat": 4,
 "nbformat_minor": 2
}
