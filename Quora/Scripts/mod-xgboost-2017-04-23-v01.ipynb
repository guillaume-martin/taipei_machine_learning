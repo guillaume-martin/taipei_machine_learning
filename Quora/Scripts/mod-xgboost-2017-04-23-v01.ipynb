{
 "cells": [
  {
   "cell_type": "code",
   "execution_count": 1,
   "metadata": {
    "collapsed": true
   },
   "outputs": [],
   "source": [
    "import pandas as pd\n",
    "import numpy as np\n",
    "import xgboost as xgb\n",
    "from xgboost.sklearn import XGBClassifier\n",
    "from sklearn import metrics\n",
    "from sklearn.utils import resample\n",
    "from sklearn.model_selection import KFold, cross_val_score, GridSearchCV, train_test_split\n",
    "import matplotlib.pyplot as plt\n",
    "\n",
    "%matplotlib inline"
   ]
  },
  {
   "cell_type": "code",
   "execution_count": 9,
   "metadata": {
    "collapsed": false
   },
   "outputs": [],
   "source": [
    "df = pd.read_csv('../Data/features-2017-04-25-v01.csv')"
   ]
  },
  {
   "cell_type": "code",
   "execution_count": null,
   "metadata": {
    "collapsed": true
   },
   "outputs": [],
   "source": [
    "# resample the "
   ]
  },
  {
   "cell_type": "code",
   "execution_count": 10,
   "metadata": {
    "collapsed": false
   },
   "outputs": [],
   "source": [
    "# drop some features\n",
    "df.drop(['char_diff', 'word_diff', 'pct_shared', 'qword1', 'qword2'], axis=1, inplace=True)\n",
    "\n",
    "X = np.array(df.drop('is_duplicate', axis=1))\n",
    "y = np.array(df['is_duplicate'].values.ravel())"
   ]
  },
  {
   "cell_type": "code",
   "execution_count": 6,
   "metadata": {
    "collapsed": false
   },
   "outputs": [],
   "source": [
    "def modelfit(model, features, label, scoring):\n",
    "    ''' measure and report the model's performance\n",
    "    \n",
    "    parameters\n",
    "    ----------\n",
    "    model\n",
    "        then model to evaluate\n",
    "    features    array\n",
    "        features\n",
    "    label    array\n",
    "        labels\n",
    "    scoring    string\n",
    "        the scoring method\n",
    "    '''\n",
    "    \n",
    "    # fit the model\n",
    "    model.fit(features, label)\n",
    "    \n",
    "    # make predictions\n",
    "    y_pred = model.predict(features)\n",
    "    y_proba = model.predict_proba(features)[:,1]\n",
    "    \n",
    "    # perform cross validation\n",
    "    n_folds = 10\n",
    "    seed = 7\n",
    "    kfold = KFold(n_splits=n_folds, random_state=seed)\n",
    "    cv_score = cross_val_score(model, features, label, cv=kfold, scoring=scoring)\n",
    "    cv_accuracy = cross_val_score(model, features, label, cv=kfold, scoring='accuracy')\n",
    "    \n",
    "    # print the report\n",
    "    print('\\nModel Report')\n",
    "    print('Model:\\n', model)\n",
    "    print('\\nAccuracy: %.7g' % np.mean(cv_accuracy))\n",
    "    print('\\nCV score (%s): \\nMean - %.7g | Std - %.7g | Min - %.7g | Max - %.7g \\n' % (scoring,np.mean(cv_score),np.std(cv_score),np.min(cv_score),np.max(cv_score)))\n",
    "    print('\\nAUC score: %f' % metrics.roc_auc_score(y, y_proba ))\n",
    "    fig = plt.figure()\n",
    "    fig.suptitle('Cross Validation Score')\n",
    "    ax = fig.add_subplot(111)\n",
    "    plt.boxplot(cv_score)\n",
    "    plt.show()"
   ]
  },
  {
   "cell_type": "code",
   "execution_count": 11,
   "metadata": {
    "collapsed": false
   },
   "outputs": [
    {
     "name": "stdout",
     "output_type": "stream",
     "text": [
      "\n",
      "Model Report\n",
      "Model:\n",
      " XGBClassifier(base_score=0.5, colsample_bylevel=1, colsample_bytree=1,\n",
      "       gamma=0, learning_rate=0.1, max_delta_step=0, max_depth=3,\n",
      "       min_child_weight=1, missing=None, n_estimators=100, nthread=-1,\n",
      "       objective='binary:logistic', reg_alpha=0, reg_lambda=1,\n",
      "       scale_pos_weight=1, seed=0, silent=True, subsample=1)\n",
      "\n",
      "Accuracy: 0.690905\n",
      "\n",
      "CV score (neg_log_loss): \n",
      "Mean - -0.5340737 | Std - 0.003531531 | Min - -0.5375504 | Max - -0.5250491 \n",
      "\n",
      "\n",
      "AUC score: 0.762064\n"
     ]
    },
    {
     "name": "stderr",
     "output_type": "stream",
     "text": [
      "Exception ignored in: <bound method DMatrix.__del__ of <xgboost.core.DMatrix object at 0x7fb686ba9a90>>\n",
      "Traceback (most recent call last):\n",
      "  File \"/home/guillaume/anaconda3/lib/python3.6/site-packages/xgboost-0.6-py3.6.egg/xgboost/core.py\", line 337, in __del__\n",
      "    _check_call(_LIB.XGDMatrixFree(self.handle))\n",
      "AttributeError: 'DMatrix' object has no attribute 'handle'\n"
     ]
    },
    {
     "data": {
      "image/png": "[encoded data removed]",
      "text/plain": [
       "<matplotlib.figure.Figure at 0x7fb6863df7f0>"
      ]
     },
     "metadata": {},
     "output_type": "display_data"
    }
   ],
   "source": [
    "xgb0 = XGBClassifier()\n",
    "modelfit(xgb0, X, y, 'neg_log_loss')"
   ]
  },
  {
   "cell_type": "markdown",
   "metadata": {},
   "source": [
    "## "
   ]
  }
 ],
 "metadata": {
  "kernelspec": {
   "display_name": "Python 3",
   "language": "python",
   "name": "python3"
  },
  "language_info": {
   "codemirror_mode": {
    "name": "ipython",
    "version": 3
   },
   "file_extension": ".py",
   "mimetype": "text/x-python",
   "name": "python",
   "nbconvert_exporter": "python",
   "pygments_lexer": "ipython3",
   "version": "3.6.0"
  }
 },
 "nbformat": 4,
 "nbformat_minor": 2
}
