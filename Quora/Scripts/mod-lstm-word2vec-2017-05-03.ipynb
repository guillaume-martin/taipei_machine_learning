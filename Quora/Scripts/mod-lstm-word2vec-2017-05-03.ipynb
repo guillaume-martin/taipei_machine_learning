{
 "cells": [
  {
   "cell_type": "markdown",
   "metadata": {},
   "source": [
    "https://www.kaggle.com/lystdo/quora-question-pairs/lstm-with-word2vec-embeddings"
   ]
  },
  {
   "cell_type": "code",
   "execution_count": 31,
   "metadata": {
    "collapsed": false
   },
   "outputs": [],
   "source": [
    "# import packages\n",
    "import pandas as pd\n",
    "import logging\n",
    "import re\n",
    "\n",
    "from nltk.corpus import stopwords\n",
    "from nltk.stem import SnowballStemmer\n",
    "from string import punctuation\n",
    "from gensim.models import word2vec"
   ]
  },
  {
   "cell_type": "code",
   "execution_count": 16,
   "metadata": {
    "collapsed": true
   },
   "outputs": [],
   "source": [
    "# set variables\n",
    "DATA_DIR = '../Data/'\n",
    "TRAIN_DATA_FILE = 'train.csv'\n",
    "TEST_DATA_FILE = 'test.csv'"
   ]
  },
  {
   "cell_type": "markdown",
   "metadata": {},
   "source": [
    "## prepare the data"
   ]
  },
  {
   "cell_type": "code",
   "execution_count": 17,
   "metadata": {
    "collapsed": false
   },
   "outputs": [],
   "source": [
    "def question_to_words(question, remove_stopwords=False, stem_words=False):\n",
    "    # convert to lowercase\n",
    "    question = question.lower()\n",
    "    \n",
    "    # remove punctuation and split\n",
    "    question = re.findall(r'\\w+', question, flags = re.UNICODE)\n",
    "    \n",
    "    # remove stop words\n",
    "    words=[]\n",
    "    if remove_stopwords:\n",
    "        stops = stopwords.words('english')\n",
    "        words = [word for word in question if not word in stops]\n",
    "                \n",
    "    # stem words\n",
    "    if stem_words:\n",
    "        stemmer = SnowballStemmer('english')\n",
    "        words = [stemmer.stem(word) for word in words]\n",
    "        \n",
    "    if len(words) > 0:\n",
    "        return words\n",
    "    else:\n",
    "        return question"
   ]
  },
  {
   "cell_type": "code",
   "execution_count": 50,
   "metadata": {
    "collapsed": false
   },
   "outputs": [],
   "source": [
    "df_train = pd.read_csv(DATA_DIR+TRAIN_DATA_FILE, nrows=1000)\n",
    "df_train = df_train[['question1','question2']]\n",
    "df_test = pd.read_csv(DATA_DIR + TEST_DATA_FILE, nrows=1000)\n",
    "df_test = df_test[['question1','question2']]"
   ]
  },
  {
   "cell_type": "code",
   "execution_count": 51,
   "metadata": {
    "collapsed": false
   },
   "outputs": [],
   "source": [
    "# We merge the two datasets to teach the vocabulary to Word2Vec\n",
    "df = pd.concat([df_train, df_test])"
   ]
  },
  {
   "cell_type": "code",
   "execution_count": 52,
   "metadata": {
    "collapsed": false,
    "scrolled": true
   },
   "outputs": [
    {
     "data": {
      "text/html": [
       "<div>\n",
       "<table border=\"1\" class=\"dataframe\">\n",
       "  <thead>\n",
       "    <tr style=\"text-align: right;\">\n",
       "      <th></th>\n",
       "      <th>question1</th>\n",
       "      <th>question2</th>\n",
       "      <th>words1</th>\n",
       "      <th>words2</th>\n",
       "    </tr>\n",
       "  </thead>\n",
       "  <tbody>\n",
       "    <tr>\n",
       "      <th>0</th>\n",
       "      <td>What is the step by step guide to invest in sh...</td>\n",
       "      <td>What is the step by step guide to invest in sh...</td>\n",
       "      <td>[what, is, the, step, by, step, guide, to, inv...</td>\n",
       "      <td>[what, is, the, step, by, step, guide, to, inv...</td>\n",
       "    </tr>\n",
       "    <tr>\n",
       "      <th>1</th>\n",
       "      <td>What is the story of Kohinoor (Koh-i-Noor) Dia...</td>\n",
       "      <td>What would happen if the Indian government sto...</td>\n",
       "      <td>[what, is, the, story, of, kohinoor, koh, i, n...</td>\n",
       "      <td>[what, would, happen, if, the, indian, governm...</td>\n",
       "    </tr>\n",
       "    <tr>\n",
       "      <th>2</th>\n",
       "      <td>How can I increase the speed of my internet co...</td>\n",
       "      <td>How can Internet speed be increased by hacking...</td>\n",
       "      <td>[how, can, i, increase, the, speed, of, my, in...</td>\n",
       "      <td>[how, can, internet, speed, be, increased, by,...</td>\n",
       "    </tr>\n",
       "    <tr>\n",
       "      <th>3</th>\n",
       "      <td>Why am I mentally very lonely? How can I solve...</td>\n",
       "      <td>Find the remainder when [math]23^{24}[/math] i...</td>\n",
       "      <td>[why, am, i, mentally, very, lonely, how, can,...</td>\n",
       "      <td>[find, the, remainder, when, math, 23, 24, mat...</td>\n",
       "    </tr>\n",
       "    <tr>\n",
       "      <th>4</th>\n",
       "      <td>Which one dissolve in water quikly sugar, salt...</td>\n",
       "      <td>Which fish would survive in salt water?</td>\n",
       "      <td>[which, one, dissolve, in, water, quikly, suga...</td>\n",
       "      <td>[which, fish, would, survive, in, salt, water]</td>\n",
       "    </tr>\n",
       "    <tr>\n",
       "      <th>5</th>\n",
       "      <td>Astrology: I am a Capricorn Sun Cap moon and c...</td>\n",
       "      <td>I'm a triple Capricorn (Sun, Moon and ascendan...</td>\n",
       "      <td>[astrology, i, am, a, capricorn, sun, cap, moo...</td>\n",
       "      <td>[i, m, a, triple, capricorn, sun, moon, and, a...</td>\n",
       "    </tr>\n",
       "    <tr>\n",
       "      <th>6</th>\n",
       "      <td>Should I buy tiago?</td>\n",
       "      <td>What keeps childern active and far from phone ...</td>\n",
       "      <td>[should, i, buy, tiago]</td>\n",
       "      <td>[what, keeps, childern, active, and, far, from...</td>\n",
       "    </tr>\n",
       "    <tr>\n",
       "      <th>7</th>\n",
       "      <td>How can I be a good geologist?</td>\n",
       "      <td>What should I do to be a great geologist?</td>\n",
       "      <td>[how, can, i, be, a, good, geologist]</td>\n",
       "      <td>[what, should, i, do, to, be, a, great, geolog...</td>\n",
       "    </tr>\n",
       "    <tr>\n",
       "      <th>8</th>\n",
       "      <td>When do you use シ instead of し?</td>\n",
       "      <td>When do you use \"&amp;\" instead of \"and\"?</td>\n",
       "      <td>[when, do, you, use, シ, instead, of, し]</td>\n",
       "      <td>[when, do, you, use, instead, of, and]</td>\n",
       "    </tr>\n",
       "    <tr>\n",
       "      <th>9</th>\n",
       "      <td>Motorola (company): Can I hack my Charter Moto...</td>\n",
       "      <td>How do I hack Motorola DCX3400 for free internet?</td>\n",
       "      <td>[motorola, company, can, i, hack, my, charter,...</td>\n",
       "      <td>[how, do, i, hack, motorola, dcx3400, for, fre...</td>\n",
       "    </tr>\n",
       "    <tr>\n",
       "      <th>10</th>\n",
       "      <td>Method to find separation of slits using fresn...</td>\n",
       "      <td>What are some of the things technicians can te...</td>\n",
       "      <td>[method, to, find, separation, of, slits, usin...</td>\n",
       "      <td>[what, are, some, of, the, things, technicians...</td>\n",
       "    </tr>\n",
       "    <tr>\n",
       "      <th>11</th>\n",
       "      <td>How do I read and find my YouTube comments?</td>\n",
       "      <td>How can I see all my Youtube comments?</td>\n",
       "      <td>[how, do, i, read, and, find, my, youtube, com...</td>\n",
       "      <td>[how, can, i, see, all, my, youtube, comments]</td>\n",
       "    </tr>\n",
       "    <tr>\n",
       "      <th>12</th>\n",
       "      <td>What can make Physics easy to learn?</td>\n",
       "      <td>How can you make physics easy to learn?</td>\n",
       "      <td>[what, can, make, physics, easy, to, learn]</td>\n",
       "      <td>[how, can, you, make, physics, easy, to, learn]</td>\n",
       "    </tr>\n",
       "    <tr>\n",
       "      <th>13</th>\n",
       "      <td>What was your first sexual experience like?</td>\n",
       "      <td>What was your first sexual experience?</td>\n",
       "      <td>[what, was, your, first, sexual, experience, l...</td>\n",
       "      <td>[what, was, your, first, sexual, experience]</td>\n",
       "    </tr>\n",
       "    <tr>\n",
       "      <th>14</th>\n",
       "      <td>What are the laws to change your status from a...</td>\n",
       "      <td>What are the laws to change your status from a...</td>\n",
       "      <td>[what, are, the, laws, to, change, your, statu...</td>\n",
       "      <td>[what, are, the, laws, to, change, your, statu...</td>\n",
       "    </tr>\n",
       "    <tr>\n",
       "      <th>15</th>\n",
       "      <td>What would a Trump presidency mean for current...</td>\n",
       "      <td>How will a Trump presidency affect the student...</td>\n",
       "      <td>[what, would, a, trump, presidency, mean, for,...</td>\n",
       "      <td>[how, will, a, trump, presidency, affect, the,...</td>\n",
       "    </tr>\n",
       "    <tr>\n",
       "      <th>16</th>\n",
       "      <td>What does manipulation mean?</td>\n",
       "      <td>What does manipulation means?</td>\n",
       "      <td>[what, does, manipulation, mean]</td>\n",
       "      <td>[what, does, manipulation, means]</td>\n",
       "    </tr>\n",
       "    <tr>\n",
       "      <th>17</th>\n",
       "      <td>Why do girls want to be friends with the guy t...</td>\n",
       "      <td>How do guys feel after rejecting a girl?</td>\n",
       "      <td>[why, do, girls, want, to, be, friends, with, ...</td>\n",
       "      <td>[how, do, guys, feel, after, rejecting, a, girl]</td>\n",
       "    </tr>\n",
       "    <tr>\n",
       "      <th>18</th>\n",
       "      <td>Why are so many Quora users posting questions ...</td>\n",
       "      <td>Why do people ask Quora questions which can be...</td>\n",
       "      <td>[why, are, so, many, quora, users, posting, qu...</td>\n",
       "      <td>[why, do, people, ask, quora, questions, which...</td>\n",
       "    </tr>\n",
       "    <tr>\n",
       "      <th>19</th>\n",
       "      <td>Which is the best digital marketing institutio...</td>\n",
       "      <td>Which is the best digital marketing institute ...</td>\n",
       "      <td>[which, is, the, best, digital, marketing, ins...</td>\n",
       "      <td>[which, is, the, best, digital, marketing, ins...</td>\n",
       "    </tr>\n",
       "  </tbody>\n",
       "</table>\n",
       "</div>"
      ],
      "text/plain": [
       "                                            question1  \\\n",
       "0   What is the step by step guide to invest in sh...   \n",
       "1   What is the story of Kohinoor (Koh-i-Noor) Dia...   \n",
       "2   How can I increase the speed of my internet co...   \n",
       "3   Why am I mentally very lonely? How can I solve...   \n",
       "4   Which one dissolve in water quikly sugar, salt...   \n",
       "5   Astrology: I am a Capricorn Sun Cap moon and c...   \n",
       "6                                 Should I buy tiago?   \n",
       "7                      How can I be a good geologist?   \n",
       "8                     When do you use シ instead of し?   \n",
       "9   Motorola (company): Can I hack my Charter Moto...   \n",
       "10  Method to find separation of slits using fresn...   \n",
       "11        How do I read and find my YouTube comments?   \n",
       "12               What can make Physics easy to learn?   \n",
       "13        What was your first sexual experience like?   \n",
       "14  What are the laws to change your status from a...   \n",
       "15  What would a Trump presidency mean for current...   \n",
       "16                       What does manipulation mean?   \n",
       "17  Why do girls want to be friends with the guy t...   \n",
       "18  Why are so many Quora users posting questions ...   \n",
       "19  Which is the best digital marketing institutio...   \n",
       "\n",
       "                                            question2  \\\n",
       "0   What is the step by step guide to invest in sh...   \n",
       "1   What would happen if the Indian government sto...   \n",
       "2   How can Internet speed be increased by hacking...   \n",
       "3   Find the remainder when [math]23^{24}[/math] i...   \n",
       "4             Which fish would survive in salt water?   \n",
       "5   I'm a triple Capricorn (Sun, Moon and ascendan...   \n",
       "6   What keeps childern active and far from phone ...   \n",
       "7           What should I do to be a great geologist?   \n",
       "8               When do you use \"&\" instead of \"and\"?   \n",
       "9   How do I hack Motorola DCX3400 for free internet?   \n",
       "10  What are some of the things technicians can te...   \n",
       "11             How can I see all my Youtube comments?   \n",
       "12            How can you make physics easy to learn?   \n",
       "13             What was your first sexual experience?   \n",
       "14  What are the laws to change your status from a...   \n",
       "15  How will a Trump presidency affect the student...   \n",
       "16                      What does manipulation means?   \n",
       "17           How do guys feel after rejecting a girl?   \n",
       "18  Why do people ask Quora questions which can be...   \n",
       "19  Which is the best digital marketing institute ...   \n",
       "\n",
       "                                               words1  \\\n",
       "0   [what, is, the, step, by, step, guide, to, inv...   \n",
       "1   [what, is, the, story, of, kohinoor, koh, i, n...   \n",
       "2   [how, can, i, increase, the, speed, of, my, in...   \n",
       "3   [why, am, i, mentally, very, lonely, how, can,...   \n",
       "4   [which, one, dissolve, in, water, quikly, suga...   \n",
       "5   [astrology, i, am, a, capricorn, sun, cap, moo...   \n",
       "6                             [should, i, buy, tiago]   \n",
       "7               [how, can, i, be, a, good, geologist]   \n",
       "8             [when, do, you, use, シ, instead, of, し]   \n",
       "9   [motorola, company, can, i, hack, my, charter,...   \n",
       "10  [method, to, find, separation, of, slits, usin...   \n",
       "11  [how, do, i, read, and, find, my, youtube, com...   \n",
       "12        [what, can, make, physics, easy, to, learn]   \n",
       "13  [what, was, your, first, sexual, experience, l...   \n",
       "14  [what, are, the, laws, to, change, your, statu...   \n",
       "15  [what, would, a, trump, presidency, mean, for,...   \n",
       "16                   [what, does, manipulation, mean]   \n",
       "17  [why, do, girls, want, to, be, friends, with, ...   \n",
       "18  [why, are, so, many, quora, users, posting, qu...   \n",
       "19  [which, is, the, best, digital, marketing, ins...   \n",
       "\n",
       "                                               words2  \n",
       "0   [what, is, the, step, by, step, guide, to, inv...  \n",
       "1   [what, would, happen, if, the, indian, governm...  \n",
       "2   [how, can, internet, speed, be, increased, by,...  \n",
       "3   [find, the, remainder, when, math, 23, 24, mat...  \n",
       "4      [which, fish, would, survive, in, salt, water]  \n",
       "5   [i, m, a, triple, capricorn, sun, moon, and, a...  \n",
       "6   [what, keeps, childern, active, and, far, from...  \n",
       "7   [what, should, i, do, to, be, a, great, geolog...  \n",
       "8              [when, do, you, use, instead, of, and]  \n",
       "9   [how, do, i, hack, motorola, dcx3400, for, fre...  \n",
       "10  [what, are, some, of, the, things, technicians...  \n",
       "11     [how, can, i, see, all, my, youtube, comments]  \n",
       "12    [how, can, you, make, physics, easy, to, learn]  \n",
       "13       [what, was, your, first, sexual, experience]  \n",
       "14  [what, are, the, laws, to, change, your, statu...  \n",
       "15  [how, will, a, trump, presidency, affect, the,...  \n",
       "16                  [what, does, manipulation, means]  \n",
       "17   [how, do, guys, feel, after, rejecting, a, girl]  \n",
       "18  [why, do, people, ask, quora, questions, which...  \n",
       "19  [which, is, the, best, digital, marketing, ins...  "
      ]
     },
     "execution_count": 52,
     "metadata": {},
     "output_type": "execute_result"
    }
   ],
   "source": [
    "# To train Word2Vec, it is better to leave stop words\n",
    "df['words1'] = df['question1'].apply(lambda x: question_to_words(x))\n",
    "df['words2'] = df['question2'].apply(lambda x: question_to_words(x))\n",
    "df.head(20)"
   ]
  },
  {
   "cell_type": "markdown",
   "metadata": {
    "collapsed": true
   },
   "source": [
    "## Word embedding"
   ]
  },
  {
   "cell_type": "code",
   "execution_count": 53,
   "metadata": {
    "collapsed": false
   },
   "outputs": [
    {
     "name": "stdout",
     "output_type": "stream",
     "text": [
      "4000\n",
      "['what', 'is', 'the', 'step', 'by', 'step', 'guide', 'to', 'invest', 'in', 'share', 'market', 'in', 'india']\n"
     ]
    }
   ],
   "source": [
    "# we parse all questions into a list of sentences\n",
    "sentences = []\n",
    "\n",
    "sentences += df['words1'].tolist()\n",
    "sentences += df['words2'].tolist()\n",
    "\n",
    "print(len(sentences))\n",
    "print(sentences[0])"
   ]
  },
  {
   "cell_type": "code",
   "execution_count": 54,
   "metadata": {
    "collapsed": false
   },
   "outputs": [],
   "source": [
    "# setup word embedding variables\n",
    "num_features = 300\n",
    "min_word_count = 40 # mini freq for words to be kept\n",
    "num_workers = 4\n",
    "context = 20\n",
    "downsampling = 1e-3\n",
    "model_name = 'w2v_' + str(num_features) + \"features_\" + str(min_word_count) + \"minwords_\" + str(context) + \"context\""
   ]
  },
  {
   "cell_type": "code",
   "execution_count": 55,
   "metadata": {
    "collapsed": false
   },
   "outputs": [
    {
     "name": "stderr",
     "output_type": "stream",
     "text": [
      "2017-05-03 13:00:19,494 : INFO : collecting all words and their counts\n",
      "2017-05-03 13:00:19,496 : INFO : PROGRESS: at sentence #0, processed 0 words, keeping 0 word types\n",
      "2017-05-03 13:00:19,522 : INFO : collected 6395 word types from a corpus of 44609 raw words and 4000 sentences\n",
      "2017-05-03 13:00:19,523 : INFO : Loading a fresh vocabulary\n",
      "2017-05-03 13:00:19,531 : INFO : min_count=40 retains 118 unique words (1% of original 6395, drops 6277)\n",
      "2017-05-03 13:00:19,534 : INFO : min_count=40 leaves 24710 word corpus (55% of original 44609, drops 19899)\n",
      "2017-05-03 13:00:19,537 : INFO : deleting the raw counts dictionary of 6395 items\n",
      "2017-05-03 13:00:19,540 : INFO : sample=0.001 downsamples 74 most-common words\n",
      "2017-05-03 13:00:19,541 : INFO : downsampling leaves estimated 9622 word corpus (38.9% of prior 24710)\n",
      "2017-05-03 13:00:19,542 : INFO : estimated required memory for 118 words and 300 dimensions: 342200 bytes\n",
      "2017-05-03 13:00:19,545 : INFO : resetting layer weights\n",
      "2017-05-03 13:00:19,550 : INFO : training model with 4 workers on 118 vocabulary and 300 features, using sg=0 hs=0 sample=0.001 negative=5 window=20\n",
      "2017-05-03 13:00:19,552 : INFO : expecting 4000 sentences, matching count from corpus used for vocabulary survey\n",
      "2017-05-03 13:00:19,864 : INFO : worker thread finished; awaiting finish of 3 more threads\n",
      "2017-05-03 13:00:19,872 : INFO : worker thread finished; awaiting finish of 2 more threads\n",
      "2017-05-03 13:00:19,875 : INFO : worker thread finished; awaiting finish of 1 more threads\n",
      "2017-05-03 13:00:19,894 : INFO : worker thread finished; awaiting finish of 0 more threads\n",
      "2017-05-03 13:00:19,900 : INFO : training on 223045 raw words (48405 effective words) took 0.3s, 144338 effective words/s\n",
      "2017-05-03 13:00:19,902 : WARNING : under 10 jobs per worker: consider setting a smaller `batch_words' for smoother alpha decay\n",
      "2017-05-03 13:00:19,905 : INFO : saving Word2Vec object under w2v_300features_40minwords_20context, separately None\n",
      "2017-05-03 13:00:19,908 : INFO : not storing attribute syn0norm\n",
      "2017-05-03 13:00:19,914 : INFO : not storing attribute cum_table\n",
      "2017-05-03 13:00:19,927 : INFO : saved w2v_300features_40minwords_20context\n"
     ]
    }
   ],
   "source": [
    "logging.basicConfig(format='%(asctime)s : %(levelname)s : %(message)s', level=logging.INFO)\n",
    "# learn the vocabulary\n",
    "model = word2vec.Word2Vec(sentences, \n",
    "                          workers = num_workers,\n",
    "                          size = num_features,\n",
    "                          min_count = min_word_count,\n",
    "                          window = context, \n",
    "                          sample = downsampling)\n",
    "\n",
    "\n",
    "model.save(model_name)"
   ]
  },
  {
   "cell_type": "code",
   "execution_count": 56,
   "metadata": {
    "collapsed": false
   },
   "outputs": [
    {
     "name": "stderr",
     "output_type": "stream",
     "text": [
      "2017-05-03 13:00:27,072 : INFO : precomputing L2-norms of word weight vectors\n"
     ]
    },
    {
     "data": {
      "text/plain": [
       "[('of', 0.9998316168785095),\n",
       " ('by', 0.9998179078102112),\n",
       " ('in', 0.9998096823692322),\n",
       " ('is', 0.9998082518577576),\n",
       " ('most', 0.9998064041137695),\n",
       " ('s', 0.9998056888580322),\n",
       " ('all', 0.999797523021698),\n",
       " ('are', 0.9997949600219727),\n",
       " ('some', 0.9997909069061279),\n",
       " ('which', 0.9997897148132324)]"
      ]
     },
     "execution_count": 56,
     "metadata": {},
     "output_type": "execute_result"
    }
   ],
   "source": [
    "model.most_similar('best')"
   ]
  },
  {
   "cell_type": "code",
   "execution_count": null,
   "metadata": {
    "collapsed": true
   },
   "outputs": [],
   "source": []
  }
 ],
 "metadata": {
  "kernelspec": {
   "display_name": "Python 3",
   "language": "python",
   "name": "python3"
  },
  "language_info": {
   "codemirror_mode": {
    "name": "ipython",
    "version": 3
   },
   "file_extension": ".py",
   "mimetype": "text/x-python",
   "name": "python",
   "nbconvert_exporter": "python",
   "pygments_lexer": "ipython3",
   "version": "3.6.0"
  }
 },
 "nbformat": 4,
 "nbformat_minor": 2
}
