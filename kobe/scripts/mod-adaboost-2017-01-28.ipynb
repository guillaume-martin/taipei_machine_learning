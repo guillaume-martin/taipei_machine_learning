{
 "cells": [
  {
   "cell_type": "code",
   "execution_count": 12,
   "metadata": {
    "collapsed": false
   },
   "outputs": [],
   "source": [
    "import pandas as pd\n",
    "import numpy as np\n",
    "import time\n",
    "from sklearn.ensemble import AdaBoostClassifier\n",
    "from sklearn.model_selection import train_test_split, KFold, cross_val_score"
   ]
  },
  {
   "cell_type": "code",
   "execution_count": 2,
   "metadata": {
    "collapsed": true
   },
   "outputs": [],
   "source": [
    "# logloss function used for scoring the predictions\n",
    "# source: https://www.kaggle.com/wiki/LogarithmicLoss\n",
    "import scipy as sp\n",
    "def logloss(act, pred):\n",
    "    epsilon = 1e-15\n",
    "    pred = sp.maximum(epsilon, pred)\n",
    "    pred = sp.minimum(1-epsilon, pred)\n",
    "    ll = sum(act*sp.log(pred) + sp.subtract(1,act)*sp.log(sp.subtract(1,pred)))\n",
    "    ll = ll * -1.0/len(act)\n",
    "    return ll"
   ]
  },
  {
   "cell_type": "code",
   "execution_count": 3,
   "metadata": {
    "collapsed": false
   },
   "outputs": [],
   "source": [
    "df_train = pd.read_pickle('../input/processed_train_data.pickle')\n",
    "df_test = pd.read_pickle('../input/processed_test_data.pickle')"
   ]
  },
  {
   "cell_type": "markdown",
   "metadata": {},
   "source": [
    "## Get baseline performance"
   ]
  },
  {
   "cell_type": "code",
   "execution_count": 4,
   "metadata": {
    "collapsed": false
   },
   "outputs": [
    {
     "data": {
      "text/plain": [
       "AdaBoostClassifier(algorithm='SAMME.R', base_estimator=None,\n",
       "          learning_rate=1.0, n_estimators=50, random_state=None)"
      ]
     },
     "execution_count": 4,
     "metadata": {},
     "output_type": "execute_result"
    }
   ],
   "source": [
    "df_train.dropna(subset=['MA200'], inplace=True)\n",
    "\n",
    "X = np.array(df_train.drop(['game_date','shot_id','shot_made_flag'], axis=1))\n",
    "y = np.array(df_train['shot_made_flag'])\n",
    "\n",
    "X_train, X_test, y_train, y_test = train_test_split(X, y, test_size=0.2)\n",
    "\n",
    "ada = AdaBoostClassifier()\n",
    "ada.fit(X_train, y_train)"
   ]
  },
  {
   "cell_type": "code",
   "execution_count": 7,
   "metadata": {
    "collapsed": false
   },
   "outputs": [
    {
     "ename": "KeyboardInterrupt",
     "evalue": "",
     "output_type": "error",
     "traceback": [
      "\u001b[0;31m---------------------------------------------------------------------------\u001b[0m",
      "\u001b[0;31mKeyboardInterrupt\u001b[0m                         Traceback (most recent call last)",
      "\u001b[0;32m<ipython-input-7-9dcdd4af8885>\u001b[0m in \u001b[0;36m<module>\u001b[0;34m()\u001b[0m\n\u001b[1;32m      7\u001b[0m cv_results = cross_val_score(ada, X, y, \n\u001b[1;32m      8\u001b[0m                              \u001b[0mcv\u001b[0m\u001b[0;34m=\u001b[0m\u001b[0mkfold\u001b[0m\u001b[0;34m,\u001b[0m\u001b[0;34m\u001b[0m\u001b[0m\n\u001b[0;32m----> 9\u001b[0;31m                              scoring=scoring)\n\u001b[0m\u001b[1;32m     10\u001b[0m \u001b[0mscore\u001b[0m \u001b[0;34m=\u001b[0m \u001b[0mcv_results\u001b[0m\u001b[0;34m.\u001b[0m\u001b[0mmean\u001b[0m\u001b[0;34m(\u001b[0m\u001b[0;34m)\u001b[0m\u001b[0;34m\u001b[0m\u001b[0m\n\u001b[1;32m     11\u001b[0m \u001b[0mprint\u001b[0m\u001b[0;34m(\u001b[0m\u001b[0mscore\u001b[0m\u001b[0;34m)\u001b[0m\u001b[0;34m\u001b[0m\u001b[0m\n",
      "\u001b[0;32m/home/guillaume/anaconda3/lib/python3.5/site-packages/sklearn/model_selection/_validation.py\u001b[0m in \u001b[0;36mcross_val_score\u001b[0;34m(estimator, X, y, groups, scoring, cv, n_jobs, verbose, fit_params, pre_dispatch)\u001b[0m\n\u001b[1;32m    138\u001b[0m                                               \u001b[0mtrain\u001b[0m\u001b[0;34m,\u001b[0m \u001b[0mtest\u001b[0m\u001b[0;34m,\u001b[0m \u001b[0mverbose\u001b[0m\u001b[0;34m,\u001b[0m \u001b[0;32mNone\u001b[0m\u001b[0;34m,\u001b[0m\u001b[0;34m\u001b[0m\u001b[0m\n\u001b[1;32m    139\u001b[0m                                               fit_params)\n\u001b[0;32m--> 140\u001b[0;31m                       for train, test in cv_iter)\n\u001b[0m\u001b[1;32m    141\u001b[0m     \u001b[0;32mreturn\u001b[0m \u001b[0mnp\u001b[0m\u001b[0;34m.\u001b[0m\u001b[0marray\u001b[0m\u001b[0;34m(\u001b[0m\u001b[0mscores\u001b[0m\u001b[0;34m)\u001b[0m\u001b[0;34m[\u001b[0m\u001b[0;34m:\u001b[0m\u001b[0;34m,\u001b[0m \u001b[0;36m0\u001b[0m\u001b[0;34m]\u001b[0m\u001b[0;34m\u001b[0m\u001b[0m\n\u001b[1;32m    142\u001b[0m \u001b[0;34m\u001b[0m\u001b[0m\n",
      "\u001b[0;32m/home/guillaume/anaconda3/lib/python3.5/site-packages/sklearn/externals/joblib/parallel.py\u001b[0m in \u001b[0;36m__call__\u001b[0;34m(self, iterable)\u001b[0m\n\u001b[1;32m    756\u001b[0m             \u001b[0;31m# was dispatched. In particular this covers the edge\u001b[0m\u001b[0;34m\u001b[0m\u001b[0;34m\u001b[0m\u001b[0m\n\u001b[1;32m    757\u001b[0m             \u001b[0;31m# case of Parallel used with an exhausted iterator.\u001b[0m\u001b[0;34m\u001b[0m\u001b[0;34m\u001b[0m\u001b[0m\n\u001b[0;32m--> 758\u001b[0;31m             \u001b[0;32mwhile\u001b[0m \u001b[0mself\u001b[0m\u001b[0;34m.\u001b[0m\u001b[0mdispatch_one_batch\u001b[0m\u001b[0;34m(\u001b[0m\u001b[0miterator\u001b[0m\u001b[0;34m)\u001b[0m\u001b[0;34m:\u001b[0m\u001b[0;34m\u001b[0m\u001b[0m\n\u001b[0m\u001b[1;32m    759\u001b[0m                 \u001b[0mself\u001b[0m\u001b[0;34m.\u001b[0m\u001b[0m_iterating\u001b[0m \u001b[0;34m=\u001b[0m \u001b[0;32mTrue\u001b[0m\u001b[0;34m\u001b[0m\u001b[0m\n\u001b[1;32m    760\u001b[0m             \u001b[0;32melse\u001b[0m\u001b[0;34m:\u001b[0m\u001b[0;34m\u001b[0m\u001b[0m\n",
      "\u001b[0;32m/home/guillaume/anaconda3/lib/python3.5/site-packages/sklearn/externals/joblib/parallel.py\u001b[0m in \u001b[0;36mdispatch_one_batch\u001b[0;34m(self, iterator)\u001b[0m\n\u001b[1;32m    606\u001b[0m                 \u001b[0;32mreturn\u001b[0m \u001b[0;32mFalse\u001b[0m\u001b[0;34m\u001b[0m\u001b[0m\n\u001b[1;32m    607\u001b[0m             \u001b[0;32melse\u001b[0m\u001b[0;34m:\u001b[0m\u001b[0;34m\u001b[0m\u001b[0m\n\u001b[0;32m--> 608\u001b[0;31m                 \u001b[0mself\u001b[0m\u001b[0;34m.\u001b[0m\u001b[0m_dispatch\u001b[0m\u001b[0;34m(\u001b[0m\u001b[0mtasks\u001b[0m\u001b[0;34m)\u001b[0m\u001b[0;34m\u001b[0m\u001b[0m\n\u001b[0m\u001b[1;32m    609\u001b[0m                 \u001b[0;32mreturn\u001b[0m \u001b[0;32mTrue\u001b[0m\u001b[0;34m\u001b[0m\u001b[0m\n\u001b[1;32m    610\u001b[0m \u001b[0;34m\u001b[0m\u001b[0m\n",
      "\u001b[0;32m/home/guillaume/anaconda3/lib/python3.5/site-packages/sklearn/externals/joblib/parallel.py\u001b[0m in \u001b[0;36m_dispatch\u001b[0;34m(self, batch)\u001b[0m\n\u001b[1;32m    569\u001b[0m         \u001b[0mdispatch_timestamp\u001b[0m \u001b[0;34m=\u001b[0m \u001b[0mtime\u001b[0m\u001b[0;34m.\u001b[0m\u001b[0mtime\u001b[0m\u001b[0;34m(\u001b[0m\u001b[0;34m)\u001b[0m\u001b[0;34m\u001b[0m\u001b[0m\n\u001b[1;32m    570\u001b[0m         \u001b[0mcb\u001b[0m \u001b[0;34m=\u001b[0m \u001b[0mBatchCompletionCallBack\u001b[0m\u001b[0;34m(\u001b[0m\u001b[0mdispatch_timestamp\u001b[0m\u001b[0;34m,\u001b[0m \u001b[0mlen\u001b[0m\u001b[0;34m(\u001b[0m\u001b[0mbatch\u001b[0m\u001b[0;34m)\u001b[0m\u001b[0;34m,\u001b[0m \u001b[0mself\u001b[0m\u001b[0;34m)\u001b[0m\u001b[0;34m\u001b[0m\u001b[0m\n\u001b[0;32m--> 571\u001b[0;31m         \u001b[0mjob\u001b[0m \u001b[0;34m=\u001b[0m \u001b[0mself\u001b[0m\u001b[0;34m.\u001b[0m\u001b[0m_backend\u001b[0m\u001b[0;34m.\u001b[0m\u001b[0mapply_async\u001b[0m\u001b[0;34m(\u001b[0m\u001b[0mbatch\u001b[0m\u001b[0;34m,\u001b[0m \u001b[0mcallback\u001b[0m\u001b[0;34m=\u001b[0m\u001b[0mcb\u001b[0m\u001b[0;34m)\u001b[0m\u001b[0;34m\u001b[0m\u001b[0m\n\u001b[0m\u001b[1;32m    572\u001b[0m         \u001b[0mself\u001b[0m\u001b[0;34m.\u001b[0m\u001b[0m_jobs\u001b[0m\u001b[0;34m.\u001b[0m\u001b[0mappend\u001b[0m\u001b[0;34m(\u001b[0m\u001b[0mjob\u001b[0m\u001b[0;34m)\u001b[0m\u001b[0;34m\u001b[0m\u001b[0m\n\u001b[1;32m    573\u001b[0m \u001b[0;34m\u001b[0m\u001b[0m\n",
      "\u001b[0;32m/home/guillaume/anaconda3/lib/python3.5/site-packages/sklearn/externals/joblib/_parallel_backends.py\u001b[0m in \u001b[0;36mapply_async\u001b[0;34m(self, func, callback)\u001b[0m\n\u001b[1;32m    107\u001b[0m     \u001b[0;32mdef\u001b[0m \u001b[0mapply_async\u001b[0m\u001b[0;34m(\u001b[0m\u001b[0mself\u001b[0m\u001b[0;34m,\u001b[0m \u001b[0mfunc\u001b[0m\u001b[0;34m,\u001b[0m \u001b[0mcallback\u001b[0m\u001b[0;34m=\u001b[0m\u001b[0;32mNone\u001b[0m\u001b[0;34m)\u001b[0m\u001b[0;34m:\u001b[0m\u001b[0;34m\u001b[0m\u001b[0m\n\u001b[1;32m    108\u001b[0m         \u001b[0;34m\"\"\"Schedule a func to be run\"\"\"\u001b[0m\u001b[0;34m\u001b[0m\u001b[0m\n\u001b[0;32m--> 109\u001b[0;31m         \u001b[0mresult\u001b[0m \u001b[0;34m=\u001b[0m \u001b[0mImmediateResult\u001b[0m\u001b[0;34m(\u001b[0m\u001b[0mfunc\u001b[0m\u001b[0;34m)\u001b[0m\u001b[0;34m\u001b[0m\u001b[0m\n\u001b[0m\u001b[1;32m    110\u001b[0m         \u001b[0;32mif\u001b[0m \u001b[0mcallback\u001b[0m\u001b[0;34m:\u001b[0m\u001b[0;34m\u001b[0m\u001b[0m\n\u001b[1;32m    111\u001b[0m             \u001b[0mcallback\u001b[0m\u001b[0;34m(\u001b[0m\u001b[0mresult\u001b[0m\u001b[0;34m)\u001b[0m\u001b[0;34m\u001b[0m\u001b[0m\n",
      "\u001b[0;32m/home/guillaume/anaconda3/lib/python3.5/site-packages/sklearn/externals/joblib/_parallel_backends.py\u001b[0m in \u001b[0;36m__init__\u001b[0;34m(self, batch)\u001b[0m\n\u001b[1;32m    324\u001b[0m         \u001b[0;31m# Don't delay the application, to avoid keeping the input\u001b[0m\u001b[0;34m\u001b[0m\u001b[0;34m\u001b[0m\u001b[0m\n\u001b[1;32m    325\u001b[0m         \u001b[0;31m# arguments in memory\u001b[0m\u001b[0;34m\u001b[0m\u001b[0;34m\u001b[0m\u001b[0m\n\u001b[0;32m--> 326\u001b[0;31m         \u001b[0mself\u001b[0m\u001b[0;34m.\u001b[0m\u001b[0mresults\u001b[0m \u001b[0;34m=\u001b[0m \u001b[0mbatch\u001b[0m\u001b[0;34m(\u001b[0m\u001b[0;34m)\u001b[0m\u001b[0;34m\u001b[0m\u001b[0m\n\u001b[0m\u001b[1;32m    327\u001b[0m \u001b[0;34m\u001b[0m\u001b[0m\n\u001b[1;32m    328\u001b[0m     \u001b[0;32mdef\u001b[0m \u001b[0mget\u001b[0m\u001b[0;34m(\u001b[0m\u001b[0mself\u001b[0m\u001b[0;34m)\u001b[0m\u001b[0;34m:\u001b[0m\u001b[0;34m\u001b[0m\u001b[0m\n",
      "\u001b[0;32m/home/guillaume/anaconda3/lib/python3.5/site-packages/sklearn/externals/joblib/parallel.py\u001b[0m in \u001b[0;36m__call__\u001b[0;34m(self)\u001b[0m\n\u001b[1;32m    129\u001b[0m \u001b[0;34m\u001b[0m\u001b[0m\n\u001b[1;32m    130\u001b[0m     \u001b[0;32mdef\u001b[0m \u001b[0m__call__\u001b[0m\u001b[0;34m(\u001b[0m\u001b[0mself\u001b[0m\u001b[0;34m)\u001b[0m\u001b[0;34m:\u001b[0m\u001b[0;34m\u001b[0m\u001b[0m\n\u001b[0;32m--> 131\u001b[0;31m         \u001b[0;32mreturn\u001b[0m \u001b[0;34m[\u001b[0m\u001b[0mfunc\u001b[0m\u001b[0;34m(\u001b[0m\u001b[0;34m*\u001b[0m\u001b[0margs\u001b[0m\u001b[0;34m,\u001b[0m \u001b[0;34m**\u001b[0m\u001b[0mkwargs\u001b[0m\u001b[0;34m)\u001b[0m \u001b[0;32mfor\u001b[0m \u001b[0mfunc\u001b[0m\u001b[0;34m,\u001b[0m \u001b[0margs\u001b[0m\u001b[0;34m,\u001b[0m \u001b[0mkwargs\u001b[0m \u001b[0;32min\u001b[0m \u001b[0mself\u001b[0m\u001b[0;34m.\u001b[0m\u001b[0mitems\u001b[0m\u001b[0;34m]\u001b[0m\u001b[0;34m\u001b[0m\u001b[0m\n\u001b[0m\u001b[1;32m    132\u001b[0m \u001b[0;34m\u001b[0m\u001b[0m\n\u001b[1;32m    133\u001b[0m     \u001b[0;32mdef\u001b[0m \u001b[0m__len__\u001b[0m\u001b[0;34m(\u001b[0m\u001b[0mself\u001b[0m\u001b[0;34m)\u001b[0m\u001b[0;34m:\u001b[0m\u001b[0;34m\u001b[0m\u001b[0m\n",
      "\u001b[0;32m/home/guillaume/anaconda3/lib/python3.5/site-packages/sklearn/externals/joblib/parallel.py\u001b[0m in \u001b[0;36m<listcomp>\u001b[0;34m(.0)\u001b[0m\n\u001b[1;32m    129\u001b[0m \u001b[0;34m\u001b[0m\u001b[0m\n\u001b[1;32m    130\u001b[0m     \u001b[0;32mdef\u001b[0m \u001b[0m__call__\u001b[0m\u001b[0;34m(\u001b[0m\u001b[0mself\u001b[0m\u001b[0;34m)\u001b[0m\u001b[0;34m:\u001b[0m\u001b[0;34m\u001b[0m\u001b[0m\n\u001b[0;32m--> 131\u001b[0;31m         \u001b[0;32mreturn\u001b[0m \u001b[0;34m[\u001b[0m\u001b[0mfunc\u001b[0m\u001b[0;34m(\u001b[0m\u001b[0;34m*\u001b[0m\u001b[0margs\u001b[0m\u001b[0;34m,\u001b[0m \u001b[0;34m**\u001b[0m\u001b[0mkwargs\u001b[0m\u001b[0;34m)\u001b[0m \u001b[0;32mfor\u001b[0m \u001b[0mfunc\u001b[0m\u001b[0;34m,\u001b[0m \u001b[0margs\u001b[0m\u001b[0;34m,\u001b[0m \u001b[0mkwargs\u001b[0m \u001b[0;32min\u001b[0m \u001b[0mself\u001b[0m\u001b[0;34m.\u001b[0m\u001b[0mitems\u001b[0m\u001b[0;34m]\u001b[0m\u001b[0;34m\u001b[0m\u001b[0m\n\u001b[0m\u001b[1;32m    132\u001b[0m \u001b[0;34m\u001b[0m\u001b[0m\n\u001b[1;32m    133\u001b[0m     \u001b[0;32mdef\u001b[0m \u001b[0m__len__\u001b[0m\u001b[0;34m(\u001b[0m\u001b[0mself\u001b[0m\u001b[0;34m)\u001b[0m\u001b[0;34m:\u001b[0m\u001b[0;34m\u001b[0m\u001b[0m\n",
      "\u001b[0;32m/home/guillaume/anaconda3/lib/python3.5/site-packages/sklearn/model_selection/_validation.py\u001b[0m in \u001b[0;36m_fit_and_score\u001b[0;34m(estimator, X, y, scorer, train, test, verbose, parameters, fit_params, return_train_score, return_parameters, return_n_test_samples, return_times, error_score)\u001b[0m\n\u001b[1;32m    236\u001b[0m             \u001b[0mestimator\u001b[0m\u001b[0;34m.\u001b[0m\u001b[0mfit\u001b[0m\u001b[0;34m(\u001b[0m\u001b[0mX_train\u001b[0m\u001b[0;34m,\u001b[0m \u001b[0;34m**\u001b[0m\u001b[0mfit_params\u001b[0m\u001b[0;34m)\u001b[0m\u001b[0;34m\u001b[0m\u001b[0m\n\u001b[1;32m    237\u001b[0m         \u001b[0;32melse\u001b[0m\u001b[0;34m:\u001b[0m\u001b[0;34m\u001b[0m\u001b[0m\n\u001b[0;32m--> 238\u001b[0;31m             \u001b[0mestimator\u001b[0m\u001b[0;34m.\u001b[0m\u001b[0mfit\u001b[0m\u001b[0;34m(\u001b[0m\u001b[0mX_train\u001b[0m\u001b[0;34m,\u001b[0m \u001b[0my_train\u001b[0m\u001b[0;34m,\u001b[0m \u001b[0;34m**\u001b[0m\u001b[0mfit_params\u001b[0m\u001b[0;34m)\u001b[0m\u001b[0;34m\u001b[0m\u001b[0m\n\u001b[0m\u001b[1;32m    239\u001b[0m \u001b[0;34m\u001b[0m\u001b[0m\n\u001b[1;32m    240\u001b[0m     \u001b[0;32mexcept\u001b[0m \u001b[0mException\u001b[0m \u001b[0;32mas\u001b[0m \u001b[0me\u001b[0m\u001b[0;34m:\u001b[0m\u001b[0;34m\u001b[0m\u001b[0m\n",
      "\u001b[0;32m/home/guillaume/anaconda3/lib/python3.5/site-packages/sklearn/ensemble/weight_boosting.py\u001b[0m in \u001b[0;36mfit\u001b[0;34m(self, X, y, sample_weight)\u001b[0m\n\u001b[1;32m    409\u001b[0m \u001b[0;34m\u001b[0m\u001b[0m\n\u001b[1;32m    410\u001b[0m         \u001b[0;31m# Fit\u001b[0m\u001b[0;34m\u001b[0m\u001b[0;34m\u001b[0m\u001b[0m\n\u001b[0;32m--> 411\u001b[0;31m         \u001b[0;32mreturn\u001b[0m \u001b[0msuper\u001b[0m\u001b[0;34m(\u001b[0m\u001b[0mAdaBoostClassifier\u001b[0m\u001b[0;34m,\u001b[0m \u001b[0mself\u001b[0m\u001b[0;34m)\u001b[0m\u001b[0;34m.\u001b[0m\u001b[0mfit\u001b[0m\u001b[0;34m(\u001b[0m\u001b[0mX\u001b[0m\u001b[0;34m,\u001b[0m \u001b[0my\u001b[0m\u001b[0;34m,\u001b[0m \u001b[0msample_weight\u001b[0m\u001b[0;34m)\u001b[0m\u001b[0;34m\u001b[0m\u001b[0m\n\u001b[0m\u001b[1;32m    412\u001b[0m \u001b[0;34m\u001b[0m\u001b[0m\n\u001b[1;32m    413\u001b[0m     \u001b[0;32mdef\u001b[0m \u001b[0m_validate_estimator\u001b[0m\u001b[0;34m(\u001b[0m\u001b[0mself\u001b[0m\u001b[0;34m)\u001b[0m\u001b[0;34m:\u001b[0m\u001b[0;34m\u001b[0m\u001b[0m\n",
      "\u001b[0;32m/home/guillaume/anaconda3/lib/python3.5/site-packages/sklearn/ensemble/weight_boosting.py\u001b[0m in \u001b[0;36mfit\u001b[0;34m(self, X, y, sample_weight)\u001b[0m\n\u001b[1;32m    141\u001b[0m                 \u001b[0mX\u001b[0m\u001b[0;34m,\u001b[0m \u001b[0my\u001b[0m\u001b[0;34m,\u001b[0m\u001b[0;34m\u001b[0m\u001b[0m\n\u001b[1;32m    142\u001b[0m                 \u001b[0msample_weight\u001b[0m\u001b[0;34m,\u001b[0m\u001b[0;34m\u001b[0m\u001b[0m\n\u001b[0;32m--> 143\u001b[0;31m                 random_state)\n\u001b[0m\u001b[1;32m    144\u001b[0m \u001b[0;34m\u001b[0m\u001b[0m\n\u001b[1;32m    145\u001b[0m             \u001b[0;31m# Early termination\u001b[0m\u001b[0;34m\u001b[0m\u001b[0;34m\u001b[0m\u001b[0m\n",
      "\u001b[0;32m/home/guillaume/anaconda3/lib/python3.5/site-packages/sklearn/ensemble/weight_boosting.py\u001b[0m in \u001b[0;36m_boost\u001b[0;34m(self, iboost, X, y, sample_weight, random_state)\u001b[0m\n\u001b[1;32m    469\u001b[0m         \"\"\"\n\u001b[1;32m    470\u001b[0m         \u001b[0;32mif\u001b[0m \u001b[0mself\u001b[0m\u001b[0;34m.\u001b[0m\u001b[0malgorithm\u001b[0m \u001b[0;34m==\u001b[0m \u001b[0;34m'SAMME.R'\u001b[0m\u001b[0;34m:\u001b[0m\u001b[0;34m\u001b[0m\u001b[0m\n\u001b[0;32m--> 471\u001b[0;31m             \u001b[0;32mreturn\u001b[0m \u001b[0mself\u001b[0m\u001b[0;34m.\u001b[0m\u001b[0m_boost_real\u001b[0m\u001b[0;34m(\u001b[0m\u001b[0miboost\u001b[0m\u001b[0;34m,\u001b[0m \u001b[0mX\u001b[0m\u001b[0;34m,\u001b[0m \u001b[0my\u001b[0m\u001b[0;34m,\u001b[0m \u001b[0msample_weight\u001b[0m\u001b[0;34m,\u001b[0m \u001b[0mrandom_state\u001b[0m\u001b[0;34m)\u001b[0m\u001b[0;34m\u001b[0m\u001b[0m\n\u001b[0m\u001b[1;32m    472\u001b[0m \u001b[0;34m\u001b[0m\u001b[0m\n\u001b[1;32m    473\u001b[0m         \u001b[0;32melse\u001b[0m\u001b[0;34m:\u001b[0m  \u001b[0;31m# elif self.algorithm == \"SAMME\":\u001b[0m\u001b[0;34m\u001b[0m\u001b[0m\n",
      "\u001b[0;32m/home/guillaume/anaconda3/lib/python3.5/site-packages/sklearn/ensemble/weight_boosting.py\u001b[0m in \u001b[0;36m_boost_real\u001b[0;34m(self, iboost, X, y, sample_weight, random_state)\u001b[0m\n\u001b[1;32m    479\u001b[0m         \u001b[0mestimator\u001b[0m \u001b[0;34m=\u001b[0m \u001b[0mself\u001b[0m\u001b[0;34m.\u001b[0m\u001b[0m_make_estimator\u001b[0m\u001b[0;34m(\u001b[0m\u001b[0mrandom_state\u001b[0m\u001b[0;34m=\u001b[0m\u001b[0mrandom_state\u001b[0m\u001b[0;34m)\u001b[0m\u001b[0;34m\u001b[0m\u001b[0m\n\u001b[1;32m    480\u001b[0m \u001b[0;34m\u001b[0m\u001b[0m\n\u001b[0;32m--> 481\u001b[0;31m         \u001b[0mestimator\u001b[0m\u001b[0;34m.\u001b[0m\u001b[0mfit\u001b[0m\u001b[0;34m(\u001b[0m\u001b[0mX\u001b[0m\u001b[0;34m,\u001b[0m \u001b[0my\u001b[0m\u001b[0;34m,\u001b[0m \u001b[0msample_weight\u001b[0m\u001b[0;34m=\u001b[0m\u001b[0msample_weight\u001b[0m\u001b[0;34m)\u001b[0m\u001b[0;34m\u001b[0m\u001b[0m\n\u001b[0m\u001b[1;32m    482\u001b[0m \u001b[0;34m\u001b[0m\u001b[0m\n\u001b[1;32m    483\u001b[0m         \u001b[0my_predict_proba\u001b[0m \u001b[0;34m=\u001b[0m \u001b[0mestimator\u001b[0m\u001b[0;34m.\u001b[0m\u001b[0mpredict_proba\u001b[0m\u001b[0;34m(\u001b[0m\u001b[0mX\u001b[0m\u001b[0;34m)\u001b[0m\u001b[0;34m\u001b[0m\u001b[0m\n",
      "\u001b[0;32m/home/guillaume/anaconda3/lib/python3.5/site-packages/sklearn/tree/tree.py\u001b[0m in \u001b[0;36mfit\u001b[0;34m(self, X, y, sample_weight, check_input, X_idx_sorted)\u001b[0m\n\u001b[1;32m    737\u001b[0m             \u001b[0msample_weight\u001b[0m\u001b[0;34m=\u001b[0m\u001b[0msample_weight\u001b[0m\u001b[0;34m,\u001b[0m\u001b[0;34m\u001b[0m\u001b[0m\n\u001b[1;32m    738\u001b[0m             \u001b[0mcheck_input\u001b[0m\u001b[0;34m=\u001b[0m\u001b[0mcheck_input\u001b[0m\u001b[0;34m,\u001b[0m\u001b[0;34m\u001b[0m\u001b[0m\n\u001b[0;32m--> 739\u001b[0;31m             X_idx_sorted=X_idx_sorted)\n\u001b[0m\u001b[1;32m    740\u001b[0m         \u001b[0;32mreturn\u001b[0m \u001b[0mself\u001b[0m\u001b[0;34m\u001b[0m\u001b[0m\n\u001b[1;32m    741\u001b[0m \u001b[0;34m\u001b[0m\u001b[0m\n",
      "\u001b[0;32m/home/guillaume/anaconda3/lib/python3.5/site-packages/sklearn/tree/tree.py\u001b[0m in \u001b[0;36mfit\u001b[0;34m(self, X, y, sample_weight, check_input, X_idx_sorted)\u001b[0m\n\u001b[1;32m    348\u001b[0m                                            self.min_impurity_split)\n\u001b[1;32m    349\u001b[0m \u001b[0;34m\u001b[0m\u001b[0m\n\u001b[0;32m--> 350\u001b[0;31m         \u001b[0mbuilder\u001b[0m\u001b[0;34m.\u001b[0m\u001b[0mbuild\u001b[0m\u001b[0;34m(\u001b[0m\u001b[0mself\u001b[0m\u001b[0;34m.\u001b[0m\u001b[0mtree_\u001b[0m\u001b[0;34m,\u001b[0m \u001b[0mX\u001b[0m\u001b[0;34m,\u001b[0m \u001b[0my\u001b[0m\u001b[0;34m,\u001b[0m \u001b[0msample_weight\u001b[0m\u001b[0;34m,\u001b[0m \u001b[0mX_idx_sorted\u001b[0m\u001b[0;34m)\u001b[0m\u001b[0;34m\u001b[0m\u001b[0m\n\u001b[0m\u001b[1;32m    351\u001b[0m \u001b[0;34m\u001b[0m\u001b[0m\n\u001b[1;32m    352\u001b[0m         \u001b[0;32mif\u001b[0m \u001b[0mself\u001b[0m\u001b[0;34m.\u001b[0m\u001b[0mn_outputs_\u001b[0m \u001b[0;34m==\u001b[0m \u001b[0;36m1\u001b[0m\u001b[0;34m:\u001b[0m\u001b[0;34m\u001b[0m\u001b[0m\n",
      "\u001b[0;31mKeyboardInterrupt\u001b[0m: "
     ]
    }
   ],
   "source": [
    "num_fold = 10\n",
    "num_instances = len(X)\n",
    "seed = 7\n",
    "scoring = 'neg_log_loss'\n",
    "\n",
    "kfold = KFold(n_splits=num_fold, random_state=seed)\n",
    "cv_results = cross_val_score(ada, X, y, \n",
    "                             cv=kfold,\n",
    "                             scoring=scoring)\n",
    "score = cv_results.mean()\n",
    "print(score)"
   ]
  },
  {
   "cell_type": "markdown",
   "metadata": {},
   "source": [
    "## Features Selection"
   ]
  },
  {
   "cell_type": "code",
   "execution_count": 8,
   "metadata": {
    "collapsed": false
   },
   "outputs": [
    {
     "name": "stdout",
     "output_type": "stream",
     "text": [
      "n=20 : -0.684988724475\n"
     ]
    }
   ],
   "source": [
    "from sklearn.feature_selection import RFE\n",
    "    \n",
    "X_train, X_test, y_train, y_test = train_test_split(X, y, train_size=0.2)\n",
    "\n",
    "n_features = [20]\n",
    "num_fold = 10\n",
    "seed = 7\n",
    "scoring = 'neg_log_loss'\n",
    "best_cv = 0\n",
    "best_mask = []\n",
    "\n",
    "for n in n_features:\n",
    "    rfe = RFE(ada,n)\n",
    "    X_new = rfe.fit_transform(X,y)\n",
    "\n",
    "    kfold = KFold(n_splits = num_fold,\n",
    "                  random_state = seed)\n",
    "    \n",
    "    cv_results = cross_val_score(ada, X_new, y,\n",
    "                                 cv = kfold,\n",
    "                                 scoring = scoring)\n",
    "    score = cv_results.mean()\n",
    "    \n",
    "    print('n=' + str(n) + ' : ' + str(score))\n",
    "    \n",
    "    if score < best_cv:\n",
    "        X_best = X_new\n",
    "        best_mask = rfe.get_support(False)\n",
    "        best_cv = score\n",
    "            \n",
    "  "
   ]
  },
  {
   "cell_type": "code",
   "execution_count": 9,
   "metadata": {
    "collapsed": false
   },
   "outputs": [
    {
     "data": {
      "text/html": [
       "<div>\n",
       "<table border=\"1\" class=\"dataframe\">\n",
       "  <thead>\n",
       "    <tr style=\"text-align: right;\">\n",
       "      <th></th>\n",
       "      <th>best</th>\n",
       "      <th>feature</th>\n",
       "    </tr>\n",
       "  </thead>\n",
       "  <tbody>\n",
       "    <tr>\n",
       "      <th>0</th>\n",
       "      <td>False</td>\n",
       "      <td>loc_x</td>\n",
       "    </tr>\n",
       "    <tr>\n",
       "      <th>1</th>\n",
       "      <td>True</td>\n",
       "      <td>loc_y</td>\n",
       "    </tr>\n",
       "    <tr>\n",
       "      <th>2</th>\n",
       "      <td>False</td>\n",
       "      <td>playoffs</td>\n",
       "    </tr>\n",
       "    <tr>\n",
       "      <th>3</th>\n",
       "      <td>True</td>\n",
       "      <td>shot_distance</td>\n",
       "    </tr>\n",
       "    <tr>\n",
       "      <th>4</th>\n",
       "      <td>True</td>\n",
       "      <td>seconds_to_end</td>\n",
       "    </tr>\n",
       "  </tbody>\n",
       "</table>\n",
       "</div>"
      ],
      "text/plain": [
       "    best         feature\n",
       "0  False           loc_x\n",
       "1   True           loc_y\n",
       "2  False        playoffs\n",
       "3   True   shot_distance\n",
       "4   True  seconds_to_end"
      ]
     },
     "execution_count": 9,
     "metadata": {},
     "output_type": "execute_result"
    }
   ],
   "source": [
    "features_masks = pd.DataFrame({\n",
    "        'feature': df_train.drop(['game_date','shot_id','shot_made_flag'], axis=1).columns,\n",
    "        'best': best_mask\n",
    "    })\n",
    "features_masks.head()"
   ]
  },
  {
   "cell_type": "code",
   "execution_count": 10,
   "metadata": {
    "collapsed": false
   },
   "outputs": [
    {
     "data": {
      "text/plain": [
       "array(['loc_y', 'shot_distance', 'seconds_to_end', 'MA10', 'MA20',\n",
       "       'action_type_Driving Dunk Shot',\n",
       "       'action_type_Driving Finger Roll Layup Shot',\n",
       "       'action_type_Driving Finger Roll Shot',\n",
       "       'action_type_Driving Layup Shot',\n",
       "       'action_type_Driving Reverse Layup Shot', 'action_type_Layup Shot',\n",
       "       'action_type_Pullup Jump shot', 'action_type_Running Hook Shot',\n",
       "       'action_type_Running Jump Shot', 'action_type_Slam Dunk Shot',\n",
       "       'combined_shot_type_Bank Shot', 'combined_shot_type_Dunk',\n",
       "       'combined_shot_type_Tip Shot', 'period_1', 'season_2005-06'], dtype=object)"
      ]
     },
     "execution_count": 10,
     "metadata": {},
     "output_type": "execute_result"
    }
   ],
   "source": [
    "best_features = features_masks[features_masks['best'] == True]['feature'].values\n",
    "best_features"
   ]
  },
  {
   "cell_type": "code",
   "execution_count": 5,
   "metadata": {
    "collapsed": true
   },
   "outputs": [],
   "source": [
    "# skip the features selection which takes way too long\n",
    "best_features = ['loc_y', 'shot_distance', 'seconds_to_end', 'MA10', 'MA20',\n",
    "                 'action_type_Driving Dunk Shot',\n",
    "                 'action_type_Driving Finger Roll Layup Shot',\n",
    "                 'action_type_Driving Finger Roll Shot',\n",
    "                 'action_type_Driving Layup Shot',\n",
    "                 'action_type_Driving Reverse Layup Shot', 'action_type_Layup Shot',\n",
    "                 'action_type_Pullup Jump shot', 'action_type_Running Hook Shot',\n",
    "                 'action_type_Running Jump Shot', 'action_type_Slam Dunk Shot',\n",
    "                 'combined_shot_type_Bank Shot', 'combined_shot_type_Dunk',\n",
    "                 'combined_shot_type_Tip Shot', 'period_1', 'season_2005-06']"
   ]
  },
  {
   "cell_type": "code",
   "execution_count": 6,
   "metadata": {
    "collapsed": false
   },
   "outputs": [
    {
     "data": {
      "text/plain": [
       "(25538, 20)"
      ]
     },
     "execution_count": 6,
     "metadata": {},
     "output_type": "execute_result"
    }
   ],
   "source": [
    "X_best = np.array(df_train[best_features])\n",
    "X_best.shape"
   ]
  },
  {
   "cell_type": "markdown",
   "metadata": {},
   "source": [
    "## Parameters Optimization\n",
    "### base estimator\n",
    "One of the best models was Logistic Regression. We'll use this model as base estimator"
   ]
  },
  {
   "cell_type": "code",
   "execution_count": 23,
   "metadata": {
    "collapsed": true
   },
   "outputs": [],
   "source": [
    "from sklearn.model_selection import GridSearchCV\n",
    "\n",
    "def get_best_params(model, X, y, param_grid, verbose=0):\n",
    "    ''' get the parameters that return the best score\n",
    "    parameters\n",
    "    ----------\n",
    "        model object\n",
    "            a supervised learning estimator\n",
    "        X    array\n",
    "            training set\n",
    "        y    array\n",
    "            target values\n",
    "        param_grid    dictionary\n",
    "            the list of parameters and their possible values\n",
    "    output\n",
    "    ------\n",
    "        best_params    dictionary\n",
    "            the best value for each parameter in initial list\n",
    "    '''\n",
    "    \n",
    "    scoring = 'neg_log_loss'\n",
    "    cv = 10\n",
    "    \n",
    "    grid = GridSearchCV(model, \n",
    "                        param_grid,\n",
    "                        scoring = scoring,\n",
    "                        n_jobs = 3,\n",
    "                        cv = cv,\n",
    "                        verbose = verbose)\n",
    "    \n",
    "    grid.fit(X,y)\n",
    "    \n",
    "    print(grid.best_score_)\n",
    "    print(grid.best_estimator_)"
   ]
  },
  {
   "cell_type": "code",
   "execution_count": 9,
   "metadata": {
    "collapsed": true
   },
   "outputs": [],
   "source": [
    "from sklearn.linear_model import LogisticRegression"
   ]
  },
  {
   "cell_type": "code",
   "execution_count": 8,
   "metadata": {
    "collapsed": false
   },
   "outputs": [
    {
     "name": "stderr",
     "output_type": "stream",
     "text": [
      "/home/guillaume/anaconda3/lib/python3.5/site-packages/scipy/optimize/linesearch.py:285: LineSearchWarning: The line search algorithm did not converge\n",
      "  warn('The line search algorithm did not converge', LineSearchWarning)\n",
      "/home/guillaume/anaconda3/lib/python3.5/site-packages/sklearn/utils/optimize.py:195: UserWarning: Line Search failed\n",
      "  warnings.warn('Line Search failed')\n",
      "/home/guillaume/anaconda3/lib/python3.5/site-packages/scipy/optimize/linesearch.py:285: LineSearchWarning: The line search algorithm did not converge\n",
      "  warn('The line search algorithm did not converge', LineSearchWarning)\n",
      "/home/guillaume/anaconda3/lib/python3.5/site-packages/sklearn/utils/optimize.py:195: UserWarning: Line Search failed\n",
      "  warnings.warn('Line Search failed')\n",
      "/home/guillaume/anaconda3/lib/python3.5/site-packages/scipy/optimize/linesearch.py:285: LineSearchWarning: The line search algorithm did not converge\n",
      "  warn('The line search algorithm did not converge', LineSearchWarning)\n",
      "/home/guillaume/anaconda3/lib/python3.5/site-packages/sklearn/utils/optimize.py:195: UserWarning: Line Search failed\n",
      "  warnings.warn('Line Search failed')\n",
      "/home/guillaume/anaconda3/lib/python3.5/site-packages/scipy/optimize/linesearch.py:285: LineSearchWarning: The line search algorithm did not converge\n",
      "  warn('The line search algorithm did not converge', LineSearchWarning)\n",
      "/home/guillaume/anaconda3/lib/python3.5/site-packages/sklearn/utils/optimize.py:195: UserWarning: Line Search failed\n",
      "  warnings.warn('Line Search failed')\n",
      "/home/guillaume/anaconda3/lib/python3.5/site-packages/scipy/optimize/linesearch.py:285: LineSearchWarning: The line search algorithm did not converge\n",
      "  warn('The line search algorithm did not converge', LineSearchWarning)\n",
      "/home/guillaume/anaconda3/lib/python3.5/site-packages/sklearn/utils/optimize.py:195: UserWarning: Line Search failed\n",
      "  warnings.warn('Line Search failed')\n",
      "/home/guillaume/anaconda3/lib/python3.5/site-packages/scipy/optimize/linesearch.py:285: LineSearchWarning: The line search algorithm did not converge\n",
      "  warn('The line search algorithm did not converge', LineSearchWarning)\n",
      "/home/guillaume/anaconda3/lib/python3.5/site-packages/sklearn/utils/optimize.py:195: UserWarning: Line Search failed\n",
      "  warnings.warn('Line Search failed')\n",
      "/home/guillaume/anaconda3/lib/python3.5/site-packages/scipy/optimize/linesearch.py:285: LineSearchWarning: The line search algorithm did not converge\n",
      "  warn('The line search algorithm did not converge', LineSearchWarning)\n",
      "/home/guillaume/anaconda3/lib/python3.5/site-packages/sklearn/utils/optimize.py:195: UserWarning: Line Search failed\n",
      "  warnings.warn('Line Search failed')\n"
     ]
    },
    {
     "name": "stdout",
     "output_type": "stream",
     "text": [
      "0.695395097502\n",
      "LogisticRegression(C=10, class_weight=None, dual=False, fit_intercept=True,\n",
      "          intercept_scaling=0.1, max_iter=100, multi_class='ovr', n_jobs=1,\n",
      "          penalty='l2', random_state=None, solver='liblinear', tol=0.0001,\n",
      "          verbose=0, warm_start=False)\n"
     ]
    }
   ],
   "source": [
    "param_grid = {'solver': ['liblinear','newton-cg','lbfgs'],\n",
    "              'penalty': ['l2'],\n",
    "              'C': [0.001, 0.01, 0.1, 1, 10, 100, 1000],\n",
    "              'fit_intercept': [True,False],\n",
    "              'intercept_scaling':[0.001, 0.01, 0.1, 1, 10, 100, 1000]\n",
    "              }\n",
    "\n",
    "lr = LogisticRegression()\n",
    "\n",
    "get_best_params(lr,X_best,y,param_grid)"
   ]
  },
  {
   "cell_type": "code",
   "execution_count": 10,
   "metadata": {
    "collapsed": false
   },
   "outputs": [],
   "source": [
    "lr = LogisticRegression(C=10, class_weight=None, dual=False, fit_intercept=True,\n",
    "          intercept_scaling=0.1, max_iter=100, multi_class='ovr', n_jobs=1,\n",
    "          penalty='l2', random_state=None, solver='liblinear', tol=0.0001,\n",
    "          verbose=0, warm_start=False)"
   ]
  },
  {
   "cell_type": "code",
   "execution_count": 24,
   "metadata": {
    "collapsed": false,
    "scrolled": false
   },
   "outputs": [
    {
     "name": "stdout",
     "output_type": "stream",
     "text": [
      "Fitting 10 folds for each of 16 candidates, totalling 160 fits\n",
      "[CV] learning_rate=0.001, n_estimators=10 ............................\n",
      "[CV] learning_rate=0.001, n_estimators=10 ............................\n",
      "[CV] learning_rate=0.001, n_estimators=10 ............................\n",
      "[CV]  learning_rate=0.001, n_estimators=10, score=-0.646478, total=   1.6s\n",
      "[CV] learning_rate=0.001, n_estimators=10 ............................\n",
      "[CV]  learning_rate=0.001, n_estimators=10, score=-0.657826, total=   1.9s\n",
      "[CV] learning_rate=0.001, n_estimators=10 ............................\n",
      "[CV]  learning_rate=0.001, n_estimators=10, score=-0.655021, total=   1.8s\n",
      "[CV] learning_rate=0.001, n_estimators=10 ............................\n"
     ]
    },
    {
     "name": "stderr",
     "output_type": "stream",
     "text": [
      "[Parallel(n_jobs=3)]: Done   2 tasks      | elapsed:    2.0s\n"
     ]
    },
    {
     "name": "stdout",
     "output_type": "stream",
     "text": [
      "[CV]  learning_rate=0.001, n_estimators=10, score=-0.658020, total=   1.8s\n",
      "[CV] learning_rate=0.001, n_estimators=10 ............................\n",
      "[CV]  learning_rate=0.001, n_estimators=10, score=-0.652616, total=   2.5s\n",
      "[CV] learning_rate=0.001, n_estimators=10 ............................\n",
      "[CV]  learning_rate=0.001, n_estimators=10, score=-0.655251, total=   2.5s\n",
      "[CV] learning_rate=0.001, n_estimators=10 ............................\n",
      "[CV]  learning_rate=0.001, n_estimators=10, score=-0.653411, total=   1.8s\n",
      "[CV] learning_rate=0.001, n_estimators=10 ............................\n"
     ]
    },
    {
     "name": "stderr",
     "output_type": "stream",
     "text": [
      "[Parallel(n_jobs=3)]: Done   7 tasks      | elapsed:    5.9s\n"
     ]
    },
    {
     "name": "stdout",
     "output_type": "stream",
     "text": [
      "[CV]  learning_rate=0.001, n_estimators=10, score=-0.655618, total=   1.6s\n",
      "[CV] learning_rate=0.001, n_estimators=50 ............................\n",
      "[CV]  learning_rate=0.001, n_estimators=10, score=-0.659404, total=   2.1s\n",
      "[CV] learning_rate=0.001, n_estimators=50 ............................\n",
      "[CV]  learning_rate=0.001, n_estimators=10, score=-0.651226, total=   1.8s\n",
      "[CV] learning_rate=0.001, n_estimators=50 ............................\n",
      "[CV]  learning_rate=0.001, n_estimators=50, score=-0.646701, total=   7.6s\n",
      "[CV] learning_rate=0.001, n_estimators=50 ............................\n",
      "[CV]  learning_rate=0.001, n_estimators=50, score=-0.657875, total=   8.3s\n",
      "[CV] learning_rate=0.001, n_estimators=50 ............................\n"
     ]
    },
    {
     "name": "stderr",
     "output_type": "stream",
     "text": [
      "[Parallel(n_jobs=3)]: Done  12 tasks      | elapsed:   15.3s\n"
     ]
    },
    {
     "name": "stdout",
     "output_type": "stream",
     "text": [
      "[CV]  learning_rate=0.001, n_estimators=50, score=-0.655060, total=   8.9s\n",
      "[CV] learning_rate=0.001, n_estimators=50 ............................\n",
      "[CV]  learning_rate=0.001, n_estimators=50, score=-0.652669, total=   7.8s\n",
      "[CV] learning_rate=0.001, n_estimators=50 ............................\n",
      "[CV]  learning_rate=0.001, n_estimators=50, score=-0.657920, total=   8.9s\n",
      "[CV] learning_rate=0.001, n_estimators=50 ............................\n",
      "[CV]  learning_rate=0.001, n_estimators=50, score=-0.655211, total=   8.4s\n",
      "[CV] learning_rate=0.001, n_estimators=50 ............................\n",
      "[CV]  learning_rate=0.001, n_estimators=50, score=-0.653484, total=   9.1s\n",
      "[CV] learning_rate=0.001, n_estimators=50 ............................\n",
      "[CV]  learning_rate=0.001, n_estimators=50, score=-0.659376, total=  10.6s\n",
      "[CV] learning_rate=0.001, n_estimators=100 ...........................\n",
      "[CV]  learning_rate=0.001, n_estimators=50, score=-0.655682, total=  10.7s\n",
      "[CV] learning_rate=0.001, n_estimators=100 ...........................\n"
     ]
    },
    {
     "name": "stderr",
     "output_type": "stream",
     "text": [
      "[Parallel(n_jobs=3)]: Done  19 tasks      | elapsed:   37.8s\n"
     ]
    },
    {
     "name": "stdout",
     "output_type": "stream",
     "text": [
      "[CV]  learning_rate=0.001, n_estimators=50, score=-0.651220, total=  10.3s\n",
      "[CV] learning_rate=0.001, n_estimators=100 ...........................\n",
      "[CV]  learning_rate=0.001, n_estimators=100, score=-0.646993, total=  17.0s\n",
      "[CV] learning_rate=0.001, n_estimators=100 ...........................\n",
      "[CV]  learning_rate=0.001, n_estimators=100, score=-0.657955, total=  16.9s\n",
      "[CV] learning_rate=0.001, n_estimators=100 ...........................\n",
      "[CV]  learning_rate=0.001, n_estimators=100, score=-0.655131, total=  17.9s\n",
      "[CV] learning_rate=0.001, n_estimators=100 ...........................\n",
      "[CV]  learning_rate=0.001, n_estimators=100, score=-0.652757, total=  16.6s\n",
      "[CV] learning_rate=0.001, n_estimators=100 ...........................\n",
      "[CV]  learning_rate=0.001, n_estimators=100, score=-0.657830, total=  16.8s\n",
      "[CV] learning_rate=0.001, n_estimators=100 ...........................\n",
      "[CV]  learning_rate=0.001, n_estimators=100, score=-0.655189, total=  16.8s\n",
      "[CV] learning_rate=0.001, n_estimators=100 ...........................\n"
     ]
    },
    {
     "name": "stderr",
     "output_type": "stream",
     "text": [
      "[Parallel(n_jobs=3)]: Done  26 tasks      | elapsed:  1.3min\n"
     ]
    },
    {
     "name": "stdout",
     "output_type": "stream",
     "text": [
      "[CV]  learning_rate=0.001, n_estimators=100, score=-0.653599, total=  16.4s\n",
      "[CV] learning_rate=0.001, n_estimators=100 ...........................\n",
      "[CV]  learning_rate=0.001, n_estimators=100, score=-0.659365, total=  18.3s\n",
      "[CV] learning_rate=0.001, n_estimators=200 ...........................\n",
      "[CV]  learning_rate=0.001, n_estimators=100, score=-0.655784, total=  20.2s\n",
      "[CV] learning_rate=0.001, n_estimators=200 ...........................\n",
      "[CV]  learning_rate=0.001, n_estimators=100, score=-0.651240, total=  18.1s\n",
      "[CV] learning_rate=0.001, n_estimators=200 ...........................\n",
      "[CV]  learning_rate=0.001, n_estimators=200, score=-0.647611, total=  35.9s\n",
      "[CV] learning_rate=0.001, n_estimators=200 ...........................\n",
      "[CV]  learning_rate=0.001, n_estimators=200, score=-0.658173, total=  35.9s\n",
      "[CV] learning_rate=0.001, n_estimators=200 ...........................\n",
      "[CV]  learning_rate=0.001, n_estimators=200, score=-0.655335, total=  36.2s\n",
      "[CV] learning_rate=0.001, n_estimators=200 ...........................\n",
      "[CV]  learning_rate=0.001, n_estimators=200, score=-0.652996, total=  37.5s\n",
      "[CV] learning_rate=0.001, n_estimators=200 ...........................\n",
      "[CV]  learning_rate=0.001, n_estimators=200, score=-0.657742, total=  33.8s\n",
      "[CV] learning_rate=0.001, n_estimators=200 ...........................\n"
     ]
    },
    {
     "name": "stderr",
     "output_type": "stream",
     "text": [
      "[Parallel(n_jobs=3)]: Done  35 tasks      | elapsed:  2.9min\n"
     ]
    },
    {
     "name": "stdout",
     "output_type": "stream",
     "text": [
      "[CV]  learning_rate=0.001, n_estimators=200, score=-0.655233, total=  33.4s\n",
      "[CV] learning_rate=0.001, n_estimators=200 ...........................\n",
      "[CV]  learning_rate=0.001, n_estimators=200, score=-0.653891, total=  35.2s\n",
      "[CV] learning_rate=0.001, n_estimators=200 ...........................\n",
      "[CV]  learning_rate=0.001, n_estimators=200, score=-0.659420, total=  35.4s\n",
      "[CV] learning_rate=0.01, n_estimators=10 .............................\n",
      "[CV]  learning_rate=0.01, n_estimators=10, score=-0.646941, total=   2.6s\n",
      "[CV] learning_rate=0.01, n_estimators=10 .............................\n",
      "[CV]  learning_rate=0.01, n_estimators=10, score=-0.657939, total=   1.6s\n",
      "[CV] learning_rate=0.01, n_estimators=10 .............................\n",
      "[CV]  learning_rate=0.01, n_estimators=10, score=-0.655117, total=   2.0s\n",
      "[CV] learning_rate=0.01, n_estimators=10 .............................\n",
      "[CV]  learning_rate=0.001, n_estimators=200, score=-0.656051, total=  36.9s\n",
      "[CV] learning_rate=0.01, n_estimators=10 .............................\n",
      "[CV]  learning_rate=0.01, n_estimators=10, score=-0.652740, total=   2.2s\n",
      "[CV] learning_rate=0.01, n_estimators=10 .............................\n",
      "[CV]  learning_rate=0.01, n_estimators=10, score=-0.657843, total=   2.0s\n",
      "[CV] learning_rate=0.01, n_estimators=10 .............................\n"
     ]
    },
    {
     "name": "stderr",
     "output_type": "stream",
     "text": [
      "[Parallel(n_jobs=3)]: Done  44 tasks      | elapsed:  3.7min\n"
     ]
    },
    {
     "name": "stdout",
     "output_type": "stream",
     "text": [
      "[CV]  learning_rate=0.01, n_estimators=10, score=-0.655190, total=   2.1s\n",
      "[CV] learning_rate=0.01, n_estimators=10 .............................\n",
      "[CV]  learning_rate=0.01, n_estimators=10, score=-0.653577, total=   2.3s\n",
      "[CV] learning_rate=0.01, n_estimators=10 .............................\n",
      "[CV]  learning_rate=0.01, n_estimators=10, score=-0.659365, total=   2.3s\n",
      "[CV] learning_rate=0.01, n_estimators=10 .............................\n",
      "[CV]  learning_rate=0.01, n_estimators=10, score=-0.655764, total=   2.3s\n",
      "[CV] learning_rate=0.01, n_estimators=50 .............................\n",
      "[CV]  learning_rate=0.01, n_estimators=10, score=-0.651234, total=   2.0s\n",
      "[CV] learning_rate=0.01, n_estimators=50 .............................\n",
      "[CV]  learning_rate=0.01, n_estimators=50, score=-0.649556, total=   9.3s\n",
      "[CV] learning_rate=0.01, n_estimators=50 .............................\n",
      "[CV]  learning_rate=0.01, n_estimators=50, score=-0.659101, total=   9.7s\n",
      "[CV] learning_rate=0.01, n_estimators=50 .............................\n",
      "[CV]  learning_rate=0.001, n_estimators=200, score=-0.651367, total=  33.8s\n",
      "[CV] learning_rate=0.01, n_estimators=50 .............................\n",
      "[CV]  learning_rate=0.01, n_estimators=50, score=-0.656228, total=   9.8s\n",
      "[CV] learning_rate=0.01, n_estimators=50 .............................\n",
      "[CV]  learning_rate=0.01, n_estimators=50, score=-0.654022, total=  12.0s\n",
      "[CV] learning_rate=0.01, n_estimators=50 .............................\n",
      "[CV]  learning_rate=0.01, n_estimators=50, score=-0.658000, total=  12.4s\n",
      "[CV] learning_rate=0.01, n_estimators=50 .............................\n"
     ]
    },
    {
     "name": "stderr",
     "output_type": "stream",
     "text": [
      "[Parallel(n_jobs=3)]: Done  55 tasks      | elapsed:  4.2min\n"
     ]
    },
    {
     "name": "stdout",
     "output_type": "stream",
     "text": [
      "[CV]  learning_rate=0.01, n_estimators=50, score=-0.655821, total=   9.6s\n",
      "[CV] learning_rate=0.01, n_estimators=50 .............................\n",
      "[CV]  learning_rate=0.01, n_estimators=50, score=-0.655051, total=  10.6s\n",
      "[CV] learning_rate=0.01, n_estimators=50 .............................\n",
      "[CV]  learning_rate=0.01, n_estimators=50, score=-0.660000, total=   9.0s\n",
      "[CV] learning_rate=0.01, n_estimators=100 ............................\n",
      "[CV]  learning_rate=0.01, n_estimators=50, score=-0.657156, total=  10.1s\n",
      "[CV] learning_rate=0.01, n_estimators=100 ............................\n",
      "[CV]  learning_rate=0.01, n_estimators=50, score=-0.652208, total=  11.3s\n",
      "[CV] learning_rate=0.01, n_estimators=100 ............................\n",
      "[CV]  learning_rate=0.01, n_estimators=100, score=-0.653127, total=  24.5s\n",
      "[CV] learning_rate=0.01, n_estimators=100 ............................\n",
      "[CV]  learning_rate=0.01, n_estimators=100, score=-0.661255, total=  25.7s\n",
      "[CV] learning_rate=0.01, n_estimators=100 ............................\n",
      "[CV]  learning_rate=0.01, n_estimators=100, score=-0.658406, total=  24.3s\n",
      "[CV] learning_rate=0.01, n_estimators=100 ............................\n",
      "[CV]  learning_rate=0.01, n_estimators=100, score=-0.656524, total=  25.7s\n",
      "[CV] learning_rate=0.01, n_estimators=100 ............................\n",
      "[CV]  learning_rate=0.01, n_estimators=100, score=-0.659618, total=  23.9s\n",
      "[CV] learning_rate=0.01, n_estimators=100 ............................\n",
      "[CV]  learning_rate=0.01, n_estimators=100, score=-0.657814, total=  24.1s\n",
      "[CV] learning_rate=0.01, n_estimators=100 ............................\n"
     ]
    },
    {
     "name": "stderr",
     "output_type": "stream",
     "text": [
      "[Parallel(n_jobs=3)]: Done  66 tasks      | elapsed:  5.4min\n"
     ]
    },
    {
     "name": "stdout",
     "output_type": "stream",
     "text": [
      "[CV]  learning_rate=0.01, n_estimators=100, score=-0.657681, total=  17.3s\n",
      "[CV] learning_rate=0.01, n_estimators=100 ............................\n",
      "[CV]  learning_rate=0.01, n_estimators=100, score=-0.661836, total=  21.5s\n",
      "[CV] learning_rate=0.01, n_estimators=200 ............................\n",
      "[CV]  learning_rate=0.01, n_estimators=100, score=-0.659741, total=  22.4s\n",
      "[CV] learning_rate=0.01, n_estimators=200 ............................\n",
      "[CV]  learning_rate=0.01, n_estimators=100, score=-0.654594, total=  19.3s\n",
      "[CV] learning_rate=0.01, n_estimators=200 ............................\n",
      "[CV]  learning_rate=0.01, n_estimators=200, score=-0.659548, total=  39.3s\n",
      "[CV] learning_rate=0.01, n_estimators=200 ............................\n",
      "[CV]  learning_rate=0.01, n_estimators=200, score=-0.665777, total=  41.3s\n",
      "[CV] learning_rate=0.01, n_estimators=200 ............................\n",
      "[CV]  learning_rate=0.01, n_estimators=200, score=-0.663080, total=  39.6s\n",
      "[CV] learning_rate=0.01, n_estimators=200 ............................\n",
      "[CV]  learning_rate=0.01, n_estimators=200, score=-0.661846, total=  41.3s\n",
      "[CV] learning_rate=0.01, n_estimators=200 ............................\n",
      "[CV]  learning_rate=0.01, n_estimators=200, score=-0.664044, total=  37.7s\n",
      "[CV] learning_rate=0.01, n_estimators=200 ............................\n",
      "[CV]  learning_rate=0.01, n_estimators=200, score=-0.662651, total=  41.4s\n",
      "[CV] learning_rate=0.01, n_estimators=200 ............................\n",
      "[CV]  learning_rate=0.01, n_estimators=200, score=-0.663078, total=  39.1s\n",
      "[CV] learning_rate=0.01, n_estimators=200 ............................\n",
      "[CV]  learning_rate=0.01, n_estimators=200, score=-0.666224, total=  39.0s\n",
      "[CV] learning_rate=0.1, n_estimators=10 ..............................\n",
      "[CV]  learning_rate=0.1, n_estimators=10, score=-0.652656, total=   2.1s\n",
      "[CV] learning_rate=0.1, n_estimators=10 ..............................\n"
     ]
    },
    {
     "name": "stderr",
     "output_type": "stream",
     "text": [
      "[Parallel(n_jobs=3)]: Done  79 tasks      | elapsed:  7.9min\n"
     ]
    },
    {
     "name": "stdout",
     "output_type": "stream",
     "text": [
      "[CV]  learning_rate=0.1, n_estimators=10, score=-0.660943, total=   2.0s\n",
      "[CV] learning_rate=0.1, n_estimators=10 ..............................\n",
      "[CV]  learning_rate=0.1, n_estimators=10, score=-0.658080, total=   2.3s\n",
      "[CV] learning_rate=0.1, n_estimators=10 ..............................\n",
      "[CV]  learning_rate=0.1, n_estimators=10, score=-0.656161, total=   1.9s\n",
      "[CV] learning_rate=0.1, n_estimators=10 ..............................\n",
      "[CV]  learning_rate=0.1, n_estimators=10, score=-0.659346, total=   1.7s\n",
      "[CV] learning_rate=0.1, n_estimators=10 ..............................\n",
      "[CV]  learning_rate=0.01, n_estimators=200, score=-0.665079, total=  41.0s\n",
      "[CV] learning_rate=0.1, n_estimators=10 ..............................\n",
      "[CV]  learning_rate=0.1, n_estimators=10, score=-0.657495, total=   2.2s\n",
      "[CV] learning_rate=0.1, n_estimators=10 ..............................\n",
      "[CV]  learning_rate=0.1, n_estimators=10, score=-0.657308, total=   2.0s\n",
      "[CV] learning_rate=0.1, n_estimators=10 ..............................\n",
      "[CV]  learning_rate=0.1, n_estimators=10, score=-0.661550, total=   2.1s\n",
      "[CV] learning_rate=0.1, n_estimators=10 ..............................\n",
      "[CV]  learning_rate=0.1, n_estimators=10, score=-0.659379, total=   1.6s\n",
      "[CV] learning_rate=0.1, n_estimators=50 ..............................\n",
      "[CV]  learning_rate=0.1, n_estimators=10, score=-0.654238, total=   2.1s\n",
      "[CV] learning_rate=0.1, n_estimators=50 ..............................\n",
      "[CV]  learning_rate=0.1, n_estimators=50, score=-0.670570, total=   8.6s\n",
      "[CV] learning_rate=0.1, n_estimators=50 ..............................\n",
      "[CV]  learning_rate=0.1, n_estimators=50, score=-0.674352, total=   9.9s\n",
      "[CV] learning_rate=0.1, n_estimators=50 ..............................\n",
      "[CV]  learning_rate=0.1, n_estimators=50, score=-0.672165, total=   9.5s\n",
      "[CV] learning_rate=0.1, n_estimators=50 ..............................\n"
     ]
    },
    {
     "name": "stderr",
     "output_type": "stream",
     "text": [
      "[Parallel(n_jobs=3)]: Done  92 tasks      | elapsed:  8.4min\n"
     ]
    },
    {
     "name": "stdout",
     "output_type": "stream",
     "text": [
      "[CV]  learning_rate=0.1, n_estimators=50, score=-0.671998, total=   9.7s\n",
      "[CV] learning_rate=0.1, n_estimators=50 ..............................\n",
      "[CV]  learning_rate=0.01, n_estimators=200, score=-0.660074, total=  39.8s\n",
      "[CV] learning_rate=0.1, n_estimators=50 ..............................\n",
      "[CV]  learning_rate=0.1, n_estimators=50, score=-0.673447, total=  10.1s\n",
      "[CV] learning_rate=0.1, n_estimators=50 ..............................\n",
      "[CV]  learning_rate=0.1, n_estimators=50, score=-0.673088, total=   7.9s\n",
      "[CV] learning_rate=0.1, n_estimators=50 ..............................\n",
      "[CV]  learning_rate=0.1, n_estimators=50, score=-0.672478, total=   9.8s\n",
      "[CV] learning_rate=0.1, n_estimators=50 ..............................\n",
      "[CV]  learning_rate=0.1, n_estimators=50, score=-0.675043, total=   8.9s\n",
      "[CV] learning_rate=0.1, n_estimators=100 .............................\n",
      "[CV]  learning_rate=0.1, n_estimators=50, score=-0.674917, total=   8.9s\n",
      "[CV] learning_rate=0.1, n_estimators=100 .............................\n",
      "[CV]  learning_rate=0.1, n_estimators=50, score=-0.670967, total=   9.2s\n",
      "[CV] learning_rate=0.1, n_estimators=100 .............................\n",
      "[CV]  learning_rate=0.1, n_estimators=100, score=-0.680332, total=  13.9s\n",
      "[CV] learning_rate=0.1, n_estimators=100 .............................\n",
      "[CV]  learning_rate=0.1, n_estimators=100, score=-0.677882, total=  15.0s\n",
      "[CV] learning_rate=0.1, n_estimators=100 .............................\n",
      "[CV]  learning_rate=0.1, n_estimators=100, score=-0.678744, total=  15.9s\n",
      "[CV] learning_rate=0.1, n_estimators=100 .............................\n",
      "[CV]  learning_rate=0.1, n_estimators=100, score=-0.679017, total=  13.5s\n",
      "[CV] learning_rate=0.1, n_estimators=100 .............................\n",
      "[CV]  learning_rate=0.1, n_estimators=100, score=-0.679427, total=  13.5s\n",
      "[CV] learning_rate=0.1, n_estimators=100 .............................\n",
      "[CV]  learning_rate=0.1, n_estimators=100, score=-0.680127, total=  16.6s\n",
      "[CV] learning_rate=0.1, n_estimators=100 .............................\n",
      "[CV]  learning_rate=0.1, n_estimators=100, score=-0.679851, total=  14.8s\n",
      "[CV] learning_rate=0.1, n_estimators=100 .............................\n"
     ]
    },
    {
     "name": "stderr",
     "output_type": "stream",
     "text": [
      "[Parallel(n_jobs=3)]: Done 107 tasks      | elapsed:  9.5min\n"
     ]
    },
    {
     "name": "stdout",
     "output_type": "stream",
     "text": [
      "[CV]  learning_rate=0.1, n_estimators=100, score=-0.681331, total=  13.3s\n",
      "[CV] learning_rate=0.1, n_estimators=200 .............................\n",
      "[CV]  learning_rate=0.1, n_estimators=100, score=-0.681190, total=  15.4s\n",
      "[CV] learning_rate=0.1, n_estimators=200 .............................\n",
      "[CV]  learning_rate=0.1, n_estimators=100, score=-0.678609, total=  15.1s\n",
      "[CV] learning_rate=0.1, n_estimators=200 .............................\n",
      "[CV]  learning_rate=0.1, n_estimators=200, score=-0.683582, total=  25.6s\n",
      "[CV] learning_rate=0.1, n_estimators=200 .............................\n",
      "[CV]  learning_rate=0.1, n_estimators=200, score=-0.685070, total=  25.8s\n",
      "[CV] learning_rate=0.1, n_estimators=200 .............................\n",
      "[CV]  learning_rate=0.1, n_estimators=200, score=-0.684100, total=  26.4s\n",
      "[CV] learning_rate=0.1, n_estimators=200 .............................\n",
      "[CV]  learning_rate=0.1, n_estimators=200, score=-0.684457, total=  26.7s\n",
      "[CV] learning_rate=0.1, n_estimators=200 .............................\n",
      "[CV]  learning_rate=0.1, n_estimators=200, score=-0.685247, total=  26.5s\n",
      "[CV] learning_rate=0.1, n_estimators=200 .............................\n",
      "[CV]  learning_rate=0.1, n_estimators=200, score=-0.684801, total=  25.3s\n",
      "[CV] learning_rate=0.1, n_estimators=200 .............................\n",
      "[CV]  learning_rate=0.1, n_estimators=200, score=-0.685006, total=  25.9s\n",
      "[CV] learning_rate=0.1, n_estimators=200 .............................\n",
      "[CV]  learning_rate=0.1, n_estimators=200, score=-0.685861, total=  29.3s\n",
      "[CV] learning_rate=1, n_estimators=10 ................................\n",
      "[CV]  learning_rate=1, n_estimators=10, score=-0.677640, total=   1.4s\n",
      "[CV] learning_rate=1, n_estimators=10 ................................\n",
      "[CV]  learning_rate=1, n_estimators=10, score=-0.680127, total=   1.2s\n",
      "[CV] learning_rate=1, n_estimators=10 ................................\n",
      "[CV]  learning_rate=1, n_estimators=10, score=-0.678494, total=   1.2s\n",
      "[CV] learning_rate=1, n_estimators=10 ................................\n",
      "[CV]  learning_rate=1, n_estimators=10, score=-0.678794, total=   1.4s\n",
      "[CV] learning_rate=1, n_estimators=10 ................................\n"
     ]
    },
    {
     "name": "stderr",
     "output_type": "stream",
     "text": [
      "[Parallel(n_jobs=3)]: Done 122 tasks      | elapsed: 11.1min\n"
     ]
    },
    {
     "name": "stdout",
     "output_type": "stream",
     "text": [
      "[CV]  learning_rate=1, n_estimators=10, score=-0.679927, total=   1.4s\n",
      "[CV] learning_rate=1, n_estimators=10 ................................\n",
      "[CV]  learning_rate=0.1, n_estimators=200, score=-0.685980, total=  26.8s\n",
      "[CV] learning_rate=1, n_estimators=10 ................................\n",
      "[CV]  learning_rate=1, n_estimators=10, score=-0.679208, total=   1.4s\n",
      "[CV] learning_rate=1, n_estimators=10 ................................\n",
      "[CV]  learning_rate=1, n_estimators=10, score=-0.679645, total=   1.4s\n",
      "[CV] learning_rate=1, n_estimators=10 ................................\n",
      "[CV]  learning_rate=1, n_estimators=10, score=-0.681009, total=   1.3s\n",
      "[CV] learning_rate=1, n_estimators=10 ................................\n",
      "[CV]  learning_rate=1, n_estimators=10, score=-0.681171, total=   1.4s\n",
      "[CV] learning_rate=1, n_estimators=50 ................................\n",
      "[CV]  learning_rate=1, n_estimators=10, score=-0.678385, total=   1.4s\n",
      "[CV] learning_rate=1, n_estimators=50 ................................\n",
      "[CV]  learning_rate=1, n_estimators=50, score=-0.688527, total=   5.6s\n",
      "[CV] learning_rate=1, n_estimators=50 ................................\n",
      "[CV]  learning_rate=1, n_estimators=50, score=-0.689227, total=   6.0s\n",
      "[CV] learning_rate=1, n_estimators=50 ................................\n",
      "[CV]  learning_rate=1, n_estimators=50, score=-0.688826, total=   6.0s\n",
      "[CV] learning_rate=1, n_estimators=50 ................................\n",
      "[CV]  learning_rate=1, n_estimators=50, score=-0.689068, total=   5.4s\n",
      "[CV] learning_rate=1, n_estimators=50 ................................\n",
      "[CV]  learning_rate=0.1, n_estimators=200, score=-0.684415, total=  28.0s\n",
      "[CV] learning_rate=1, n_estimators=50 ................................\n",
      "[CV]  learning_rate=1, n_estimators=50, score=-0.689488, total=   5.2s\n",
      "[CV] learning_rate=1, n_estimators=50 ................................\n",
      "[CV]  learning_rate=1, n_estimators=50, score=-0.689287, total=   5.9s\n",
      "[CV] learning_rate=1, n_estimators=50 ................................\n",
      "[CV]  learning_rate=1, n_estimators=50, score=-0.689317, total=   6.7s\n",
      "[CV] learning_rate=1, n_estimators=50 ................................\n",
      "[CV]  learning_rate=1, n_estimators=50, score=-0.689708, total=   4.9s\n",
      "[CV] learning_rate=1, n_estimators=100 ...............................\n",
      "[CV]  learning_rate=1, n_estimators=50, score=-0.689748, total=   5.3s\n",
      "[CV] learning_rate=1, n_estimators=100 ...............................\n"
     ]
    },
    {
     "name": "stderr",
     "output_type": "stream",
     "text": [
      "[Parallel(n_jobs=3)]: Done 139 tasks      | elapsed: 11.6min\n"
     ]
    },
    {
     "name": "stdout",
     "output_type": "stream",
     "text": [
      "[CV]  learning_rate=1, n_estimators=50, score=-0.689115, total=   6.1s\n",
      "[CV] learning_rate=1, n_estimators=100 ...............................\n",
      "[CV]  learning_rate=1, n_estimators=100, score=-0.690575, total=  11.4s\n",
      "[CV] learning_rate=1, n_estimators=100 ...............................\n",
      "[CV]  learning_rate=1, n_estimators=100, score=-0.690970, total=  11.4s\n",
      "[CV] learning_rate=1, n_estimators=100 ...............................\n",
      "[CV]  learning_rate=1, n_estimators=100, score=-0.690777, total=  10.3s\n",
      "[CV] learning_rate=1, n_estimators=100 ...............................\n",
      "[CV]  learning_rate=1, n_estimators=100, score=-0.690921, total=  10.3s\n",
      "[CV] learning_rate=1, n_estimators=100 ...............................\n",
      "[CV]  learning_rate=1, n_estimators=100, score=-0.691060, total=  10.2s\n",
      "[CV]  learning_rate=1, n_estimators=100, score=-0.691157, total=  11.4s\n",
      "[CV] learning_rate=1, n_estimators=100 ...............................\n",
      "[CV] learning_rate=1, n_estimators=100 ...............................\n",
      "[CV]  learning_rate=1, n_estimators=100, score=-0.691052, total=  10.4s\n",
      "[CV] learning_rate=1, n_estimators=100 ...............................\n",
      "[CV]  learning_rate=1, n_estimators=100, score=-0.691266, total=  10.1s\n",
      "[CV] learning_rate=1, n_estimators=200 ...............................\n",
      "[CV]  learning_rate=1, n_estimators=100, score=-0.691249, total=  10.9s\n",
      "[CV] learning_rate=1, n_estimators=200 ...............................\n",
      "[CV]  learning_rate=1, n_estimators=100, score=-0.690951, total=  10.3s\n",
      "[CV] learning_rate=1, n_estimators=200 ...............................\n",
      "[CV]  learning_rate=1, n_estimators=200, score=-0.691955, total=  17.3s\n",
      "[CV] learning_rate=1, n_estimators=200 ...............................\n",
      "[CV]  learning_rate=1, n_estimators=200, score=-0.691728, total=  18.8s\n",
      "[CV] learning_rate=1, n_estimators=200 ...............................\n",
      "[CV]  learning_rate=1, n_estimators=200, score=-0.691862, total=  19.4s\n",
      "[CV] learning_rate=1, n_estimators=200 ...............................\n",
      "[CV]  learning_rate=1, n_estimators=200, score=-0.691943, total=  17.7s\n",
      "[CV] learning_rate=1, n_estimators=200 ...............................\n",
      "[CV]  learning_rate=1, n_estimators=200, score=-0.692074, total=  18.6s\n",
      "[CV] learning_rate=1, n_estimators=200 ...............................\n",
      "[CV]  learning_rate=1, n_estimators=200, score=-0.692030, total=  17.9s\n",
      "[CV] learning_rate=1, n_estimators=200 ...............................\n",
      "[CV]  learning_rate=1, n_estimators=200, score=-0.692017, total=  18.4s\n",
      "[CV] learning_rate=1, n_estimators=200 ...............................\n",
      "[CV]  learning_rate=1, n_estimators=200, score=-0.692114, total=  18.6s\n",
      "[CV]  learning_rate=1, n_estimators=200, score=-0.692120, total=  16.7s\n",
      "[CV]  learning_rate=1, n_estimators=200, score=-0.691966, total=  10.9s\n"
     ]
    },
    {
     "name": "stderr",
     "output_type": "stream",
     "text": [
      "[Parallel(n_jobs=3)]: Done 160 out of 160 | elapsed: 13.4min finished\n"
     ]
    },
    {
     "name": "stdout",
     "output_type": "stream",
     "text": [
      "-0.654486984878\n",
      "AdaBoostClassifier(algorithm='SAMME.R',\n",
      "          base_estimator=LogisticRegression(C=10, class_weight=None, dual=False, fit_intercept=True,\n",
      "          intercept_scaling=0.1, max_iter=100, multi_class='ovr', n_jobs=1,\n",
      "          penalty='l2', random_state=None, solver='liblinear', tol=0.0001,\n",
      "          verbose=0, warm_start=False),\n",
      "          learning_rate=0.001, n_estimators=10, random_state=None)\n"
     ]
    },
    {
     "ename": "NameError",
     "evalue": "name 'strattime' is not defined",
     "output_type": "error",
     "traceback": [
      "\u001b[0;31m---------------------------------------------------------------------------\u001b[0m",
      "\u001b[0;31mNameError\u001b[0m                                 Traceback (most recent call last)",
      "\u001b[0;32m<ipython-input-24-b133555c1d02>\u001b[0m in \u001b[0;36m<module>\u001b[0;34m()\u001b[0m\n\u001b[1;32m     10\u001b[0m \u001b[0mget_best_params\u001b[0m\u001b[0;34m(\u001b[0m\u001b[0mada\u001b[0m\u001b[0;34m,\u001b[0m \u001b[0mX_best\u001b[0m\u001b[0;34m,\u001b[0m \u001b[0my\u001b[0m\u001b[0;34m,\u001b[0m \u001b[0mparam_grid\u001b[0m\u001b[0;34m,\u001b[0m \u001b[0;36m10\u001b[0m\u001b[0;34m)\u001b[0m\u001b[0;34m\u001b[0m\u001b[0m\n\u001b[1;32m     11\u001b[0m \u001b[0;34m\u001b[0m\u001b[0m\n\u001b[0;32m---> 12\u001b[0;31m \u001b[0mprint\u001b[0m\u001b[0;34m(\u001b[0m\u001b[0;34m'Ran in '\u001b[0m\u001b[0;34m,\u001b[0m \u001b[0mtime\u001b[0m\u001b[0;34m.\u001b[0m\u001b[0mtime\u001b[0m\u001b[0;34m(\u001b[0m\u001b[0;34m)\u001b[0m\u001b[0;34m-\u001b[0m\u001b[0mstrattime\u001b[0m\u001b[0;34m,\u001b[0m \u001b[0;34m'seconds.'\u001b[0m\u001b[0;34m)\u001b[0m\u001b[0;34m\u001b[0m\u001b[0m\n\u001b[0m",
      "\u001b[0;31mNameError\u001b[0m: name 'strattime' is not defined"
     ]
    }
   ],
   "source": [
    "ada = AdaBoostClassifier(base_estimator = lr)\n",
    "\n",
    "param_grid = {\n",
    "    'n_estimators' : [10,50,100,200],\n",
    "    'learning_rate' : [0.001, 0.01, 0.1, 1]\n",
    "}\n",
    "\n",
    "startime = time.time()\n",
    "\n",
    "get_best_params(ada, X_best, y, param_grid, 10)\n",
    "\n",
    "print('Ran in ', time.time()-strattime, 'seconds.')"
   ]
  },
  {
   "cell_type": "code",
   "execution_count": null,
   "metadata": {
    "collapsed": true
   },
   "outputs": [],
   "source": []
  }
 ],
 "metadata": {
  "anaconda-cloud": {},
  "kernelspec": {
   "display_name": "Python [default]",
   "language": "python",
   "name": "python3"
  },
  "language_info": {
   "codemirror_mode": {
    "name": "ipython",
    "version": 3
   },
   "file_extension": ".py",
   "mimetype": "text/x-python",
   "name": "python",
   "nbconvert_exporter": "python",
   "pygments_lexer": "ipython3",
   "version": "3.5.2"
  }
 },
 "nbformat": 4,
 "nbformat_minor": 1
}
