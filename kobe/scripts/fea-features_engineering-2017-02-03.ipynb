{
 "cells": [
  {
   "cell_type": "code",
   "execution_count": 1,
   "metadata": {
    "collapsed": true
   },
   "outputs": [],
   "source": [
    "import pandas as pd\n",
    "import numpy as np\n",
    "from sklearn.feature_selection import SelectKBest, chi2, f_classif\n",
    "from sklearn import model_selection"
   ]
  },
  {
   "cell_type": "code",
   "execution_count": 2,
   "metadata": {
    "collapsed": false
   },
   "outputs": [
    {
     "data": {
      "text/plain": [
       "Index(['action_type', 'combined_shot_type', 'game_event_id', 'game_id', 'lat',\n",
       "       'loc_x', 'loc_y', 'lon', 'minutes_remaining', 'period', 'playoffs',\n",
       "       'season', 'seconds_remaining', 'shot_distance', 'shot_made_flag',\n",
       "       'shot_type', 'shot_zone_area', 'shot_zone_basic', 'shot_zone_range',\n",
       "       'team_id', 'team_name', 'game_date', 'matchup', 'opponent', 'shot_id'],\n",
       "      dtype='object')"
      ]
     },
     "execution_count": 2,
     "metadata": {},
     "output_type": "execute_result"
    }
   ],
   "source": [
    "df = pd.read_csv('../input/data.csv')\n",
    "df.columns"
   ]
  },
  {
   "cell_type": "code",
   "execution_count": 3,
   "metadata": {
    "collapsed": false,
    "scrolled": false
   },
   "outputs": [
    {
     "data": {
      "text/html": [
       "<div>\n",
       "<table border=\"1\" class=\"dataframe\">\n",
       "  <thead>\n",
       "    <tr style=\"text-align: right;\">\n",
       "      <th></th>\n",
       "      <th>game_event_id</th>\n",
       "      <th>game_date</th>\n",
       "      <th>period</th>\n",
       "      <th>minutes_remaining</th>\n",
       "      <th>seconds_remaining</th>\n",
       "      <th>seconds_to_end</th>\n",
       "    </tr>\n",
       "  </thead>\n",
       "  <tbody>\n",
       "    <tr>\n",
       "      <th>22901</th>\n",
       "      <td>102</td>\n",
       "      <td>1996-11-03</td>\n",
       "      <td>1</td>\n",
       "      <td>0</td>\n",
       "      <td>42</td>\n",
       "      <td>42</td>\n",
       "    </tr>\n",
       "    <tr>\n",
       "      <th>22902</th>\n",
       "      <td>127</td>\n",
       "      <td>1996-11-05</td>\n",
       "      <td>2</td>\n",
       "      <td>10</td>\n",
       "      <td>8</td>\n",
       "      <td>608</td>\n",
       "    </tr>\n",
       "    <tr>\n",
       "      <th>22903</th>\n",
       "      <td>124</td>\n",
       "      <td>1996-11-06</td>\n",
       "      <td>2</td>\n",
       "      <td>8</td>\n",
       "      <td>37</td>\n",
       "      <td>517</td>\n",
       "    </tr>\n",
       "    <tr>\n",
       "      <th>22904</th>\n",
       "      <td>144</td>\n",
       "      <td>1996-11-06</td>\n",
       "      <td>2</td>\n",
       "      <td>6</td>\n",
       "      <td>34</td>\n",
       "      <td>394</td>\n",
       "    </tr>\n",
       "    <tr>\n",
       "      <th>22905</th>\n",
       "      <td>151</td>\n",
       "      <td>1996-11-06</td>\n",
       "      <td>2</td>\n",
       "      <td>5</td>\n",
       "      <td>27</td>\n",
       "      <td>327</td>\n",
       "    </tr>\n",
       "    <tr>\n",
       "      <th>22906</th>\n",
       "      <td>157</td>\n",
       "      <td>1996-11-08</td>\n",
       "      <td>2</td>\n",
       "      <td>7</td>\n",
       "      <td>18</td>\n",
       "      <td>438</td>\n",
       "    </tr>\n",
       "    <tr>\n",
       "      <th>22907</th>\n",
       "      <td>226</td>\n",
       "      <td>1996-11-08</td>\n",
       "      <td>2</td>\n",
       "      <td>2</td>\n",
       "      <td>16</td>\n",
       "      <td>136</td>\n",
       "    </tr>\n",
       "    <tr>\n",
       "      <th>22908</th>\n",
       "      <td>321</td>\n",
       "      <td>1996-11-08</td>\n",
       "      <td>3</td>\n",
       "      <td>3</td>\n",
       "      <td>25</td>\n",
       "      <td>205</td>\n",
       "    </tr>\n",
       "    <tr>\n",
       "      <th>22909</th>\n",
       "      <td>334</td>\n",
       "      <td>1996-11-08</td>\n",
       "      <td>3</td>\n",
       "      <td>1</td>\n",
       "      <td>53</td>\n",
       "      <td>113</td>\n",
       "    </tr>\n",
       "    <tr>\n",
       "      <th>22910</th>\n",
       "      <td>337</td>\n",
       "      <td>1996-11-08</td>\n",
       "      <td>3</td>\n",
       "      <td>1</td>\n",
       "      <td>14</td>\n",
       "      <td>74</td>\n",
       "    </tr>\n",
       "    <tr>\n",
       "      <th>22911</th>\n",
       "      <td>352</td>\n",
       "      <td>1996-11-08</td>\n",
       "      <td>3</td>\n",
       "      <td>0</td>\n",
       "      <td>2</td>\n",
       "      <td>2</td>\n",
       "    </tr>\n",
       "    <tr>\n",
       "      <th>22912</th>\n",
       "      <td>380</td>\n",
       "      <td>1996-11-08</td>\n",
       "      <td>4</td>\n",
       "      <td>9</td>\n",
       "      <td>9</td>\n",
       "      <td>549</td>\n",
       "    </tr>\n",
       "    <tr>\n",
       "      <th>22913</th>\n",
       "      <td>384</td>\n",
       "      <td>1996-11-08</td>\n",
       "      <td>4</td>\n",
       "      <td>8</td>\n",
       "      <td>36</td>\n",
       "      <td>516</td>\n",
       "    </tr>\n",
       "    <tr>\n",
       "      <th>22914</th>\n",
       "      <td>107</td>\n",
       "      <td>1996-11-10</td>\n",
       "      <td>1</td>\n",
       "      <td>1</td>\n",
       "      <td>10</td>\n",
       "      <td>70</td>\n",
       "    </tr>\n",
       "    <tr>\n",
       "      <th>22915</th>\n",
       "      <td>137</td>\n",
       "      <td>1996-11-10</td>\n",
       "      <td>2</td>\n",
       "      <td>10</td>\n",
       "      <td>3</td>\n",
       "      <td>603</td>\n",
       "    </tr>\n",
       "    <tr>\n",
       "      <th>22916</th>\n",
       "      <td>157</td>\n",
       "      <td>1996-11-10</td>\n",
       "      <td>2</td>\n",
       "      <td>8</td>\n",
       "      <td>28</td>\n",
       "      <td>508</td>\n",
       "    </tr>\n",
       "    <tr>\n",
       "      <th>22917</th>\n",
       "      <td>153</td>\n",
       "      <td>1996-11-12</td>\n",
       "      <td>2</td>\n",
       "      <td>6</td>\n",
       "      <td>24</td>\n",
       "      <td>384</td>\n",
       "    </tr>\n",
       "    <tr>\n",
       "      <th>22918</th>\n",
       "      <td>183</td>\n",
       "      <td>1996-11-12</td>\n",
       "      <td>2</td>\n",
       "      <td>3</td>\n",
       "      <td>11</td>\n",
       "      <td>191</td>\n",
       "    </tr>\n",
       "    <tr>\n",
       "      <th>22919</th>\n",
       "      <td>426</td>\n",
       "      <td>1996-11-13</td>\n",
       "      <td>4</td>\n",
       "      <td>1</td>\n",
       "      <td>19</td>\n",
       "      <td>79</td>\n",
       "    </tr>\n",
       "    <tr>\n",
       "      <th>22920</th>\n",
       "      <td>453</td>\n",
       "      <td>1996-11-13</td>\n",
       "      <td>4</td>\n",
       "      <td>0</td>\n",
       "      <td>6</td>\n",
       "      <td>6</td>\n",
       "    </tr>\n",
       "  </tbody>\n",
       "</table>\n",
       "</div>"
      ],
      "text/plain": [
       "       game_event_id   game_date  period  minutes_remaining  \\\n",
       "22901            102  1996-11-03       1                  0   \n",
       "22902            127  1996-11-05       2                 10   \n",
       "22903            124  1996-11-06       2                  8   \n",
       "22904            144  1996-11-06       2                  6   \n",
       "22905            151  1996-11-06       2                  5   \n",
       "22906            157  1996-11-08       2                  7   \n",
       "22907            226  1996-11-08       2                  2   \n",
       "22908            321  1996-11-08       3                  3   \n",
       "22909            334  1996-11-08       3                  1   \n",
       "22910            337  1996-11-08       3                  1   \n",
       "22911            352  1996-11-08       3                  0   \n",
       "22912            380  1996-11-08       4                  9   \n",
       "22913            384  1996-11-08       4                  8   \n",
       "22914            107  1996-11-10       1                  1   \n",
       "22915            137  1996-11-10       2                 10   \n",
       "22916            157  1996-11-10       2                  8   \n",
       "22917            153  1996-11-12       2                  6   \n",
       "22918            183  1996-11-12       2                  3   \n",
       "22919            426  1996-11-13       4                  1   \n",
       "22920            453  1996-11-13       4                  0   \n",
       "\n",
       "       seconds_remaining  seconds_to_end  \n",
       "22901                 42              42  \n",
       "22902                  8             608  \n",
       "22903                 37             517  \n",
       "22904                 34             394  \n",
       "22905                 27             327  \n",
       "22906                 18             438  \n",
       "22907                 16             136  \n",
       "22908                 25             205  \n",
       "22909                 53             113  \n",
       "22910                 14              74  \n",
       "22911                  2               2  \n",
       "22912                  9             549  \n",
       "22913                 36             516  \n",
       "22914                 10              70  \n",
       "22915                  3             603  \n",
       "22916                 28             508  \n",
       "22917                 24             384  \n",
       "22918                 11             191  \n",
       "22919                 19              79  \n",
       "22920                  6               6  "
      ]
     },
     "execution_count": 3,
     "metadata": {},
     "output_type": "execute_result"
    }
   ],
   "source": [
    "# the data is not sorted. The shot with id=1 is not the first shot chronologicaly\n",
    "# calculate seconds_to_end = number of seconds left before the end of the period\n",
    "df['seconds_to_end'] = (df['minutes_remaining'] * 60) + df['seconds_remaining']\n",
    "\n",
    "# sort the dataframe by date, period ascendant and seconds_to_end descendant\n",
    "df = df.sort_values(by=['game_date','period','seconds_to_end'], ascending=[True,True,False] )\n",
    "\n",
    "df[['game_event_id','game_date','period','minutes_remaining','seconds_remaining','seconds_to_end']].head(20)"
   ]
  },
  {
   "cell_type": "markdown",
   "metadata": {},
   "source": [
    "## Data Cleaning\n",
    "\n",
    "we first remove the columns we don't want"
   ]
  },
  {
   "cell_type": "code",
   "execution_count": 4,
   "metadata": {
    "collapsed": false
   },
   "outputs": [
    {
     "data": {
      "text/plain": [
       "Index(['action_type', 'combined_shot_type', 'game_event_id', 'game_id', 'lat',\n",
       "       'loc_x', 'loc_y', 'lon', 'minutes_remaining', 'period', 'playoffs',\n",
       "       'season', 'seconds_remaining', 'shot_distance', 'shot_made_flag',\n",
       "       'shot_type', 'shot_zone_area', 'shot_zone_basic', 'shot_zone_range',\n",
       "       'team_id', 'team_name', 'game_date', 'matchup', 'opponent', 'shot_id',\n",
       "       'seconds_to_end'],\n",
       "      dtype='object')"
      ]
     },
     "execution_count": 4,
     "metadata": {},
     "output_type": "execute_result"
    }
   ],
   "source": [
    "df.columns"
   ]
  },
  {
   "cell_type": "code",
   "execution_count": 5,
   "metadata": {
    "collapsed": false
   },
   "outputs": [],
   "source": [
    "# lat,lon,loc_x and loc_y are correlated\n",
    "df.drop(['lat','lon'], axis=1, inplace=True)\n",
    "\n",
    "# we don't need game_id and game_event_id\n",
    "df.drop(['game_id','game_event_id'], axis=1, inplace=True)\n",
    "\n",
    "# Kobe has always played with the LA Lakers\n",
    "df.drop(['team_id','team_name'], axis=1, inplace=True)\n",
    "\n",
    "# we added the seconds to end of period\n",
    "df.drop(['minutes_remaining','seconds_remaining'], axis=1, inplace=True)"
   ]
  },
  {
   "cell_type": "code",
   "execution_count": 6,
   "metadata": {
    "collapsed": false
   },
   "outputs": [
    {
     "data": {
      "text/plain": [
       "Index(['action_type', 'combined_shot_type', 'loc_x', 'loc_y', 'period',\n",
       "       'playoffs', 'season', 'shot_distance', 'shot_made_flag', 'shot_type',\n",
       "       'shot_zone_area', 'shot_zone_basic', 'shot_zone_range', 'game_date',\n",
       "       'matchup', 'opponent', 'shot_id', 'seconds_to_end'],\n",
       "      dtype='object')"
      ]
     },
     "execution_count": 6,
     "metadata": {},
     "output_type": "execute_result"
    }
   ],
   "source": [
    "df.columns"
   ]
  },
  {
   "cell_type": "markdown",
   "metadata": {},
   "source": [
    "## Data Transformation\n",
    "### Create new features"
   ]
  },
  {
   "cell_type": "code",
   "execution_count": 7,
   "metadata": {
    "collapsed": true
   },
   "outputs": [],
   "source": [
    "# make home/away feature from matchup\n",
    "# if contains @, this is away game. home game otherwise\n",
    "def home(row):\n",
    "    try:\n",
    "        row['matchup'].index('@')\n",
    "        return 'away'\n",
    "    except:\n",
    "        return 'home'\n",
    "        \n",
    "df['venue'] = df.apply(home, axis = 1)\n",
    "\n",
    "# we don't need matchup anymore because it's recurrent with opponent and tenure\n",
    "df.drop('matchup', axis=1, inplace=True)"
   ]
  },
  {
   "cell_type": "code",
   "execution_count": 8,
   "metadata": {
    "collapsed": false
   },
   "outputs": [],
   "source": [
    "# add year and month and week day from game_date\n",
    "df['year'] = pd.DatetimeIndex(df['game_date']).year\n",
    "df['month'] = pd.DatetimeIndex(df['game_date']).month\n",
    "df['weekday'] = pd.DatetimeIndex(df['game_date']).weekday\n",
    "#df.drop('game_date', axis=1, inplace=True)"
   ]
  },
  {
   "cell_type": "code",
   "execution_count": 9,
   "metadata": {
    "collapsed": false
   },
   "outputs": [],
   "source": [
    "# add some moving averages\n",
    "periods = [10,20,50,100,200]\n",
    "\n",
    "for n in periods:\n",
    "    col = 'MA' + str(n)\n",
    "    df[col] = df['shot_made_flag'].fillna(0.45).rolling(window=n).mean()\n",
    "    #df[col] = pd.rolling_mean(df['shot_made_flag'],n)    "
   ]
  },
  {
   "cell_type": "code",
   "execution_count": 10,
   "metadata": {
    "collapsed": false
   },
   "outputs": [
    {
     "name": "stdout",
     "output_type": "stream",
     "text": [
      "<class 'pandas.core.frame.DataFrame'>\n",
      "Int64Index: 30697 entries, 22901 to 22900\n",
      "Data columns (total 5 columns):\n",
      "MA10     30688 non-null float64\n",
      "MA20     30678 non-null float64\n",
      "MA50     30648 non-null float64\n",
      "MA100    30598 non-null float64\n",
      "MA200    30498 non-null float64\n",
      "dtypes: float64(5)\n",
      "memory usage: 1.4 MB\n"
     ]
    }
   ],
   "source": [
    "df[['MA10','MA20','MA50','MA100','MA200']].info()"
   ]
  },
  {
   "cell_type": "markdown",
   "metadata": {},
   "source": [
    "### Encode categorical variables"
   ]
  },
  {
   "cell_type": "code",
   "execution_count": 11,
   "metadata": {
    "collapsed": false
   },
   "outputs": [],
   "source": [
    "cat_cols = ['action_type','combined_shot_type','period','season','shot_type','shot_zone_area',\n",
    "            'shot_zone_basic','shot_zone_range','year','month','weekday','opponent','venue']\n",
    "\n",
    "for col in cat_cols:\n",
    "    dummies = pd.get_dummies(df[col], prefix=col)\n",
    "    df.drop(col, axis=1, inplace=True)\n",
    "    df = df.join(dummies)"
   ]
  },
  {
   "cell_type": "code",
   "execution_count": 12,
   "metadata": {
    "collapsed": false
   },
   "outputs": [
    {
     "data": {
      "text/plain": [
       "Index(['loc_x', 'loc_y', 'playoffs', 'shot_distance', 'shot_made_flag',\n",
       "       'game_date', 'shot_id', 'seconds_to_end', 'MA10', 'MA20',\n",
       "       ...\n",
       "       'opponent_POR', 'opponent_SAC', 'opponent_SAS', 'opponent_SEA',\n",
       "       'opponent_TOR', 'opponent_UTA', 'opponent_VAN', 'opponent_WAS',\n",
       "       'venue_away', 'venue_home'],\n",
       "      dtype='object', length=195)"
      ]
     },
     "execution_count": 12,
     "metadata": {},
     "output_type": "execute_result"
    }
   ],
   "source": [
    "df.columns"
   ]
  },
  {
   "cell_type": "code",
   "execution_count": 13,
   "metadata": {
    "collapsed": false
   },
   "outputs": [
    {
     "data": {
      "text/html": [
       "<div>\n",
       "<table border=\"1\" class=\"dataframe\">\n",
       "  <thead>\n",
       "    <tr style=\"text-align: right;\">\n",
       "      <th></th>\n",
       "      <th>loc_x</th>\n",
       "      <th>loc_y</th>\n",
       "      <th>playoffs</th>\n",
       "      <th>shot_distance</th>\n",
       "      <th>shot_made_flag</th>\n",
       "      <th>game_date</th>\n",
       "      <th>shot_id</th>\n",
       "      <th>seconds_to_end</th>\n",
       "      <th>MA10</th>\n",
       "      <th>MA20</th>\n",
       "      <th>...</th>\n",
       "      <th>opponent_POR</th>\n",
       "      <th>opponent_SAC</th>\n",
       "      <th>opponent_SAS</th>\n",
       "      <th>opponent_SEA</th>\n",
       "      <th>opponent_TOR</th>\n",
       "      <th>opponent_UTA</th>\n",
       "      <th>opponent_VAN</th>\n",
       "      <th>opponent_WAS</th>\n",
       "      <th>venue_away</th>\n",
       "      <th>venue_home</th>\n",
       "    </tr>\n",
       "  </thead>\n",
       "  <tbody>\n",
       "    <tr>\n",
       "      <th>22901</th>\n",
       "      <td>-140</td>\n",
       "      <td>116</td>\n",
       "      <td>0</td>\n",
       "      <td>18</td>\n",
       "      <td>0.0</td>\n",
       "      <td>1996-11-03</td>\n",
       "      <td>22902</td>\n",
       "      <td>42</td>\n",
       "      <td>NaN</td>\n",
       "      <td>NaN</td>\n",
       "      <td>...</td>\n",
       "      <td>0</td>\n",
       "      <td>0</td>\n",
       "      <td>0</td>\n",
       "      <td>0</td>\n",
       "      <td>0</td>\n",
       "      <td>0</td>\n",
       "      <td>0</td>\n",
       "      <td>0</td>\n",
       "      <td>0</td>\n",
       "      <td>1</td>\n",
       "    </tr>\n",
       "    <tr>\n",
       "      <th>22902</th>\n",
       "      <td>-131</td>\n",
       "      <td>97</td>\n",
       "      <td>0</td>\n",
       "      <td>16</td>\n",
       "      <td>0.0</td>\n",
       "      <td>1996-11-05</td>\n",
       "      <td>22903</td>\n",
       "      <td>608</td>\n",
       "      <td>NaN</td>\n",
       "      <td>NaN</td>\n",
       "      <td>...</td>\n",
       "      <td>0</td>\n",
       "      <td>0</td>\n",
       "      <td>0</td>\n",
       "      <td>0</td>\n",
       "      <td>0</td>\n",
       "      <td>0</td>\n",
       "      <td>0</td>\n",
       "      <td>0</td>\n",
       "      <td>1</td>\n",
       "      <td>0</td>\n",
       "    </tr>\n",
       "    <tr>\n",
       "      <th>22903</th>\n",
       "      <td>-142</td>\n",
       "      <td>181</td>\n",
       "      <td>0</td>\n",
       "      <td>23</td>\n",
       "      <td>1.0</td>\n",
       "      <td>1996-11-06</td>\n",
       "      <td>22904</td>\n",
       "      <td>517</td>\n",
       "      <td>NaN</td>\n",
       "      <td>NaN</td>\n",
       "      <td>...</td>\n",
       "      <td>0</td>\n",
       "      <td>0</td>\n",
       "      <td>0</td>\n",
       "      <td>0</td>\n",
       "      <td>0</td>\n",
       "      <td>0</td>\n",
       "      <td>0</td>\n",
       "      <td>0</td>\n",
       "      <td>1</td>\n",
       "      <td>0</td>\n",
       "    </tr>\n",
       "    <tr>\n",
       "      <th>22904</th>\n",
       "      <td>0</td>\n",
       "      <td>0</td>\n",
       "      <td>0</td>\n",
       "      <td>0</td>\n",
       "      <td>0.0</td>\n",
       "      <td>1996-11-06</td>\n",
       "      <td>22905</td>\n",
       "      <td>394</td>\n",
       "      <td>NaN</td>\n",
       "      <td>NaN</td>\n",
       "      <td>...</td>\n",
       "      <td>0</td>\n",
       "      <td>0</td>\n",
       "      <td>0</td>\n",
       "      <td>0</td>\n",
       "      <td>0</td>\n",
       "      <td>0</td>\n",
       "      <td>0</td>\n",
       "      <td>0</td>\n",
       "      <td>1</td>\n",
       "      <td>0</td>\n",
       "    </tr>\n",
       "    <tr>\n",
       "      <th>22905</th>\n",
       "      <td>-10</td>\n",
       "      <td>138</td>\n",
       "      <td>0</td>\n",
       "      <td>13</td>\n",
       "      <td>1.0</td>\n",
       "      <td>1996-11-06</td>\n",
       "      <td>22906</td>\n",
       "      <td>327</td>\n",
       "      <td>NaN</td>\n",
       "      <td>NaN</td>\n",
       "      <td>...</td>\n",
       "      <td>0</td>\n",
       "      <td>0</td>\n",
       "      <td>0</td>\n",
       "      <td>0</td>\n",
       "      <td>0</td>\n",
       "      <td>0</td>\n",
       "      <td>0</td>\n",
       "      <td>0</td>\n",
       "      <td>1</td>\n",
       "      <td>0</td>\n",
       "    </tr>\n",
       "  </tbody>\n",
       "</table>\n",
       "<p>5 rows × 195 columns</p>\n",
       "</div>"
      ],
      "text/plain": [
       "       loc_x  loc_y  playoffs  shot_distance  shot_made_flag   game_date  \\\n",
       "22901   -140    116         0             18             0.0  1996-11-03   \n",
       "22902   -131     97         0             16             0.0  1996-11-05   \n",
       "22903   -142    181         0             23             1.0  1996-11-06   \n",
       "22904      0      0         0              0             0.0  1996-11-06   \n",
       "22905    -10    138         0             13             1.0  1996-11-06   \n",
       "\n",
       "       shot_id  seconds_to_end  MA10  MA20     ...      opponent_POR  \\\n",
       "22901    22902              42   NaN   NaN     ...                 0   \n",
       "22902    22903             608   NaN   NaN     ...                 0   \n",
       "22903    22904             517   NaN   NaN     ...                 0   \n",
       "22904    22905             394   NaN   NaN     ...                 0   \n",
       "22905    22906             327   NaN   NaN     ...                 0   \n",
       "\n",
       "       opponent_SAC  opponent_SAS  opponent_SEA  opponent_TOR  opponent_UTA  \\\n",
       "22901             0             0             0             0             0   \n",
       "22902             0             0             0             0             0   \n",
       "22903             0             0             0             0             0   \n",
       "22904             0             0             0             0             0   \n",
       "22905             0             0             0             0             0   \n",
       "\n",
       "       opponent_VAN  opponent_WAS  venue_away  venue_home  \n",
       "22901             0             0           0           1  \n",
       "22902             0             0           1           0  \n",
       "22903             0             0           1           0  \n",
       "22904             0             0           1           0  \n",
       "22905             0             0           1           0  \n",
       "\n",
       "[5 rows x 195 columns]"
      ]
     },
     "execution_count": 13,
     "metadata": {},
     "output_type": "execute_result"
    }
   ],
   "source": [
    "df.head()"
   ]
  },
  {
   "cell_type": "markdown",
   "metadata": {},
   "source": [
    "## Export the processed data"
   ]
  },
  {
   "cell_type": "code",
   "execution_count": 14,
   "metadata": {
    "collapsed": true
   },
   "outputs": [],
   "source": [
    "df.dropna(subset=['shot_made_flag']).to_pickle('../input/processed_train_data.pickle')\n",
    "df[df['shot_made_flag'].isnull()].to_pickle('../input/processed_test_data.pickle')\n",
    "\n",
    "# export not split data\n",
    "df.to_pickle('../input/processed_data.pickle')"
   ]
  }
 ],
 "metadata": {
  "anaconda-cloud": {},
  "kernelspec": {
   "display_name": "Python 3",
   "language": "python",
   "name": "python3"
  },
  "language_info": {
   "codemirror_mode": {
    "name": "ipython",
    "version": 3
   },
   "file_extension": ".py",
   "mimetype": "text/x-python",
   "name": "python",
   "nbconvert_exporter": "python",
   "pygments_lexer": "ipython3",
   "version": "3.6.0"
  }
 },
 "nbformat": 4,
 "nbformat_minor": 1
}
