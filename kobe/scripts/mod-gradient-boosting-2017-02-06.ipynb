{
 "cells": [
  {
   "cell_type": "code",
   "execution_count": 1,
   "metadata": {
    "collapsed": true
   },
   "outputs": [],
   "source": [
    "import pandas as pd\n",
    "import numpy as np\n",
    "import matplotlib.pyplot as plt\n",
    "import time\n",
    "%matplotlib inline"
   ]
  },
  {
   "cell_type": "code",
   "execution_count": 2,
   "metadata": {
    "collapsed": false
   },
   "outputs": [
    {
     "data": {
      "text/plain": [
       "Index(['action_type', 'combined_shot_type', 'game_event_id', 'game_id', 'lat',\n",
       "       'loc_x', 'loc_y', 'lon', 'minutes_remaining', 'period', 'playoffs',\n",
       "       'season', 'seconds_remaining', 'shot_distance', 'shot_made_flag',\n",
       "       'shot_type', 'shot_zone_area', 'shot_zone_basic', 'shot_zone_range',\n",
       "       'team_id', 'team_name', 'game_date', 'matchup', 'opponent', 'shot_id'],\n",
       "      dtype='object')"
      ]
     },
     "execution_count": 2,
     "metadata": {},
     "output_type": "execute_result"
    }
   ],
   "source": [
    "df = pd.read_csv('../input/data.csv')\n",
    "df.columns"
   ]
  },
  {
   "cell_type": "code",
   "execution_count": 3,
   "metadata": {
    "collapsed": false,
    "scrolled": false
   },
   "outputs": [
    {
     "data": {
      "text/html": [
       "<div>\n",
       "<table border=\"1\" class=\"dataframe\">\n",
       "  <thead>\n",
       "    <tr style=\"text-align: right;\">\n",
       "      <th></th>\n",
       "      <th>game_event_id</th>\n",
       "      <th>game_date</th>\n",
       "      <th>period</th>\n",
       "      <th>minutes_remaining</th>\n",
       "      <th>seconds_remaining</th>\n",
       "      <th>seconds_to_end</th>\n",
       "    </tr>\n",
       "  </thead>\n",
       "  <tbody>\n",
       "    <tr>\n",
       "      <th>22901</th>\n",
       "      <td>102</td>\n",
       "      <td>1996-11-03</td>\n",
       "      <td>1</td>\n",
       "      <td>0</td>\n",
       "      <td>42</td>\n",
       "      <td>42</td>\n",
       "    </tr>\n",
       "    <tr>\n",
       "      <th>22902</th>\n",
       "      <td>127</td>\n",
       "      <td>1996-11-05</td>\n",
       "      <td>2</td>\n",
       "      <td>10</td>\n",
       "      <td>8</td>\n",
       "      <td>608</td>\n",
       "    </tr>\n",
       "    <tr>\n",
       "      <th>22903</th>\n",
       "      <td>124</td>\n",
       "      <td>1996-11-06</td>\n",
       "      <td>2</td>\n",
       "      <td>8</td>\n",
       "      <td>37</td>\n",
       "      <td>517</td>\n",
       "    </tr>\n",
       "    <tr>\n",
       "      <th>22904</th>\n",
       "      <td>144</td>\n",
       "      <td>1996-11-06</td>\n",
       "      <td>2</td>\n",
       "      <td>6</td>\n",
       "      <td>34</td>\n",
       "      <td>394</td>\n",
       "    </tr>\n",
       "    <tr>\n",
       "      <th>22905</th>\n",
       "      <td>151</td>\n",
       "      <td>1996-11-06</td>\n",
       "      <td>2</td>\n",
       "      <td>5</td>\n",
       "      <td>27</td>\n",
       "      <td>327</td>\n",
       "    </tr>\n",
       "    <tr>\n",
       "      <th>22906</th>\n",
       "      <td>157</td>\n",
       "      <td>1996-11-08</td>\n",
       "      <td>2</td>\n",
       "      <td>7</td>\n",
       "      <td>18</td>\n",
       "      <td>438</td>\n",
       "    </tr>\n",
       "    <tr>\n",
       "      <th>22907</th>\n",
       "      <td>226</td>\n",
       "      <td>1996-11-08</td>\n",
       "      <td>2</td>\n",
       "      <td>2</td>\n",
       "      <td>16</td>\n",
       "      <td>136</td>\n",
       "    </tr>\n",
       "    <tr>\n",
       "      <th>22908</th>\n",
       "      <td>321</td>\n",
       "      <td>1996-11-08</td>\n",
       "      <td>3</td>\n",
       "      <td>3</td>\n",
       "      <td>25</td>\n",
       "      <td>205</td>\n",
       "    </tr>\n",
       "    <tr>\n",
       "      <th>22909</th>\n",
       "      <td>334</td>\n",
       "      <td>1996-11-08</td>\n",
       "      <td>3</td>\n",
       "      <td>1</td>\n",
       "      <td>53</td>\n",
       "      <td>113</td>\n",
       "    </tr>\n",
       "    <tr>\n",
       "      <th>22910</th>\n",
       "      <td>337</td>\n",
       "      <td>1996-11-08</td>\n",
       "      <td>3</td>\n",
       "      <td>1</td>\n",
       "      <td>14</td>\n",
       "      <td>74</td>\n",
       "    </tr>\n",
       "    <tr>\n",
       "      <th>22911</th>\n",
       "      <td>352</td>\n",
       "      <td>1996-11-08</td>\n",
       "      <td>3</td>\n",
       "      <td>0</td>\n",
       "      <td>2</td>\n",
       "      <td>2</td>\n",
       "    </tr>\n",
       "    <tr>\n",
       "      <th>22912</th>\n",
       "      <td>380</td>\n",
       "      <td>1996-11-08</td>\n",
       "      <td>4</td>\n",
       "      <td>9</td>\n",
       "      <td>9</td>\n",
       "      <td>549</td>\n",
       "    </tr>\n",
       "    <tr>\n",
       "      <th>22913</th>\n",
       "      <td>384</td>\n",
       "      <td>1996-11-08</td>\n",
       "      <td>4</td>\n",
       "      <td>8</td>\n",
       "      <td>36</td>\n",
       "      <td>516</td>\n",
       "    </tr>\n",
       "    <tr>\n",
       "      <th>22914</th>\n",
       "      <td>107</td>\n",
       "      <td>1996-11-10</td>\n",
       "      <td>1</td>\n",
       "      <td>1</td>\n",
       "      <td>10</td>\n",
       "      <td>70</td>\n",
       "    </tr>\n",
       "    <tr>\n",
       "      <th>22915</th>\n",
       "      <td>137</td>\n",
       "      <td>1996-11-10</td>\n",
       "      <td>2</td>\n",
       "      <td>10</td>\n",
       "      <td>3</td>\n",
       "      <td>603</td>\n",
       "    </tr>\n",
       "    <tr>\n",
       "      <th>22916</th>\n",
       "      <td>157</td>\n",
       "      <td>1996-11-10</td>\n",
       "      <td>2</td>\n",
       "      <td>8</td>\n",
       "      <td>28</td>\n",
       "      <td>508</td>\n",
       "    </tr>\n",
       "    <tr>\n",
       "      <th>22917</th>\n",
       "      <td>153</td>\n",
       "      <td>1996-11-12</td>\n",
       "      <td>2</td>\n",
       "      <td>6</td>\n",
       "      <td>24</td>\n",
       "      <td>384</td>\n",
       "    </tr>\n",
       "    <tr>\n",
       "      <th>22918</th>\n",
       "      <td>183</td>\n",
       "      <td>1996-11-12</td>\n",
       "      <td>2</td>\n",
       "      <td>3</td>\n",
       "      <td>11</td>\n",
       "      <td>191</td>\n",
       "    </tr>\n",
       "    <tr>\n",
       "      <th>22919</th>\n",
       "      <td>426</td>\n",
       "      <td>1996-11-13</td>\n",
       "      <td>4</td>\n",
       "      <td>1</td>\n",
       "      <td>19</td>\n",
       "      <td>79</td>\n",
       "    </tr>\n",
       "    <tr>\n",
       "      <th>22920</th>\n",
       "      <td>453</td>\n",
       "      <td>1996-11-13</td>\n",
       "      <td>4</td>\n",
       "      <td>0</td>\n",
       "      <td>6</td>\n",
       "      <td>6</td>\n",
       "    </tr>\n",
       "  </tbody>\n",
       "</table>\n",
       "</div>"
      ],
      "text/plain": [
       "       game_event_id   game_date  period  minutes_remaining  \\\n",
       "22901            102  1996-11-03       1                  0   \n",
       "22902            127  1996-11-05       2                 10   \n",
       "22903            124  1996-11-06       2                  8   \n",
       "22904            144  1996-11-06       2                  6   \n",
       "22905            151  1996-11-06       2                  5   \n",
       "22906            157  1996-11-08       2                  7   \n",
       "22907            226  1996-11-08       2                  2   \n",
       "22908            321  1996-11-08       3                  3   \n",
       "22909            334  1996-11-08       3                  1   \n",
       "22910            337  1996-11-08       3                  1   \n",
       "22911            352  1996-11-08       3                  0   \n",
       "22912            380  1996-11-08       4                  9   \n",
       "22913            384  1996-11-08       4                  8   \n",
       "22914            107  1996-11-10       1                  1   \n",
       "22915            137  1996-11-10       2                 10   \n",
       "22916            157  1996-11-10       2                  8   \n",
       "22917            153  1996-11-12       2                  6   \n",
       "22918            183  1996-11-12       2                  3   \n",
       "22919            426  1996-11-13       4                  1   \n",
       "22920            453  1996-11-13       4                  0   \n",
       "\n",
       "       seconds_remaining  seconds_to_end  \n",
       "22901                 42              42  \n",
       "22902                  8             608  \n",
       "22903                 37             517  \n",
       "22904                 34             394  \n",
       "22905                 27             327  \n",
       "22906                 18             438  \n",
       "22907                 16             136  \n",
       "22908                 25             205  \n",
       "22909                 53             113  \n",
       "22910                 14              74  \n",
       "22911                  2               2  \n",
       "22912                  9             549  \n",
       "22913                 36             516  \n",
       "22914                 10              70  \n",
       "22915                  3             603  \n",
       "22916                 28             508  \n",
       "22917                 24             384  \n",
       "22918                 11             191  \n",
       "22919                 19              79  \n",
       "22920                  6               6  "
      ]
     },
     "execution_count": 3,
     "metadata": {},
     "output_type": "execute_result"
    }
   ],
   "source": [
    "# the data is not sorted. The shot with id=1 is not the first shot chronologicaly\n",
    "# calculate seconds_to_end = number of seconds left before the end of the period\n",
    "df['seconds_to_end'] = (df['minutes_remaining'] * 60) + df['seconds_remaining']\n",
    "\n",
    "# sort the dataframe by date, period ascendant and seconds_to_end descendant\n",
    "df = df.sort_values(by=['game_date','period','seconds_to_end'], ascending=[True,True,False] )\n",
    "\n",
    "df[['game_event_id','game_date','period','minutes_remaining','seconds_remaining','seconds_to_end']].head(20)"
   ]
  },
  {
   "cell_type": "markdown",
   "metadata": {},
   "source": [
    "## Data Cleaning\n",
    "\n",
    "we first remove the columns we don't want"
   ]
  },
  {
   "cell_type": "code",
   "execution_count": 4,
   "metadata": {
    "collapsed": false
   },
   "outputs": [
    {
     "data": {
      "text/plain": [
       "Index(['action_type', 'combined_shot_type', 'game_event_id', 'game_id', 'lat',\n",
       "       'loc_x', 'loc_y', 'lon', 'minutes_remaining', 'period', 'playoffs',\n",
       "       'season', 'seconds_remaining', 'shot_distance', 'shot_made_flag',\n",
       "       'shot_type', 'shot_zone_area', 'shot_zone_basic', 'shot_zone_range',\n",
       "       'team_id', 'team_name', 'game_date', 'matchup', 'opponent', 'shot_id',\n",
       "       'seconds_to_end'],\n",
       "      dtype='object')"
      ]
     },
     "execution_count": 4,
     "metadata": {},
     "output_type": "execute_result"
    }
   ],
   "source": [
    "df.columns"
   ]
  },
  {
   "cell_type": "code",
   "execution_count": 5,
   "metadata": {
    "collapsed": false
   },
   "outputs": [],
   "source": [
    "# lat,lon,loc_x and loc_y are correlated\n",
    "df.drop(['lat','lon'], axis=1, inplace=True)\n",
    "\n",
    "# we don't need game_id and game_event_id\n",
    "df.drop(['game_id','game_event_id'], axis=1, inplace=True)\n",
    "\n",
    "# Kobe has always played with the LA Lakers\n",
    "df.drop(['team_id','team_name'], axis=1, inplace=True)\n",
    "\n",
    "# we added the seconds to end of period\n",
    "df.drop(['minutes_remaining','seconds_remaining'], axis=1, inplace=True)"
   ]
  },
  {
   "cell_type": "code",
   "execution_count": 6,
   "metadata": {
    "collapsed": false
   },
   "outputs": [
    {
     "data": {
      "text/plain": [
       "Index(['action_type', 'combined_shot_type', 'loc_x', 'loc_y', 'period',\n",
       "       'playoffs', 'season', 'shot_distance', 'shot_made_flag', 'shot_type',\n",
       "       'shot_zone_area', 'shot_zone_basic', 'shot_zone_range', 'game_date',\n",
       "       'matchup', 'opponent', 'shot_id', 'seconds_to_end'],\n",
       "      dtype='object')"
      ]
     },
     "execution_count": 6,
     "metadata": {},
     "output_type": "execute_result"
    }
   ],
   "source": [
    "df.columns"
   ]
  },
  {
   "cell_type": "markdown",
   "metadata": {},
   "source": [
    "## Data Transformation\n",
    "### Create new features"
   ]
  },
  {
   "cell_type": "code",
   "execution_count": 7,
   "metadata": {
    "collapsed": true
   },
   "outputs": [],
   "source": [
    "# make home/away feature from matchup\n",
    "# if contains @, this is away game. home game otherwise\n",
    "def home(row):\n",
    "    try:\n",
    "        row['matchup'].index('@')\n",
    "        return 'away'\n",
    "    except:\n",
    "        return 'home'\n",
    "        \n",
    "df['venue'] = df.apply(home, axis = 1)\n",
    "\n",
    "# we don't need matchup anymore because it's recurrent with opponent and tenure\n",
    "df.drop('matchup', axis=1, inplace=True)"
   ]
  },
  {
   "cell_type": "code",
   "execution_count": 8,
   "metadata": {
    "collapsed": false
   },
   "outputs": [],
   "source": [
    "# add year and month and week day from game_date\n",
    "df['year'] = pd.DatetimeIndex(df['game_date']).year\n",
    "df['month'] = pd.DatetimeIndex(df['game_date']).month\n",
    "df['weekday'] = pd.DatetimeIndex(df['game_date']).weekday\n",
    "df.drop('game_date', axis=1, inplace=True)"
   ]
  },
  {
   "cell_type": "code",
   "execution_count": 9,
   "metadata": {
    "collapsed": false
   },
   "outputs": [],
   "source": [
    "# add some moving averages\n",
    "periods = [10,20,50,100,200]\n",
    "\n",
    "for n in periods:\n",
    "    col = 'MA' + str(n)\n",
    "    df[col] = df['shot_made_flag'].fillna(0.45).rolling(window=n).mean()\n",
    "    #df[col] = pd.rolling_mean(df['shot_made_flag'],n)    "
   ]
  },
  {
   "cell_type": "code",
   "execution_count": 10,
   "metadata": {
    "collapsed": false
   },
   "outputs": [
    {
     "name": "stdout",
     "output_type": "stream",
     "text": [
      "<class 'pandas.core.frame.DataFrame'>\n",
      "Int64Index: 30697 entries, 22901 to 22900\n",
      "Data columns (total 5 columns):\n",
      "MA10     30688 non-null float64\n",
      "MA20     30678 non-null float64\n",
      "MA50     30648 non-null float64\n",
      "MA100    30598 non-null float64\n",
      "MA200    30498 non-null float64\n",
      "dtypes: float64(5)\n",
      "memory usage: 1.4 MB\n"
     ]
    }
   ],
   "source": [
    "df[['MA10','MA20','MA50','MA100','MA200']].info()"
   ]
  },
  {
   "cell_type": "code",
   "execution_count": 11,
   "metadata": {
    "collapsed": false
   },
   "outputs": [
    {
     "data": {
      "text/plain": [
       "Index(['action_type', 'combined_shot_type', 'loc_x', 'loc_y', 'period',\n",
       "       'playoffs', 'season', 'shot_distance', 'shot_made_flag', 'shot_type',\n",
       "       'shot_zone_area', 'shot_zone_basic', 'shot_zone_range', 'opponent',\n",
       "       'shot_id', 'seconds_to_end', 'venue', 'year', 'month', 'weekday',\n",
       "       'MA10', 'MA20', 'MA50', 'MA100', 'MA200'],\n",
       "      dtype='object')"
      ]
     },
     "execution_count": 11,
     "metadata": {},
     "output_type": "execute_result"
    }
   ],
   "source": [
    "df.columns"
   ]
  },
  {
   "cell_type": "code",
   "execution_count": 12,
   "metadata": {
    "collapsed": true
   },
   "outputs": [],
   "source": [
    "# select the columns I'll keep\n",
    "columns = ['action_type','loc_x','loc_y', 'period',\n",
    "           'season','shot_made_flag','shot_id','seconds_to_end',\n",
    "           'opponent','venue','MA10','MA20','MA50','MA100','MA200']"
   ]
  },
  {
   "cell_type": "code",
   "execution_count": 13,
   "metadata": {
    "collapsed": false
   },
   "outputs": [],
   "source": [
    "df = df[columns]"
   ]
  },
  {
   "cell_type": "markdown",
   "metadata": {},
   "source": [
    "### Encode categorical variables"
   ]
  },
  {
   "cell_type": "code",
   "execution_count": 14,
   "metadata": {
    "collapsed": false
   },
   "outputs": [],
   "source": [
    "cat_cols = ['action_type','season','opponent','venue']\n",
    "\n",
    "for col in cat_cols:\n",
    "    dummies = pd.get_dummies(df[col], prefix=col)\n",
    "    df.drop(col, axis=1, inplace=True)\n",
    "    df = df.join(dummies)"
   ]
  },
  {
   "cell_type": "code",
   "execution_count": 15,
   "metadata": {
    "collapsed": false
   },
   "outputs": [
    {
     "data": {
      "text/plain": [
       "array(['loc_y', 'period', 'shot_made_flag', 'shot_id', 'seconds_to_end',\n",
       "       'MA10', 'MA20', 'MA50', 'MA100', 'MA200',\n",
       "       'action_type_Alley Oop Dunk Shot',\n",
       "       'action_type_Alley Oop Layup shot',\n",
       "       'action_type_Cutting Finger Roll Layup Shot',\n",
       "       'action_type_Cutting Layup Shot', 'action_type_Driving Bank shot',\n",
       "       'action_type_Driving Dunk Shot',\n",
       "       'action_type_Driving Finger Roll Layup Shot',\n",
       "       'action_type_Driving Finger Roll Shot',\n",
       "       'action_type_Driving Floating Bank Jump Shot',\n",
       "       'action_type_Driving Floating Jump Shot',\n",
       "       'action_type_Driving Hook Shot', 'action_type_Driving Jump shot',\n",
       "       'action_type_Driving Layup Shot',\n",
       "       'action_type_Driving Reverse Layup Shot',\n",
       "       'action_type_Driving Slam Dunk Shot', 'action_type_Dunk Shot',\n",
       "       'action_type_Fadeaway Bank shot', 'action_type_Fadeaway Jump Shot',\n",
       "       'action_type_Finger Roll Layup Shot',\n",
       "       'action_type_Finger Roll Shot', 'action_type_Floating Jump shot',\n",
       "       'action_type_Follow Up Dunk Shot', 'action_type_Hook Bank Shot',\n",
       "       'action_type_Hook Shot', 'action_type_Jump Bank Shot',\n",
       "       'action_type_Jump Hook Shot', 'action_type_Jump Shot',\n",
       "       'action_type_Layup Shot', 'action_type_Pullup Bank shot',\n",
       "       'action_type_Pullup Jump shot', 'action_type_Putback Dunk Shot',\n",
       "       'action_type_Putback Layup Shot',\n",
       "       'action_type_Putback Slam Dunk Shot',\n",
       "       'action_type_Reverse Dunk Shot', 'action_type_Reverse Layup Shot',\n",
       "       'action_type_Reverse Slam Dunk Shot',\n",
       "       'action_type_Running Bank shot', 'action_type_Running Dunk Shot',\n",
       "       'action_type_Running Finger Roll Layup Shot',\n",
       "       'action_type_Running Finger Roll Shot',\n",
       "       'action_type_Running Hook Shot', 'action_type_Running Jump Shot',\n",
       "       'action_type_Running Layup Shot',\n",
       "       'action_type_Running Pull-Up Jump Shot',\n",
       "       'action_type_Running Reverse Layup Shot',\n",
       "       'action_type_Running Slam Dunk Shot',\n",
       "       'action_type_Running Tip Shot', 'action_type_Slam Dunk Shot',\n",
       "       'action_type_Step Back Jump shot', 'action_type_Tip Layup Shot',\n",
       "       'action_type_Tip Shot', 'action_type_Turnaround Bank shot',\n",
       "       'action_type_Turnaround Fadeaway Bank Jump Shot',\n",
       "       'action_type_Turnaround Fadeaway shot',\n",
       "       'action_type_Turnaround Finger Roll Shot',\n",
       "       'action_type_Turnaround Hook Shot',\n",
       "       'action_type_Turnaround Jump Shot', 'season_1996-97',\n",
       "       'season_1997-98', 'season_1998-99', 'season_1999-00',\n",
       "       'season_2000-01', 'season_2001-02', 'season_2002-03',\n",
       "       'season_2003-04', 'season_2004-05', 'season_2005-06',\n",
       "       'season_2006-07', 'season_2007-08', 'season_2008-09',\n",
       "       'season_2009-10', 'season_2010-11', 'season_2011-12',\n",
       "       'season_2012-13', 'season_2013-14', 'season_2014-15',\n",
       "       'season_2015-16', 'opponent_ATL', 'opponent_BKN', 'opponent_BOS',\n",
       "       'opponent_CHA', 'opponent_CHI', 'opponent_CLE', 'opponent_DAL',\n",
       "       'opponent_DEN', 'opponent_DET', 'opponent_GSW', 'opponent_HOU',\n",
       "       'opponent_IND', 'opponent_LAC', 'opponent_MEM', 'opponent_MIA',\n",
       "       'opponent_MIL', 'opponent_MIN', 'opponent_NJN', 'opponent_NOH',\n",
       "       'opponent_NOP', 'opponent_NYK', 'opponent_OKC', 'opponent_ORL',\n",
       "       'opponent_PHI', 'opponent_PHX', 'opponent_POR', 'opponent_SAC',\n",
       "       'opponent_SAS', 'opponent_SEA', 'opponent_TOR', 'opponent_UTA',\n",
       "       'opponent_VAN', 'opponent_WAS', 'venue_away', 'venue_home'], dtype=object)"
      ]
     },
     "execution_count": 15,
     "metadata": {},
     "output_type": "execute_result"
    }
   ],
   "source": [
    "df.columns.values[1::]"
   ]
  },
  {
   "cell_type": "code",
   "execution_count": 16,
   "metadata": {
    "collapsed": false
   },
   "outputs": [
    {
     "data": {
      "text/plain": [
       "(30697, 123)"
      ]
     },
     "execution_count": 16,
     "metadata": {},
     "output_type": "execute_result"
    }
   ],
   "source": [
    "df.shape"
   ]
  },
  {
   "cell_type": "markdown",
   "metadata": {},
   "source": [
    "## Features Selection"
   ]
  },
  {
   "cell_type": "code",
   "execution_count": 17,
   "metadata": {
    "collapsed": false
   },
   "outputs": [
    {
     "name": "stdout",
     "output_type": "stream",
     "text": [
      "n 10 Important features(> 15 % of max importance):n ['loc_y' 'period' 'seconds_to_end' 'MA10' 'MA20' 'MA50' 'MA100' 'MA200'\n",
      " 'action_type_Alley Oop Dunk Shot' 'action_type_Layup Shot']\n",
      "nFeatures sorted by importance (DESC):n ['MA20' 'MA50' 'MA10' 'period' 'MA100' 'loc_y'\n",
      " 'action_type_Alley Oop Dunk Shot' 'MA200' 'action_type_Layup Shot'\n",
      " 'seconds_to_end']\n"
     ]
    },
    {
     "data": {
      "image/png": "[encoded data removed]",
      "text/plain": [
       "<matplotlib.figure.Figure at 0x7787ba8>"
      ]
     },
     "metadata": {},
     "output_type": "display_data"
    }
   ],
   "source": [
    "from sklearn.ensemble import RandomForestClassifier\n",
    "\n",
    "df_feat = df\n",
    "df_feat.dropna(subset=['MA200'], inplace=True)\n",
    "df_feat.dropna(subset=['shot_made_flag'], inplace=True)\n",
    "\n",
    "features_list = df_feat.drop(['shot_id','shot_made_flag'],axis=1).columns.values[1::]\n",
    "#X = df_feat.values[:, 1::]\n",
    "#y = df_feat.values[:, 0]\n",
    "\n",
    "X = np.array(df_feat.drop(['shot_id','shot_made_flag'],axis=1))\n",
    "y = np.array(df_feat['shot_made_flag'])\n",
    "\n",
    "# Fit a random forest with (mostly) default parameters to determine feature importance\n",
    "forest = RandomForestClassifier(oob_score=True, n_estimators=2000)\n",
    "forest.fit(X, y)\n",
    "feature_importance = forest.feature_importances_\n",
    "\n",
    "# make importances relative to max importance\n",
    "feature_importance = 100.0 * (feature_importance / feature_importance.max())\n",
    "\n",
    "# A threshold below which to drop features from the final data set. Specifically, this number represents\n",
    "# the percentage of the most important feature's importance value\n",
    "fi_threshold = 15\n",
    "\n",
    "# Get the indexes of all features over the importance threshold\n",
    "important_idx = np.where(feature_importance > fi_threshold)[0]\n",
    "\n",
    "# Create a list of all the feature names above the importance threshold\n",
    "important_features = features_list[important_idx]\n",
    "print(\"n\", important_features.shape[0], \"Important features(>\", fi_threshold, \"% of max importance):n\", \n",
    "        important_features)\n",
    "\n",
    "# Get the sorted indexes of important features\n",
    "sorted_idx = np.argsort(feature_importance[important_idx])[::-1]\n",
    "print(\"nFeatures sorted by importance (DESC):n\", important_features[sorted_idx])\n",
    "\n",
    "# Adapted from http://scikit-learn.org/stable/auto_examples/ensemble/plot_gradient_boosting_regression.html\n",
    "pos = np.arange(sorted_idx.shape[0]) + .5\n",
    "plt.subplot(1, 2, 2)\n",
    "plt.barh(pos, feature_importance[important_idx][sorted_idx[::-1]], align='center')\n",
    "plt.yticks(pos, important_features[sorted_idx[::-1]])\n",
    "plt.xlabel('Relative Importance')\n",
    "plt.title('Variable Importance')\n",
    "plt.draw()\n",
    "plt.show()\n",
    "\n",
    "# Remove non-important features from the feature set, and reorder those remaining\n",
    "X = X[:, important_idx][:, sorted_idx]"
   ]
  },
  {
   "cell_type": "code",
   "execution_count": 18,
   "metadata": {
    "collapsed": true
   },
   "outputs": [],
   "source": [
    "best_features = ['MA20','MA10','MA50','period','MA100','action_type_Alley Oop Dunk Shot',\n",
    "                 'loc_y','MA200','action_type_Layup Shot','seconds_to_end']"
   ]
  },
  {
   "cell_type": "markdown",
   "metadata": {},
   "source": [
    "## Parameters Optimization"
   ]
  },
  {
   "cell_type": "code",
   "execution_count": null,
   "metadata": {
    "collapsed": false
   },
   "outputs": [],
   "source": [
    "X_best = np.array(df_feat[best_features])"
   ]
  },
  {
   "cell_type": "code",
   "execution_count": null,
   "metadata": {
    "collapsed": true
   },
   "outputs": [],
   "source": []
  },
  {
   "cell_type": "markdown",
   "metadata": {},
   "source": [
    "## make predictions\n"
   ]
  },
  {
   "cell_type": "code",
   "execution_count": null,
   "metadata": {
    "collapsed": false,
    "scrolled": false
   },
   "outputs": [],
   "source": [
    "gbc = GradientBoostingClassifier()\n",
    "\n",
    "# We need an index to filter examples prior to the prediction.\n",
    "# At this point, the dataframe is already sorted chronologically.\n",
    "# We just need to reset the index\n",
    "df.reset_index(inplace=True)\n",
    "\n",
    "# There are some NaN in moving averages features.\n",
    "# we replace them with 0.4 (the average success rate of kobe)\n",
    "columns = ['MA10','MA20','MA50','MA100','MA200']\n",
    "\n",
    "for col in columns:\n",
    "    df[col].fillna(0.4, inplace=True)\n",
    "    \n",
    "# We now split the dataframe into a training set and a test set\n",
    "df_train = df.dropna(subset=['shot_made_flag'])\n",
    "df_test = df[df['shot_made_flag'].isnull()]\n",
    "\n",
    "# We remove the shot_made_flag from the test set\n",
    "# All values are NaN\n",
    "df_test.drop(['shot_made_flag'],axis=1,inplace=True)\n",
    "\n",
    "import csv\n",
    "import warnings; warnings.simplefilter('ignore')\n",
    "\n",
    "start = time.time()\n",
    "\n",
    "i = 1\n",
    "for index, row in df_test.iterrows():\n",
    "        \n",
    "    shot_id = df_test.get_value(index,'shot_id')\n",
    "    \n",
    "    print('Prediction # ' + str(i) + ', index = ' + str(index) + ', shot_id = ' + str(shot_id) + ', time = ' + str(time.time() - start))\n",
    "    i += 1\n",
    "    \n",
    "    # create a subset to train the classifier\n",
    "    train_subset = df_train[df_train.index < index]\n",
    "    #X = np.array(train_subset.drop(['shot_id','shot_made_flag'], axis=1))\n",
    "    X = np.array(train_subset[best_features])\n",
    "    y = np.array(train_subset['shot_made_flag'])\n",
    "    gbc.fit(X,y)\n",
    "    \n",
    "    # make a prediction for row\n",
    "    X_test = np.array(df_test[best_features].loc[index])\n",
    "    y_sub = gbc.predict_proba(X_test)    \n",
    "    \n",
    "    # save the prediction to a csv file    \n",
    "    file = '../submissions/mod_20170206_02_gbc_optimized.csv'\n",
    "    with open(file, 'a') as f:\n",
    "        writer = csv.writer(f)\n",
    "        # The second predicted value is the one we want\n",
    "        # P(shot successful)\n",
    "        writer.writerow([shot_id,y_sub[0][1]])\n",
    "        \n",
    "print('finished in ' + str(time.time() - start) + ' seconds.')"
   ]
  },
  {
   "cell_type": "markdown",
   "metadata": {},
   "source": [
    "The submission got a score of **0.** ranking **/1117**"
   ]
  },
  {
   "cell_type": "code",
   "execution_count": null,
   "metadata": {
    "collapsed": true
   },
   "outputs": [],
   "source": []
  }
 ],
 "metadata": {
  "anaconda-cloud": {},
  "kernelspec": {
   "display_name": "Python [conda root]",
   "language": "python",
   "name": "conda-root-py"
  },
  "language_info": {
   "codemirror_mode": {
    "name": "ipython",
    "version": 3
   },
   "file_extension": ".py",
   "mimetype": "text/x-python",
   "name": "python",
   "nbconvert_exporter": "python",
   "pygments_lexer": "ipython3",
   "version": "3.5.2"
  }
 },
 "nbformat": 4,
 "nbformat_minor": 1
}
