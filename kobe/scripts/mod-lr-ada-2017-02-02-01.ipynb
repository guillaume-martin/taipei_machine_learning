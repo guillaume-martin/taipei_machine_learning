{
 "cells": [
  {
   "cell_type": "markdown",
   "metadata": {},
   "source": [
    "# AdaBoost + Logistic Regression\n",
    "\n",
    "In this notebook, I'll attempt to make shot predictions using the AdaBoost classifier with a logisitc regression model as the base estimator.  \n",
    "\n",
    "I'll process as follow:  \n",
    "1. import the data processed in features_engineering.ipynb  \n",
    "2. get a base line performance runing AdaBoost with default settings  \n",
    "3. select the best features using Recursive Feature Elimination (RFE) with a logistic regression model and testing the model performance for all possible numbers of features  \n",
    "4. do parameters optimization on the base estimator using the selected best features\n",
    "5. do parameters optimization on the AdaBoost classifier using the optimized base estimator and the selected best features  \n",
    "6. predict the missing shots using the optimized AdaBoost classifier\n",
    "  "
   ]
  },
  {
   "cell_type": "code",
   "execution_count": 2,
   "metadata": {
    "collapsed": false
   },
   "outputs": [],
   "source": [
    "import pandas as pd\n",
    "import numpy as np\n",
    "import time\n",
    "from sklearn.linear_model import LogisticRegression\n",
    "from sklearn.ensemble import AdaBoostClassifier\n",
    "from sklearn.model_selection import train_test_split, KFold, cross_val_score"
   ]
  },
  {
   "cell_type": "code",
   "execution_count": 2,
   "metadata": {
    "collapsed": false
   },
   "outputs": [],
   "source": [
    "df_train = pd.read_pickle('../input/processed_train_data.pickle')"
   ]
  },
  {
   "cell_type": "markdown",
   "metadata": {},
   "source": [
    "## Get baseline performance"
   ]
  },
  {
   "cell_type": "code",
   "execution_count": 3,
   "metadata": {
    "collapsed": false
   },
   "outputs": [
    {
     "data": {
      "text/plain": [
       "AdaBoostClassifier(algorithm='SAMME.R', base_estimator=None,\n",
       "          learning_rate=1.0, n_estimators=50, random_state=None)"
      ]
     },
     "execution_count": 3,
     "metadata": {},
     "output_type": "execute_result"
    }
   ],
   "source": [
    "df_train.dropna(subset=['MA200'], inplace=True)\n",
    "\n",
    "X = np.array(df_train.drop(['game_date','shot_id','shot_made_flag'], axis=1))\n",
    "y = np.array(df_train['shot_made_flag'])\n",
    "\n",
    "X_train, X_test, y_train, y_test = train_test_split(X, y, test_size=0.2)\n",
    "\n",
    "ada = AdaBoostClassifier()\n",
    "ada.fit(X_train, y_train)"
   ]
  },
  {
   "cell_type": "code",
   "execution_count": 4,
   "metadata": {
    "collapsed": false
   },
   "outputs": [
    {
     "name": "stdout",
     "output_type": "stream",
     "text": [
      "-0.684209357786\n"
     ]
    }
   ],
   "source": [
    "num_fold = 10\n",
    "num_instances = len(X)\n",
    "seed = 7\n",
    "scoring = 'neg_log_loss'\n",
    "\n",
    "kfold = KFold(n_splits=num_fold, random_state=seed)\n",
    "cv_results = cross_val_score(ada, X, y, \n",
    "                             cv=kfold,\n",
    "                             scoring=scoring)\n",
    "score = cv_results.mean()\n",
    "print(score)"
   ]
  },
  {
   "cell_type": "markdown",
   "metadata": {},
   "source": [
    "## Features Selection\n",
    "  \n",
    "I'll use a logistic regression as the base estimator. I do the features selection with this model."
   ]
  },
  {
   "cell_type": "code",
   "execution_count": 5,
   "metadata": {
    "collapsed": false
   },
   "outputs": [],
   "source": [
    "from sklearn.feature_selection import RFE\n",
    "\n",
    "def get_best_features(model, X, y):\n",
    "    ''' find the n best features to train the model\n",
    "    parameters\n",
    "    ----------\n",
    "        model    object\n",
    "            a supervised learning estimator\n",
    "        X    array\n",
    "            training set\n",
    "        y    array\n",
    "            target values\n",
    "    output\n",
    "    ------\n",
    "        X_best    array\n",
    "            the array of best features\n",
    "        mask    array\n",
    "            an array of boolean values that can be used\n",
    "            to transform other datasets\n",
    "            \n",
    "    todo\n",
    "    ------\n",
    "        - add an early stop parameter\n",
    "    '''\n",
    "    \n",
    "    num_fold = 10\n",
    "    seed = 7\n",
    "    scoring = 'neg_log_loss'\n",
    "    best_cv = -100    # the smallest possible score (-100 for log loss)\n",
    "    best_mask = []\n",
    "    \n",
    "    # n is the number of features to select\n",
    "    # we're testing the features selection script\n",
    "    # for all possible numbers of features\n",
    "    # the minimum is 1 \n",
    "    # the maximum is the total number of features (X.shape[1])\n",
    "    for n in range(1,X.shape[1] + 1):\n",
    "        best_flag = \"\"\n",
    "        \n",
    "        # get the n best features\n",
    "        rfe = RFE(model,n)\n",
    "        X_new = rfe.fit_transform(X,y)\n",
    "\n",
    "        # test the model with the n best features\n",
    "        kfold = KFold(n_splits = num_fold,\n",
    "                      random_state = seed)\n",
    "\n",
    "        cv_results = cross_val_score(model, X_new, y,\n",
    "                                     cv = kfold,\n",
    "                                     scoring = scoring)\n",
    "        score = cv_results.mean()\n",
    "\n",
    "        # If the test returns a best score (i.e. any score higher \n",
    "        # than the previous best score), the test score is set\n",
    "        # as the new best score and the support is saved as the \n",
    "        # best mask\n",
    "        if score > best_cv:\n",
    "            best_flag = \" => This is a best score\"\n",
    "            X_best = X_new\n",
    "            best_mask = rfe.get_support(False)\n",
    "            best_cv = score\n",
    "        \n",
    "        print('n=' + str(n) + ' : ' + str(score) + best_flag)\n",
    "            \n",
    "    print('=============================')\n",
    "    print('best score = %f' % best_cv)\n",
    "    print('best n = %f' % X_best.shape[1])  \n",
    "    \n",
    "    return X_best, best_mask\n",
    "    "
   ]
  },
  {
   "cell_type": "code",
   "execution_count": 6,
   "metadata": {
    "collapsed": false,
    "scrolled": true
   },
   "outputs": [
    {
     "name": "stdout",
     "output_type": "stream",
     "text": [
      "n=1 : -0.625256179649 => This is a best score\n",
      "n=2 : -0.604807003924 => This is a best score\n",
      "n=3 : -0.603600868771 => This is a best score\n",
      "n=4 : -0.602390234368 => This is a best score\n",
      "n=5 : -0.602360277344 => This is a best score\n",
      "n=6 : -0.570243083067 => This is a best score\n",
      "n=7 : -0.5694956604 => This is a best score\n",
      "n=8 : -0.569167985706 => This is a best score\n",
      "n=9 : -0.559615891417 => This is a best score\n",
      "n=10 : -0.559487102743 => This is a best score\n",
      "n=11 : -0.559406321205 => This is a best score\n",
      "n=12 : -0.559295177838 => This is a best score\n",
      "n=13 : -0.559244614224 => This is a best score\n",
      "n=14 : -0.559204352139 => This is a best score\n",
      "n=15 : -0.559092734409 => This is a best score\n",
      "n=16 : -0.558937681536 => This is a best score\n",
      "n=17 : -0.558916473584 => This is a best score\n",
      "n=18 : -0.558896253575 => This is a best score\n",
      "n=19 : -0.558900295397\n",
      "n=20 : -0.558908066873\n",
      "n=21 : -0.558887882338 => This is a best score\n",
      "n=22 : -0.558687506113 => This is a best score\n",
      "n=23 : -0.558249620388 => This is a best score\n",
      "n=24 : -0.558290602081\n",
      "n=25 : -0.558293248469\n",
      "n=26 : -0.55704966945 => This is a best score\n",
      "n=27 : -0.556713688011 => This is a best score\n",
      "n=28 : -0.556714355671\n",
      "n=29 : -0.556611647394 => This is a best score\n",
      "n=30 : -0.556598121811 => This is a best score\n",
      "n=31 : -0.556599769743\n",
      "n=32 : -0.556538569953 => This is a best score\n",
      "n=33 : -0.556525692548 => This is a best score\n",
      "n=34 : -0.556543602841\n",
      "n=35 : -0.556591595919\n",
      "n=36 : -0.556455797535 => This is a best score\n",
      "n=37 : -0.556455701941 => This is a best score\n",
      "n=38 : -0.556537462412\n",
      "n=39 : -0.556538521752\n",
      "n=40 : -0.556565679185\n",
      "n=41 : -0.556592749738\n",
      "n=42 : -0.556595272211\n",
      "n=43 : -0.556591965151\n",
      "n=44 : -0.55659816588\n",
      "n=45 : -0.556597899097\n",
      "n=46 : -0.556535091117\n",
      "n=47 : -0.556532884479\n",
      "n=48 : -0.556553949702\n",
      "n=49 : -0.556571879275\n",
      "n=50 : -0.556569412343\n",
      "n=51 : -0.556554129779\n",
      "n=52 : -0.556430046012 => This is a best score\n",
      "n=53 : -0.556358032453 => This is a best score\n",
      "n=54 : -0.556358075725\n",
      "n=55 : -0.556294136867 => This is a best score\n",
      "n=56 : -0.555817737235 => This is a best score\n",
      "n=57 : -0.555665363945 => This is a best score\n",
      "n=58 : -0.555360932891 => This is a best score\n",
      "n=59 : -0.555083063207 => This is a best score\n",
      "n=60 : -0.555084954186\n",
      "n=61 : -0.555139545161\n",
      "n=62 : -0.555157306764\n",
      "n=63 : -0.555187662524\n",
      "n=64 : -0.555204391937\n",
      "n=65 : -0.555243590439\n",
      "n=66 : -0.555243840757\n",
      "n=67 : -0.555240986038\n",
      "n=68 : -0.555251865141\n",
      "n=69 : -0.555226024595\n",
      "n=70 : -0.555227731713\n",
      "n=71 : -0.555237036099\n",
      "n=72 : -0.555255639002\n",
      "n=73 : -0.555260397323\n",
      "n=74 : -0.555252341753\n",
      "n=75 : -0.555224380986\n",
      "n=76 : -0.555222351052\n",
      "n=77 : -0.55525938514\n",
      "n=78 : -0.555231459212\n",
      "n=79 : -0.555135464812\n",
      "n=80 : -0.555175354347\n",
      "n=81 : -0.554986467748 => This is a best score\n",
      "n=82 : -0.554955918028 => This is a best score\n",
      "n=83 : -0.554956026861\n",
      "n=84 : -0.554972614219\n",
      "n=85 : -0.554960192468\n",
      "n=86 : -0.554959386096\n",
      "n=87 : -0.554961157431\n",
      "n=88 : -0.554959029284\n",
      "n=89 : -0.554989852584\n",
      "n=90 : -0.555033144685\n",
      "n=91 : -0.555017542026\n",
      "n=92 : -0.555018982855\n",
      "n=93 : -0.554989681864\n",
      "n=94 : -0.554988921023\n",
      "n=95 : -0.5549591155\n",
      "n=96 : -0.554982713937\n",
      "n=97 : -0.555002522282\n",
      "n=98 : -0.554997313096\n",
      "n=99 : -0.554998182488\n",
      "n=100 : -0.554999326192\n",
      "n=101 : -0.554959834281\n",
      "n=102 : -0.554989059112\n",
      "n=103 : -0.555031042179\n",
      "n=104 : -0.555054493236\n",
      "n=105 : -0.55506038564\n",
      "n=106 : -0.555016693051\n",
      "n=107 : -0.555026730066\n",
      "n=108 : -0.555089230319\n",
      "n=109 : -0.555120867173\n",
      "n=110 : -0.555148019151\n",
      "n=111 : -0.555156565704\n",
      "n=112 : -0.555186212673\n",
      "n=113 : -0.55520320771\n",
      "n=114 : -0.555202637263\n",
      "n=115 : -0.555207002117\n",
      "n=116 : -0.555214620417\n",
      "n=117 : -0.555256217254\n",
      "n=118 : -0.555267407135\n",
      "n=119 : -0.55527820129\n",
      "n=120 : -0.555288092767\n",
      "n=121 : -0.555293818497\n",
      "n=122 : -0.555325662823\n",
      "n=123 : -0.555468273443\n",
      "n=124 : -0.555437383199\n",
      "n=125 : -0.555470030266\n",
      "n=126 : -0.555487539525\n",
      "n=127 : -0.5554928954\n",
      "n=128 : -0.555473720359\n",
      "n=129 : -0.555491358262\n",
      "n=130 : -0.555498073581\n",
      "n=131 : -0.555518583819\n",
      "n=132 : -0.555541123666\n",
      "n=133 : -0.555575175589\n",
      "n=134 : -0.55551523375\n",
      "n=135 : -0.555537620247\n",
      "n=136 : -0.555553115688\n",
      "n=137 : -0.55554992051\n",
      "n=138 : -0.555554129737\n",
      "n=139 : -0.55555116882\n",
      "n=140 : -0.555556010901\n",
      "n=141 : -0.555558100019\n",
      "n=142 : -0.55560931023\n",
      "n=143 : -0.555629952553\n",
      "n=144 : -0.555617296728\n",
      "n=145 : -0.55561811549\n",
      "n=146 : -0.555679794836\n",
      "n=147 : -0.555699573973\n",
      "n=148 : -0.555706809857\n",
      "n=149 : -0.555733403155\n",
      "n=150 : -0.555735355581\n",
      "n=151 : -0.555778747878\n",
      "n=152 : -0.555802667274\n",
      "n=153 : -0.555772622548\n",
      "n=154 : -0.555772759093\n",
      "n=155 : -0.555783240227\n",
      "n=156 : -0.555835772433\n",
      "n=157 : -0.55583268635\n",
      "n=158 : -0.555840361082\n",
      "n=159 : -0.556082630054\n",
      "n=160 : -0.556108736377\n",
      "n=161 : -0.556128790697\n",
      "n=162 : -0.556127795024\n",
      "n=163 : -0.556136927303\n",
      "n=164 : -0.556175622381\n",
      "n=165 : -0.556203654976\n",
      "n=166 : -0.556209551761\n",
      "n=167 : -0.556237227388\n",
      "n=168 : -0.55627286265\n",
      "n=169 : -0.556250717454\n",
      "n=170 : -0.556277937603\n",
      "n=171 : -0.556296891914\n",
      "n=172 : -0.556323609252\n",
      "n=173 : -0.556351814761\n",
      "n=174 : -0.556356536859\n",
      "n=175 : -0.556406397038\n",
      "n=176 : -0.556417648238\n",
      "n=177 : -0.556438864811\n",
      "n=178 : -0.556450632155\n",
      "n=179 : -0.556466396684\n",
      "n=180 : -0.556462363979\n",
      "n=181 : -0.556508758374\n",
      "n=182 : -0.556513570639\n",
      "n=183 : -0.55652072616\n",
      "n=184 : -0.556522529375\n",
      "n=185 : -0.556555484843\n",
      "n=186 : -0.556588370623\n",
      "n=187 : -0.556173317021\n",
      "n=188 : -0.556209361397\n",
      "n=189 : -0.556272463162\n",
      "n=190 : -0.556270700926\n",
      "n=191 : -0.55627276832\n",
      "n=192 : -0.556189318621\n",
      "=============================\n",
      "best score = -0.554956\n",
      "best n = 82.000000\n"
     ]
    }
   ],
   "source": [
    "lr = LogisticRegression()\n",
    "X_best, mask = get_best_features(lr, X, y)"
   ]
  },
  {
   "cell_type": "code",
   "execution_count": 7,
   "metadata": {
    "collapsed": false
   },
   "outputs": [
    {
     "data": {
      "text/plain": [
       "array([False, False, False, False, False,  True,  True,  True,  True,\n",
       "       False,  True, False, False,  True,  True,  True,  True,  True,\n",
       "        True,  True, False,  True,  True,  True,  True,  True,  True,\n",
       "        True,  True,  True,  True, False,  True,  True,  True,  True,\n",
       "        True,  True,  True,  True,  True, False,  True, False,  True,\n",
       "        True,  True, False,  True,  True,  True,  True, False, False,\n",
       "        True, False,  True,  True,  True, False,  True, False, False,\n",
       "        True,  True,  True,  True,  True,  True,  True,  True,  True,\n",
       "        True, False,  True,  True,  True, False, False,  True, False,\n",
       "       False, False, False, False, False, False, False, False, False,\n",
       "       False, False, False, False, False, False, False, False, False,\n",
       "        True,  True,  True,  True,  True,  True, False,  True, False,\n",
       "        True,  True, False,  True, False,  True, False, False, False,\n",
       "       False,  True,  True, False, False, False, False, False, False,\n",
       "       False, False, False, False, False, False, False, False, False,\n",
       "       False, False,  True, False,  True, False, False, False, False,\n",
       "       False, False, False, False, False, False, False, False, False,\n",
       "       False, False, False, False, False,  True, False, False, False,\n",
       "       False, False, False, False,  True, False, False, False, False,\n",
       "       False,  True, False,  True, False, False, False,  True, False,\n",
       "       False, False, False, False, False,  True,  True, False, False,\n",
       "       False,  True,  True], dtype=bool)"
      ]
     },
     "execution_count": 7,
     "metadata": {},
     "output_type": "execute_result"
    }
   ],
   "source": [
    "mask"
   ]
  },
  {
   "cell_type": "code",
   "execution_count": 8,
   "metadata": {
    "collapsed": false
   },
   "outputs": [
    {
     "data": {
      "text/html": [
       "<div>\n",
       "<table border=\"1\" class=\"dataframe\">\n",
       "  <thead>\n",
       "    <tr style=\"text-align: right;\">\n",
       "      <th></th>\n",
       "      <th>best</th>\n",
       "      <th>feature</th>\n",
       "    </tr>\n",
       "  </thead>\n",
       "  <tbody>\n",
       "    <tr>\n",
       "      <th>0</th>\n",
       "      <td>False</td>\n",
       "      <td>loc_x</td>\n",
       "    </tr>\n",
       "    <tr>\n",
       "      <th>1</th>\n",
       "      <td>False</td>\n",
       "      <td>loc_y</td>\n",
       "    </tr>\n",
       "    <tr>\n",
       "      <th>2</th>\n",
       "      <td>False</td>\n",
       "      <td>playoffs</td>\n",
       "    </tr>\n",
       "    <tr>\n",
       "      <th>3</th>\n",
       "      <td>False</td>\n",
       "      <td>shot_distance</td>\n",
       "    </tr>\n",
       "    <tr>\n",
       "      <th>4</th>\n",
       "      <td>False</td>\n",
       "      <td>seconds_to_end</td>\n",
       "    </tr>\n",
       "  </tbody>\n",
       "</table>\n",
       "</div>"
      ],
      "text/plain": [
       "    best         feature\n",
       "0  False           loc_x\n",
       "1  False           loc_y\n",
       "2  False        playoffs\n",
       "3  False   shot_distance\n",
       "4  False  seconds_to_end"
      ]
     },
     "execution_count": 8,
     "metadata": {},
     "output_type": "execute_result"
    }
   ],
   "source": [
    "# for each feature, I get a True/False value. True means best feature\n",
    "features_masks = pd.DataFrame({\n",
    "        'feature': df_train.drop(['game_date','shot_id','shot_made_flag'], axis=1).columns,\n",
    "        'best': mask\n",
    "    })\n",
    "features_masks.head()"
   ]
  },
  {
   "cell_type": "code",
   "execution_count": 9,
   "metadata": {
    "collapsed": false
   },
   "outputs": [
    {
     "data": {
      "text/plain": [
       "array(['MA10', 'MA20', 'MA50', 'MA100', 'action_type_Alley Oop Dunk Shot',\n",
       "       'action_type_Cutting Layup Shot', 'action_type_Driving Bank shot',\n",
       "       'action_type_Driving Dunk Shot',\n",
       "       'action_type_Driving Finger Roll Layup Shot',\n",
       "       'action_type_Driving Finger Roll Shot',\n",
       "       'action_type_Driving Floating Bank Jump Shot',\n",
       "       'action_type_Driving Floating Jump Shot',\n",
       "       'action_type_Driving Jump shot', 'action_type_Driving Layup Shot',\n",
       "       'action_type_Driving Reverse Layup Shot',\n",
       "       'action_type_Driving Slam Dunk Shot', 'action_type_Dunk Shot',\n",
       "       'action_type_Fadeaway Bank shot', 'action_type_Fadeaway Jump Shot',\n",
       "       'action_type_Finger Roll Layup Shot',\n",
       "       'action_type_Finger Roll Shot', 'action_type_Floating Jump shot',\n",
       "       'action_type_Hook Bank Shot', 'action_type_Hook Shot',\n",
       "       'action_type_Jump Bank Shot', 'action_type_Jump Hook Shot',\n",
       "       'action_type_Jump Shot', 'action_type_Layup Shot',\n",
       "       'action_type_Pullup Bank shot', 'action_type_Pullup Jump shot',\n",
       "       'action_type_Putback Dunk Shot',\n",
       "       'action_type_Putback Slam Dunk Shot',\n",
       "       'action_type_Reverse Layup Shot',\n",
       "       'action_type_Reverse Slam Dunk Shot',\n",
       "       'action_type_Running Bank shot',\n",
       "       'action_type_Running Finger Roll Layup Shot',\n",
       "       'action_type_Running Finger Roll Shot',\n",
       "       'action_type_Running Hook Shot', 'action_type_Running Jump Shot',\n",
       "       'action_type_Running Reverse Layup Shot',\n",
       "       'action_type_Running Tip Shot', 'action_type_Slam Dunk Shot',\n",
       "       'action_type_Step Back Jump shot', 'action_type_Tip Shot',\n",
       "       'action_type_Turnaround Fadeaway shot',\n",
       "       'action_type_Turnaround Finger Roll Shot',\n",
       "       'action_type_Turnaround Hook Shot',\n",
       "       'action_type_Turnaround Jump Shot', 'combined_shot_type_Bank Shot',\n",
       "       'combined_shot_type_Dunk', 'combined_shot_type_Hook Shot',\n",
       "       'combined_shot_type_Jump Shot', 'combined_shot_type_Layup',\n",
       "       'combined_shot_type_Tip Shot', 'period_2', 'period_3', 'period_4',\n",
       "       'period_7', 'season_2015-16', 'shot_type_2PT Field Goal',\n",
       "       'shot_type_3PT Field Goal', 'shot_zone_area_Back Court(BC)',\n",
       "       'shot_zone_area_Center(C)', 'shot_zone_area_Left Side Center(LC)',\n",
       "       'shot_zone_area_Right Side Center(RC)',\n",
       "       'shot_zone_basic_Above the Break 3', 'shot_zone_basic_Backcourt',\n",
       "       'shot_zone_basic_Left Corner 3', 'shot_zone_basic_Restricted Area',\n",
       "       'shot_zone_range_Back Court Shot',\n",
       "       'shot_zone_range_Less Than 8 ft.', 'year_2013', 'year_2015',\n",
       "       'opponent_BKN', 'opponent_GSW', 'opponent_MIL', 'opponent_NJN',\n",
       "       'opponent_OKC', 'opponent_SEA', 'opponent_TOR', 'venue_away',\n",
       "       'venue_home'], dtype=object)"
      ]
     },
     "execution_count": 9,
     "metadata": {},
     "output_type": "execute_result"
    }
   ],
   "source": [
    "# Get the list of best features names\n",
    "# We can use this list later to select those features\n",
    "# from a dataframe\n",
    "best_features = features_masks[features_masks['best'] == True]['feature'].values\n",
    "best_features"
   ]
  },
  {
   "cell_type": "code",
   "execution_count": 3,
   "metadata": {
    "collapsed": true
   },
   "outputs": [],
   "source": [
    "# skip the features selection which takes way too long\n",
    "best_features = ['MA10', 'MA20', 'MA50', 'MA100', 'action_type_Alley Oop Dunk Shot',\n",
    "       'action_type_Cutting Layup Shot', 'action_type_Driving Bank shot',\n",
    "       'action_type_Driving Dunk Shot',\n",
    "       'action_type_Driving Finger Roll Layup Shot',\n",
    "       'action_type_Driving Finger Roll Shot',\n",
    "       'action_type_Driving Floating Bank Jump Shot',\n",
    "       'action_type_Driving Floating Jump Shot',\n",
    "       'action_type_Driving Jump shot', 'action_type_Driving Layup Shot',\n",
    "       'action_type_Driving Reverse Layup Shot',\n",
    "       'action_type_Driving Slam Dunk Shot', 'action_type_Dunk Shot',\n",
    "       'action_type_Fadeaway Bank shot', 'action_type_Fadeaway Jump Shot',\n",
    "       'action_type_Finger Roll Layup Shot',\n",
    "       'action_type_Finger Roll Shot', 'action_type_Floating Jump shot',\n",
    "       'action_type_Hook Bank Shot', 'action_type_Hook Shot',\n",
    "       'action_type_Jump Bank Shot', 'action_type_Jump Hook Shot',\n",
    "       'action_type_Jump Shot', 'action_type_Layup Shot',\n",
    "       'action_type_Pullup Bank shot', 'action_type_Pullup Jump shot',\n",
    "       'action_type_Putback Dunk Shot',\n",
    "       'action_type_Putback Slam Dunk Shot',\n",
    "       'action_type_Reverse Layup Shot',\n",
    "       'action_type_Reverse Slam Dunk Shot',\n",
    "       'action_type_Running Bank shot',\n",
    "       'action_type_Running Finger Roll Layup Shot',\n",
    "       'action_type_Running Finger Roll Shot',\n",
    "       'action_type_Running Hook Shot', 'action_type_Running Jump Shot',\n",
    "       'action_type_Running Reverse Layup Shot',\n",
    "       'action_type_Running Tip Shot', 'action_type_Slam Dunk Shot',\n",
    "       'action_type_Step Back Jump shot', 'action_type_Tip Shot',\n",
    "       'action_type_Turnaround Fadeaway shot',\n",
    "       'action_type_Turnaround Finger Roll Shot',\n",
    "       'action_type_Turnaround Hook Shot',\n",
    "       'action_type_Turnaround Jump Shot', 'combined_shot_type_Bank Shot',\n",
    "       'combined_shot_type_Dunk', 'combined_shot_type_Hook Shot',\n",
    "       'combined_shot_type_Jump Shot', 'combined_shot_type_Layup',\n",
    "       'combined_shot_type_Tip Shot', 'period_2', 'period_3', 'period_4',\n",
    "       'period_7', 'season_2015-16', 'shot_type_2PT Field Goal',\n",
    "       'shot_type_3PT Field Goal', 'shot_zone_area_Back Court(BC)',\n",
    "       'shot_zone_area_Center(C)', 'shot_zone_area_Left Side Center(LC)',\n",
    "       'shot_zone_area_Right Side Center(RC)',\n",
    "       'shot_zone_basic_Above the Break 3', 'shot_zone_basic_Backcourt',\n",
    "       'shot_zone_basic_Left Corner 3', 'shot_zone_basic_Restricted Area',\n",
    "       'shot_zone_range_Back Court Shot',\n",
    "       'shot_zone_range_Less Than 8 ft.', 'year_2013', 'year_2015',\n",
    "       'opponent_BKN', 'opponent_GSW', 'opponent_MIL', 'opponent_NJN',\n",
    "       'opponent_OKC', 'opponent_SEA', 'opponent_TOR', 'venue_away',\n",
    "       'venue_home']"
   ]
  },
  {
   "cell_type": "code",
   "execution_count": 10,
   "metadata": {
    "collapsed": false
   },
   "outputs": [
    {
     "data": {
      "text/plain": [
       "(25538, 82)"
      ]
     },
     "execution_count": 10,
     "metadata": {},
     "output_type": "execute_result"
    }
   ],
   "source": [
    "X_best = np.array(df_train[best_features])\n",
    "X_best.shape"
   ]
  },
  {
   "cell_type": "markdown",
   "metadata": {},
   "source": [
    "## Parameters Optimization\n",
    "  \n",
    "Next, we get the best parameters for the base estimator and the AdaBoost classifier.  \n",
    "In both cases, we'll use GridSearchCV"
   ]
  },
  {
   "cell_type": "code",
   "execution_count": 11,
   "metadata": {
    "collapsed": true
   },
   "outputs": [],
   "source": [
    "from sklearn.model_selection import GridSearchCV\n",
    "\n",
    "def get_best_params(model, X, y, param_grid, verbose=0):\n",
    "    ''' get the parameters that return the best score\n",
    "    parameters\n",
    "    ----------\n",
    "        model object\n",
    "            a supervised learning estimator\n",
    "        X    array\n",
    "            training set\n",
    "        y    array\n",
    "            target values\n",
    "        param_grid    dictionary\n",
    "            the list of parameters and their possible values\n",
    "    output\n",
    "    ------\n",
    "        best_params    dictionary\n",
    "            the best value for each parameter in initial list\n",
    "    '''\n",
    "    \n",
    "    scoring = 'neg_log_loss'\n",
    "    cv = 10\n",
    "    \n",
    "    grid = GridSearchCV(model, \n",
    "                        param_grid,\n",
    "                        scoring = scoring,\n",
    "                        n_jobs = 3,\n",
    "                        cv = cv,\n",
    "                        verbose = verbose)\n",
    "    \n",
    "    grid.fit(X,y)\n",
    "    \n",
    "    print(grid.best_score_)\n",
    "    print(grid.best_estimator_)"
   ]
  },
  {
   "cell_type": "code",
   "execution_count": 12,
   "metadata": {
    "collapsed": false,
    "scrolled": true
   },
   "outputs": [
    {
     "name": "stdout",
     "output_type": "stream",
     "text": [
      "Fitting 10 folds for each of 196 candidates, totalling 1960 fits\n"
     ]
    },
    {
     "name": "stderr",
     "output_type": "stream",
     "text": [
      "[Parallel(n_jobs=3)]: Done   2 tasks      | elapsed:    0.7s\n",
      "[Parallel(n_jobs=3)]: Done   7 tasks      | elapsed:    1.1s\n",
      "[Parallel(n_jobs=3)]: Done  12 tasks      | elapsed:    1.6s\n",
      "[Parallel(n_jobs=3)]: Done  19 tasks      | elapsed:    2.0s\n",
      "[Parallel(n_jobs=3)]: Done  26 tasks      | elapsed:    2.4s\n",
      "[Parallel(n_jobs=3)]: Done  35 tasks      | elapsed:    3.0s\n",
      "[Parallel(n_jobs=3)]: Done  44 tasks      | elapsed:    3.6s\n",
      "[Parallel(n_jobs=3)]: Done  55 tasks      | elapsed:    4.3s\n",
      "[Parallel(n_jobs=3)]: Done  66 tasks      | elapsed:    4.9s\n",
      "[Parallel(n_jobs=3)]: Done  79 tasks      | elapsed:    5.8s\n",
      "[Parallel(n_jobs=3)]: Done  92 tasks      | elapsed:    6.7s\n",
      "[Parallel(n_jobs=3)]: Done 107 tasks      | elapsed:    7.7s\n",
      "[Parallel(n_jobs=3)]: Done 122 tasks      | elapsed:    8.7s\n",
      "[Parallel(n_jobs=3)]: Done 139 tasks      | elapsed:    9.9s\n",
      "[Parallel(n_jobs=3)]: Done 156 tasks      | elapsed:   10.8s\n",
      "[Parallel(n_jobs=3)]: Done 175 tasks      | elapsed:   11.9s\n",
      "[Parallel(n_jobs=3)]: Done 194 tasks      | elapsed:   12.9s\n",
      "[Parallel(n_jobs=3)]: Done 215 tasks      | elapsed:   14.1s\n",
      "[Parallel(n_jobs=3)]: Done 236 tasks      | elapsed:   15.4s\n",
      "[Parallel(n_jobs=3)]: Done 259 tasks      | elapsed:   16.8s\n",
      "[Parallel(n_jobs=3)]: Done 282 tasks      | elapsed:   18.2s\n",
      "[Parallel(n_jobs=3)]: Done 307 tasks      | elapsed:   20.2s\n",
      "[Parallel(n_jobs=3)]: Done 332 tasks      | elapsed:   22.2s\n",
      "[Parallel(n_jobs=3)]: Done 359 tasks      | elapsed:   24.0s\n",
      "[Parallel(n_jobs=3)]: Done 386 tasks      | elapsed:   26.1s\n",
      "[Parallel(n_jobs=3)]: Done 415 tasks      | elapsed:   28.6s\n",
      "[Parallel(n_jobs=3)]: Done 444 tasks      | elapsed:   30.9s\n",
      "[Parallel(n_jobs=3)]: Done 475 tasks      | elapsed:   33.4s\n",
      "[Parallel(n_jobs=3)]: Done 506 tasks      | elapsed:   35.5s\n",
      "[Parallel(n_jobs=3)]: Done 539 tasks      | elapsed:   38.1s\n",
      "[Parallel(n_jobs=3)]: Done 572 tasks      | elapsed:   41.7s\n",
      "[Parallel(n_jobs=3)]: Done 607 tasks      | elapsed:   46.4s\n",
      "[Parallel(n_jobs=3)]: Done 642 tasks      | elapsed:   51.9s\n",
      "[Parallel(n_jobs=3)]: Done 679 tasks      | elapsed:   58.0s\n",
      "[Parallel(n_jobs=3)]: Done 716 tasks      | elapsed:  1.1min\n",
      "[Parallel(n_jobs=3)]: Done 755 tasks      | elapsed:  1.1min\n",
      "[Parallel(n_jobs=3)]: Done 794 tasks      | elapsed:  1.2min\n",
      "[Parallel(n_jobs=3)]: Done 835 tasks      | elapsed:  1.3min\n",
      "[Parallel(n_jobs=3)]: Done 876 tasks      | elapsed:  1.6min\n",
      "[Parallel(n_jobs=3)]: Done 919 tasks      | elapsed:  2.1min\n",
      "[Parallel(n_jobs=3)]: Done 962 tasks      | elapsed:  2.5min\n",
      "[Parallel(n_jobs=3)]: Done 1007 tasks      | elapsed:  2.9min\n",
      "[Parallel(n_jobs=3)]: Done 1052 tasks      | elapsed:  3.2min\n",
      "[Parallel(n_jobs=3)]: Done 1099 tasks      | elapsed:  3.5min\n",
      "[Parallel(n_jobs=3)]: Done 1146 tasks      | elapsed:  3.9min\n",
      "[Parallel(n_jobs=3)]: Done 1195 tasks      | elapsed:  4.4min\n",
      "[Parallel(n_jobs=3)]: Done 1244 tasks      | elapsed:  5.4min\n",
      "[Parallel(n_jobs=3)]: Done 1295 tasks      | elapsed:  5.7min\n",
      "[Parallel(n_jobs=3)]: Done 1346 tasks      | elapsed:  6.2min\n",
      "[Parallel(n_jobs=3)]: Done 1399 tasks      | elapsed:  6.6min\n",
      "[Parallel(n_jobs=3)]: Done 1452 tasks      | elapsed:  7.2min\n",
      "[Parallel(n_jobs=3)]: Done 1507 tasks      | elapsed:  7.5min\n",
      "[Parallel(n_jobs=3)]: Done 1562 tasks      | elapsed:  7.8min\n",
      "[Parallel(n_jobs=3)]: Done 1619 tasks      | elapsed:  8.3min\n",
      "[Parallel(n_jobs=3)]: Done 1676 tasks      | elapsed:  8.9min\n",
      "[Parallel(n_jobs=3)]: Done 1735 tasks      | elapsed:  9.5min\n",
      "[Parallel(n_jobs=3)]: Done 1794 tasks      | elapsed:  9.9min\n",
      "[Parallel(n_jobs=3)]: Done 1855 tasks      | elapsed: 10.2min\n",
      "[Parallel(n_jobs=3)]: Done 1916 tasks      | elapsed: 10.8min\n",
      "[Parallel(n_jobs=3)]: Done 1960 out of 1960 | elapsed: 11.2min finished\n"
     ]
    },
    {
     "name": "stdout",
     "output_type": "stream",
     "text": [
      "-0.556973046097\n",
      "LogisticRegression(C=0.1, class_weight=None, dual=False, fit_intercept=True,\n",
      "          intercept_scaling=1000, max_iter=100, multi_class='ovr',\n",
      "          n_jobs=1, penalty='l2', random_state=None, solver='liblinear',\n",
      "          tol=0.0001, verbose=0, warm_start=False)\n"
     ]
    }
   ],
   "source": [
    "# First I get the parameters I'll use with \n",
    "# the base estimator\n",
    "param_grid = {'solver': ['liblinear'],\n",
    "              'penalty': ['l1','l2'],\n",
    "              'C': [0.001, 0.01, 0.1, 1, 10, 100, 1000],\n",
    "              'fit_intercept': [True,False],\n",
    "              'intercept_scaling':[0.001, 0.01, 0.1, 1, 10, 100, 1000]\n",
    "              }\n",
    "\n",
    "get_best_params(LogisticRegression(), X_best, y, param_grid, 10)"
   ]
  },
  {
   "cell_type": "code",
   "execution_count": 13,
   "metadata": {
    "collapsed": false
   },
   "outputs": [],
   "source": [
    "lr = LogisticRegression(C=0.1, class_weight=None, dual=False, fit_intercept=True,\n",
    "          intercept_scaling=1000, max_iter=100, multi_class='ovr',\n",
    "          n_jobs=1, penalty='l2', random_state=None, solver='liblinear',\n",
    "          tol=0.0001, verbose=0, warm_start=False)"
   ]
  },
  {
   "cell_type": "code",
   "execution_count": 14,
   "metadata": {
    "collapsed": false,
    "scrolled": false
   },
   "outputs": [
    {
     "name": "stdout",
     "output_type": "stream",
     "text": [
      "Fitting 10 folds for each of 12 candidates, totalling 120 fits\n"
     ]
    },
    {
     "name": "stderr",
     "output_type": "stream",
     "text": [
      "[Parallel(n_jobs=3)]: Done   2 tasks      | elapsed:    1.5s\n",
      "[Parallel(n_jobs=3)]: Done   7 tasks      | elapsed:    3.4s\n",
      "[Parallel(n_jobs=3)]: Done  12 tasks      | elapsed:    8.0s\n",
      "[Parallel(n_jobs=3)]: Done  19 tasks      | elapsed:   18.6s\n",
      "[Parallel(n_jobs=3)]: Done  26 tasks      | elapsed:   39.5s\n",
      "[Parallel(n_jobs=3)]: Done  35 tasks      | elapsed:   48.6s\n",
      "[Parallel(n_jobs=3)]: Done  44 tasks      | elapsed:  1.0min\n",
      "[Parallel(n_jobs=3)]: Done  55 tasks      | elapsed:  1.6min\n",
      "[Parallel(n_jobs=3)]: Done  66 tasks      | elapsed:  1.8min\n",
      "[Parallel(n_jobs=3)]: Done  79 tasks      | elapsed:  2.0min\n",
      "[Parallel(n_jobs=3)]: Done  92 tasks      | elapsed:  2.6min\n",
      "[Parallel(n_jobs=3)]: Done 107 tasks      | elapsed:  2.8min\n",
      "[Parallel(n_jobs=3)]: Done 120 out of 120 | elapsed:  3.3min finished\n"
     ]
    },
    {
     "name": "stdout",
     "output_type": "stream",
     "text": [
      "-0.68582485882\n",
      "AdaBoostClassifier(algorithm='SAMME.R',\n",
      "          base_estimator=LogisticRegression(C=0.1, class_weight=None, dual=False, fit_intercept=True,\n",
      "          intercept_scaling=1000, max_iter=100, multi_class='ovr',\n",
      "          n_jobs=1, penalty='l2', random_state=None, solver='liblinear',\n",
      "          tol=0.0001, verbose=0, warm_start=False),\n",
      "          learning_rate=0.001, n_estimators=10, random_state=None)\n",
      "Ran in  200.38646125793457 seconds.\n"
     ]
    }
   ],
   "source": [
    "# Once I get the best parameters for the base estimator,\n",
    "# I can use it and find the best parameters of the AdaBoost\n",
    "param_grid = {\n",
    "    'n_estimators' : [10,50,100],\n",
    "    'learning_rate' : [0.001, 0.01, 0.1, 1]\n",
    "}\n",
    "\n",
    "starttime = time.time()\n",
    "\n",
    "get_best_params(AdaBoostClassifier(base_estimator = lr), X_best, y, param_grid, 10)\n",
    "\n",
    "print('Ran in ', time.time()-starttime, 'seconds.')"
   ]
  },
  {
   "cell_type": "code",
   "execution_count": 15,
   "metadata": {
    "collapsed": false
   },
   "outputs": [],
   "source": [
    "# I now have the best settings for my model. \n",
    "# I can initiate the classifier\n",
    "ada = AdaBoostClassifier(algorithm='SAMME.R',\n",
    "          base_estimator=LogisticRegression(C=0.1, class_weight=None, dual=False, fit_intercept=True,\n",
    "          intercept_scaling=1000, max_iter=100, multi_class='ovr',\n",
    "          n_jobs=1, penalty='l2', random_state=None, solver='liblinear',\n",
    "          tol=0.0001, verbose=0, warm_start=False),\n",
    "          learning_rate=0.001, n_estimators=10, random_state=None)"
   ]
  },
  {
   "cell_type": "markdown",
   "metadata": {},
   "source": [
    "## Predict Shots\n",
    "  \n",
    "We want to prevent leakage, therefore we have to make each prediction using only data prior to the shot."
   ]
  },
  {
   "cell_type": "code",
   "execution_count": null,
   "metadata": {
    "collapsed": true
   },
   "outputs": [],
   "source": [
    "# import the processed data\n",
    "df = pd.read_pickle('../input/processed_data.pickle')\n",
    "\n",
    "# remove game_date\n",
    "df.drop(['game_date'], axis=1, inplace=True)"
   ]
  }
 ],
 "metadata": {
  "anaconda-cloud": {},
  "kernelspec": {
   "display_name": "Python 3",
   "language": "python",
   "name": "python3"
  },
  "language_info": {
   "codemirror_mode": {
    "name": "ipython",
    "version": 3
   },
   "file_extension": ".py",
   "mimetype": "text/x-python",
   "name": "python",
   "nbconvert_exporter": "python",
   "pygments_lexer": "ipython3",
   "version": "3.6.0"
  }
 },
 "nbformat": 4,
 "nbformat_minor": 1
}
